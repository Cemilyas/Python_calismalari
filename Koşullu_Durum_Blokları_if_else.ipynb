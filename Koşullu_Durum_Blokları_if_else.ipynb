{
  "nbformat": 4,
  "nbformat_minor": 0,
  "metadata": {
    "colab": {
      "provenance": []
    },
    "kernelspec": {
      "name": "python3",
      "display_name": "Python 3"
    },
    "language_info": {
      "name": "python"
    }
  },
  "cells": [
    {
      "cell_type": "code",
      "execution_count": null,
      "metadata": {
        "colab": {
          "base_uri": "https://localhost:8080/"
        },
        "id": "Asek0nC-Zf8x",
        "outputId": "edc2f4d2-94f7-485f-ea78-3377ae6bc09f"
      },
      "outputs": [
        {
          "output_type": "stream",
          "name": "stdout",
          "text": [
            "3.10.12 (main, Sep 11 2024, 15:47:36) [GCC 11.4.0]\n"
          ]
        }
      ],
      "source": [
        "import sys\n",
        "print(sys.version)"
      ]
    },
    {
      "cell_type": "code",
      "source": [
        "from google.colab import drive\n",
        "drive.mount('/content/drive')"
      ],
      "metadata": {
        "colab": {
          "base_uri": "https://localhost:8080/"
        },
        "id": "sR05KvkPZv8b",
        "outputId": "4b8263cf-4657-4a14-e3ae-24ef6185c0c9"
      },
      "execution_count": null,
      "outputs": [
        {
          "output_type": "stream",
          "name": "stdout",
          "text": [
            "Mounted at /content/drive\n"
          ]
        }
      ]
    },
    {
      "cell_type": "code",
      "source": [
        "import os\n",
        "os.chdir('/content/drive/My Drive/KURS_CALISMALARIM')\n",
        "!pwd # bize kodun çıktısını dosya yolu olarak veren kod blogudur.')"
      ],
      "metadata": {
        "colab": {
          "base_uri": "https://localhost:8080/"
        },
        "id": "mF7nG2wKZ2Ap",
        "outputId": "9282a158-e1f7-495a-a0bd-2bf810fd7a63"
      },
      "execution_count": null,
      "outputs": [
        {
          "output_type": "stream",
          "name": "stdout",
          "text": [
            "/content/drive/My Drive/KURS_CALISMALARIM\n"
          ]
        }
      ]
    },
    {
      "cell_type": "markdown",
      "source": [
        "if BLOĞU\n"
      ],
      "metadata": {
        "id": "-zjdM-jOaAID"
      }
    },
    {
      "cell_type": "code",
      "source": [
        "# if bloğu koşul sağlanınca (True çalışır) , bu hizadaki bütün işlemler if bloğuna aittir\n",
        "# if bloğu girintiyle oluşturulur\n",
        "\n",
        "yas = int(input(\"Yaş giriniz: \"))\n",
        "if 18 < yas < 35:\n",
        "   print(\"Yaşınız uygun\")"
      ],
      "metadata": {
        "colab": {
          "base_uri": "https://localhost:8080/"
        },
        "id": "QrN0QlzrZ9xp",
        "outputId": "3993c46e-6dde-48b7-ae6f-2af93db7345b"
      },
      "execution_count": null,
      "outputs": [
        {
          "output_type": "stream",
          "name": "stdout",
          "text": [
            "Yaş giriniz: 19\n",
            "Yaşınız uygun\n"
          ]
        }
      ]
    },
    {
      "cell_type": "markdown",
      "source": [
        "ELSE BLOĞU"
      ],
      "metadata": {
        "id": "z2elaeidcErU"
      }
    },
    {
      "cell_type": "code",
      "source": [
        "# else bloğu if blokları çalışmadığı zaman çalışan (false) bloğudur\n",
        "# else bloğu yukarısında herhangi bir if bloğu veya elif bloğu çalışmadığı zaman çalışır\n",
        "\n",
        "yas = int(input(\"Yaş giriniz: \"))\n",
        "if 18 < yas < 35:\n",
        "  print(\"Yaşınız uygun\")\n",
        "else:\n",
        "  print(\"Yaşınız uygun değil! \")"
      ],
      "metadata": {
        "colab": {
          "base_uri": "https://localhost:8080/"
        },
        "id": "KYLi5G2qbfkh",
        "outputId": "38f81259-23d7-4b0a-eb92-79c04cf02e14"
      },
      "execution_count": 1,
      "outputs": [
        {
          "output_type": "stream",
          "name": "stdout",
          "text": [
            "Yaş giriniz: 19\n",
            "Yaşınız uygun\n"
          ]
        }
      ]
    },
    {
      "cell_type": "markdown",
      "source": [
        "ALIŞTIRMA"
      ],
      "metadata": {
        "id": "PyMm_DuydAi4"
      }
    },
    {
      "cell_type": "code",
      "source": [
        "sayı = int(input(\"Bir rakam giriniz: \"))\n",
        "\n",
        "if -1 < sayı < 10:\n",
        "  print(\"Girilen ifade rakamdır\")\n",
        "else:\n",
        "  print(\"Girilen ifade rakam değildir! \")\n",
        "\n",
        "\n",
        "\n"
      ],
      "metadata": {
        "colab": {
          "base_uri": "https://localhost:8080/"
        },
        "id": "2rE6qWcCc82R",
        "outputId": "a5bce65e-6c8c-40e1-c01b-04d78a296108"
      },
      "execution_count": 2,
      "outputs": [
        {
          "output_type": "stream",
          "name": "stdout",
          "text": [
            "Bir rakam giriniz: 8\n",
            "Girilen ifade rakamdır\n"
          ]
        }
      ]
    },
    {
      "cell_type": "markdown",
      "source": [
        "if - else - elif\n",
        "\n",
        "BLOKLARI"
      ],
      "metadata": {
        "id": "tkSCgKEzmVXo"
      }
    },
    {
      "cell_type": "code",
      "source": [
        "konu = input(\"Konu giriniz: \")\n",
        "if konu == \"1\":\n",
        "  print(\"Konu 1 seçildi\")\n",
        "elif konu == \"2\":\n",
        "  print(\"Konu 2 seçildi\")\n",
        "elif konu == \"3\":\n",
        "  print(\"Konu 3 seçildi\")\n",
        "else:\n",
        "  print(\"Seçilen konu mevcut değil!\")"
      ],
      "metadata": {
        "colab": {
          "base_uri": "https://localhost:8080/"
        },
        "id": "VDEtaFDHmTff",
        "outputId": "a8322f79-44d9-4309-9bd2-418c3cec9046"
      },
      "execution_count": 6,
      "outputs": [
        {
          "output_type": "stream",
          "name": "stdout",
          "text": [
            "Konu giriniz: 4\n",
            "Seçilen konu mevcut değil!\n"
          ]
        }
      ]
    },
    {
      "cell_type": "code",
      "source": [],
      "metadata": {
        "id": "A_Ky7QQYtell"
      },
      "execution_count": 5,
      "outputs": []
    }
  ]
}