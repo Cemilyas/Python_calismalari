{
  "nbformat": 4,
  "nbformat_minor": 0,
  "metadata": {
    "colab": {
      "provenance": []
    },
    "kernelspec": {
      "name": "python3",
      "display_name": "Python 3"
    },
    "language_info": {
      "name": "python"
    }
  },
  "cells": [
    {
      "cell_type": "code",
      "execution_count": 1,
      "metadata": {
        "colab": {
          "base_uri": "https://localhost:8080/"
        },
        "id": "PAJ_GhlS_-tR",
        "outputId": "9c23951d-12bf-4f65-f5e3-669d572538ec"
      },
      "outputs": [
        {
          "output_type": "stream",
          "name": "stdout",
          "text": [
            "3.10.12 (main, Sep 11 2024, 15:47:36) [GCC 11.4.0]\n"
          ]
        }
      ],
      "source": [
        "import sys\n",
        "print(sys.version)"
      ]
    },
    {
      "cell_type": "code",
      "source": [
        "from google.colab import drive\n",
        "drive.mount('/content/drive')"
      ],
      "metadata": {
        "colab": {
          "base_uri": "https://localhost:8080/"
        },
        "id": "DNmekjOYAGLw",
        "outputId": "6e9eee46-907f-4c45-c895-27313456cd43"
      },
      "execution_count": 2,
      "outputs": [
        {
          "output_type": "stream",
          "name": "stdout",
          "text": [
            "Mounted at /content/drive\n"
          ]
        }
      ]
    },
    {
      "cell_type": "code",
      "source": [
        "import os\n",
        "os.chdir('/content/drive/My Drive/KURS_CALISMALARIM')\n",
        "!pwd # bize kodun çıktısını dosya yolu olarak veren kod blogudur.')\n"
      ],
      "metadata": {
        "colab": {
          "base_uri": "https://localhost:8080/"
        },
        "id": "YbeyfobkAPDA",
        "outputId": "1d688dc3-1330-4885-cd38-a9bc2fd75b99"
      },
      "execution_count": 3,
      "outputs": [
        {
          "output_type": "stream",
          "name": "stdout",
          "text": [
            "/content/drive/My Drive/KURS_CALISMALARIM\n"
          ]
        }
      ]
    },
    {
      "cell_type": "markdown",
      "source": [
        "*** Lambda İfadesi ile Fonksiyon Tanımlama ***"
      ],
      "metadata": {
        "id": "wx87HLz3Ak6D"
      }
    },
    {
      "cell_type": "code",
      "source": [
        "def dortilecarp(x):\n",
        "  return x * 4\n",
        "\n",
        "print(dortilecarp(4))"
      ],
      "metadata": {
        "colab": {
          "base_uri": "https://localhost:8080/"
        },
        "id": "hDoGTnpEA36p",
        "outputId": "6547c7ba-b545-4c71-f98e-4bba153d8dcb"
      },
      "execution_count": 7,
      "outputs": [
        {
          "output_type": "stream",
          "name": "stdout",
          "text": [
            "16\n"
          ]
        }
      ]
    },
    {
      "cell_type": "code",
      "source": [
        "# Yukarıdaki yaptığımız işlemi lambda fonksiyonu ile bu şekilde de yapabiliriz\n",
        "\n",
        "dortilecarp = lambda x : x * 4\n",
        "\n",
        "print(dortilecarp(4))"
      ],
      "metadata": {
        "colab": {
          "base_uri": "https://localhost:8080/"
        },
        "id": "oOYQKJtEAi-E",
        "outputId": "c910133a-1c76-4019-ffb0-aad572d2fa5e"
      },
      "execution_count": 8,
      "outputs": [
        {
          "output_type": "stream",
          "name": "stdout",
          "text": [
            "16\n"
          ]
        }
      ]
    },
    {
      "cell_type": "code",
      "source": [
        "def islemler(x,y,z):\n",
        "  return x + y + z\n",
        "\n",
        "print(islemler(10,12,14))"
      ],
      "metadata": {
        "colab": {
          "base_uri": "https://localhost:8080/"
        },
        "id": "71-aBhxFCYe-",
        "outputId": "63b0d027-c6f3-47a8-d1be-196c8fe0567d"
      },
      "execution_count": 11,
      "outputs": [
        {
          "output_type": "stream",
          "name": "stdout",
          "text": [
            "36\n"
          ]
        }
      ]
    },
    {
      "cell_type": "code",
      "source": [
        "# Yukarıdaki yaptığımız işlemi lambda fonksiyonu ile bu şekilde de yapabiliriz\n",
        "\n",
        "islemler = lambda x,y,z: x + y + z\n",
        "\n",
        "print(islemler(10,12,14))"
      ],
      "metadata": {
        "colab": {
          "base_uri": "https://localhost:8080/"
        },
        "id": "fB6pEz-vDQ1J",
        "outputId": "5d779a6c-34cd-4a6e-d261-efbd9351aec7"
      },
      "execution_count": 13,
      "outputs": [
        {
          "output_type": "stream",
          "name": "stdout",
          "text": [
            "36\n"
          ]
        }
      ]
    },
    {
      "cell_type": "code",
      "source": [
        "def terscevir(m):\n",
        "  return m[::-1]\n",
        "\n",
        "print(terscevir(\"Cemil\"))"
      ],
      "metadata": {
        "colab": {
          "base_uri": "https://localhost:8080/"
        },
        "id": "FZ23sdx9DnG8",
        "outputId": "c75efd49-c833-4f81-ebe0-15691958e495"
      },
      "execution_count": 14,
      "outputs": [
        {
          "output_type": "stream",
          "name": "stdout",
          "text": [
            "limeC\n"
          ]
        }
      ]
    },
    {
      "cell_type": "code",
      "source": [
        "# Yukarıdaki yaptığımız işlemi lambda fonksiyonu ile bu şekilde de yapabiliriz\n",
        "\n",
        "terscevir = lambda m: m[::-1]\n",
        "\n",
        "print(terscevir(\"Cemil\"))"
      ],
      "metadata": {
        "colab": {
          "base_uri": "https://localhost:8080/"
        },
        "id": "uujFe-M2D3kh",
        "outputId": "2b30d36d-8ac6-4d80-81db-5d17cda58fcd"
      },
      "execution_count": 15,
      "outputs": [
        {
          "output_type": "stream",
          "name": "stdout",
          "text": [
            "limeC\n"
          ]
        }
      ]
    },
    {
      "cell_type": "code",
      "source": [
        "def cifttek(k):\n",
        "  return k % 2 == 0"
      ],
      "metadata": {
        "id": "15C8BbtvECKi"
      },
      "execution_count": 17,
      "outputs": []
    },
    {
      "cell_type": "code",
      "source": [
        "print(cifttek(10))"
      ],
      "metadata": {
        "colab": {
          "base_uri": "https://localhost:8080/"
        },
        "id": "qgfBXXrpGYLl",
        "outputId": "62728c68-f470-4803-d887-e1c92bf81c5e"
      },
      "execution_count": 18,
      "outputs": [
        {
          "output_type": "stream",
          "name": "stdout",
          "text": [
            "True\n"
          ]
        }
      ]
    },
    {
      "cell_type": "code",
      "source": [
        "print(cifttek(9))"
      ],
      "metadata": {
        "colab": {
          "base_uri": "https://localhost:8080/"
        },
        "id": "R1mKWX2rGdNN",
        "outputId": "7f2731dd-9305-4854-aef7-5a33c12b7797"
      },
      "execution_count": 19,
      "outputs": [
        {
          "output_type": "stream",
          "name": "stdout",
          "text": [
            "False\n"
          ]
        }
      ]
    },
    {
      "cell_type": "code",
      "source": [
        "# Yukarıdaki yaptığımız işlemi lambda fonksiyonu ile bu şekilde de yapabiliriz\n",
        "\n",
        "cifttek = lambda k: k % 2 == 0\n",
        "print(cifttek(10))"
      ],
      "metadata": {
        "colab": {
          "base_uri": "https://localhost:8080/"
        },
        "id": "wzCFpxH2GeoG",
        "outputId": "6590c770-dc49-44eb-9b36-59d779e8f1ee"
      },
      "execution_count": 20,
      "outputs": [
        {
          "output_type": "stream",
          "name": "stdout",
          "text": [
            "True\n"
          ]
        }
      ]
    },
    {
      "cell_type": "code",
      "source": [],
      "metadata": {
        "id": "GtOmA10fGszM"
      },
      "execution_count": null,
      "outputs": []
    }
  ]
}