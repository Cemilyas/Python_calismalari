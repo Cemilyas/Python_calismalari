{
  "nbformat": 4,
  "nbformat_minor": 0,
  "metadata": {
    "colab": {
      "provenance": []
    },
    "kernelspec": {
      "name": "python3",
      "display_name": "Python 3"
    },
    "language_info": {
      "name": "python"
    }
  },
  "cells": [
    {
      "cell_type": "code",
      "execution_count": 1,
      "metadata": {
        "colab": {
          "base_uri": "https://localhost:8080/"
        },
        "id": "eb1XbpEzS7wM",
        "outputId": "2b7dc414-dc0a-493c-9fd4-7f028cbabe68"
      },
      "outputs": [
        {
          "output_type": "stream",
          "name": "stdout",
          "text": [
            "3.10.12 (main, Sep 11 2024, 15:47:36) [GCC 11.4.0]\n"
          ]
        }
      ],
      "source": [
        "import sys\n",
        "print(sys.version)"
      ]
    },
    {
      "cell_type": "code",
      "source": [
        "from google.colab import drive\n",
        "drive.mount('/content/drive')"
      ],
      "metadata": {
        "colab": {
          "base_uri": "https://localhost:8080/"
        },
        "id": "IKmtf2yvTD1j",
        "outputId": "f376cf7e-e0c2-4a70-a8d8-30d8a56ba689"
      },
      "execution_count": 2,
      "outputs": [
        {
          "output_type": "stream",
          "name": "stdout",
          "text": [
            "Mounted at /content/drive\n"
          ]
        }
      ]
    },
    {
      "cell_type": "code",
      "source": [
        "import os\n",
        "os.chdir('/content/drive/My Drive/KURS_CALISMALARIM')\n",
        "!pwd # bize kodun çıktısını dosya yolu olarak veren kod blogudur.')"
      ],
      "metadata": {
        "colab": {
          "base_uri": "https://localhost:8080/"
        },
        "id": "Uux9nfG5TOZN",
        "outputId": "35f3b1a0-e08a-4cee-b347-c29ffdd691b8"
      },
      "execution_count": 3,
      "outputs": [
        {
          "output_type": "stream",
          "name": "stdout",
          "text": [
            "/content/drive/My Drive/KURS_CALISMALARIM\n"
          ]
        }
      ]
    },
    {
      "cell_type": "code",
      "source": [
        "# KİŞİ BİLGİLERİNİ KAYDEDEN PROGRAM"
      ],
      "metadata": {
        "id": "yqaDtr4pTl3C"
      },
      "execution_count": null,
      "outputs": []
    },
    {
      "cell_type": "code",
      "source": [
        "print(\"Hoşgeldiniz\\nDevam edebilmek için sisteme giriş yapmalısınız.\\n\")\n",
        "\n",
        "isim = input(\"Kullanıcı adı:\")\n",
        "soy_isim = input(\"Kullanıcı Soyadı:\")\n",
        "okul = input(\"Kullanıcının mezun olduğu okul ismi:\")\n",
        "\n",
        "Liste = [isim,soy_isim,okul]\n",
        "\n",
        "print(\"Sisteme giriş yapılıyor....\\nLütfen bekleyiniz.\\n\")\n",
        "\n",
        "print(\"İsim: {}\\nSoyisim: {}\\nOkulu: {}\".format(Liste[0],Liste[1],Liste[2]))\n",
        "print(\"Sisteme giriş başarılı\\nİyi günler dileriz.\")\n",
        "\n",
        "\n"
      ],
      "metadata": {
        "colab": {
          "base_uri": "https://localhost:8080/"
        },
        "id": "hx5A9RtETv25",
        "outputId": "d04eed94-d15e-4dc3-ac4a-ca723702b0d6"
      },
      "execution_count": 11,
      "outputs": [
        {
          "output_type": "stream",
          "name": "stdout",
          "text": [
            "Hoşgeldiniz\n",
            "Devam edebilmek için sisteme giriş yapmalısınız.\n",
            "\n",
            "Kullanıcı adı:Cemil\n",
            "Kullanıcı Soyadı:İlyas\n",
            "Kullanıcının mezun olduğu okul ismi:Gelişim Üniversitesi\n",
            "Sisteme giriş yapılıyor....\n",
            "Lütfen bekleyiniz.\n",
            "\n",
            "İsim: Cemil\n",
            "Soyisim: İlyas\n",
            "Okulu: Gelişim Üniversitesi\n",
            "Sisteme giriş başarılı\n",
            "İyi günler dileriz.\n"
          ]
        }
      ]
    },
    {
      "cell_type": "code",
      "source": [
        "# 2.DERECEDEN DENKLEMİN KÖKLERİNİ BULDURAN PROGRAM"
      ],
      "metadata": {
        "id": "XPI0EoaQV2N7"
      },
      "execution_count": null,
      "outputs": []
    },
    {
      "cell_type": "code",
      "source": [
        "a = int(input(\"a:\"))\n",
        "b = int(input(\"b:\"))\n",
        "c = int(input(\"c:\"))\n",
        "\n",
        "delt = b**2 - 4*a*c\n",
        "\n",
        "x1 = -b -delta**0.5 / 2*a\n",
        "x2 = -b +delta**0.5 / 2*a\n",
        "\n",
        "print(\"Kök1: {}\\nKök2: {}\".format(x1,x2))\n"
      ],
      "metadata": {
        "colab": {
          "base_uri": "https://localhost:8080/"
        },
        "id": "FVPeXwXUX0tJ",
        "outputId": "633b0108-2c5d-44c7-dfb3-2ef8382611ab"
      },
      "execution_count": 25,
      "outputs": [
        {
          "output_type": "stream",
          "name": "stdout",
          "text": [
            "a:6\n",
            "b:4\n",
            "c:2\n",
            "Kök1: (-4.000000000000002-26.153393661244046j)\n",
            "Kök2: (-3.9999999999999982+26.153393661244046j)\n"
          ]
        }
      ]
    }
  ]
}