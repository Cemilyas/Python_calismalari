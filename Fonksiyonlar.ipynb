{
  "nbformat": 4,
  "nbformat_minor": 0,
  "metadata": {
    "colab": {
      "provenance": []
    },
    "kernelspec": {
      "name": "python3",
      "display_name": "Python 3"
    },
    "language_info": {
      "name": "python"
    }
  },
  "cells": [
    {
      "cell_type": "code",
      "execution_count": null,
      "metadata": {
        "colab": {
          "base_uri": "https://localhost:8080/"
        },
        "id": "a2ka5XJ1io7l",
        "outputId": "9a22f48b-ba50-465b-b541-5eeab9c1b58b"
      },
      "outputs": [
        {
          "output_type": "stream",
          "name": "stdout",
          "text": [
            "3.10.12 (main, Sep 11 2024, 15:47:36) [GCC 11.4.0]\n"
          ]
        }
      ],
      "source": [
        "import sys\n",
        "print(sys.version)"
      ]
    },
    {
      "cell_type": "code",
      "source": [
        "from google.colab import drive\n",
        "drive.mount('/content/drive')"
      ],
      "metadata": {
        "colab": {
          "base_uri": "https://localhost:8080/"
        },
        "id": "a-X8PAwYizWD",
        "outputId": "b4e5c661-a1c4-4b41-ed97-ad366eb46618"
      },
      "execution_count": null,
      "outputs": [
        {
          "output_type": "stream",
          "name": "stdout",
          "text": [
            "Mounted at /content/drive\n"
          ]
        }
      ]
    },
    {
      "cell_type": "code",
      "source": [
        "import os\n",
        "os.chdir('/content/drive/My Drive/KURS_CALISMALARIM')\n",
        "!pwd # bize kodun çıktısını dosya yolu olarak veren kod blogudur.')"
      ],
      "metadata": {
        "colab": {
          "base_uri": "https://localhost:8080/"
        },
        "id": "iZLjLMtRi4yy",
        "outputId": "fa4c379c-dd2d-4145-e230-3f55aa9a1dca"
      },
      "execution_count": null,
      "outputs": [
        {
          "output_type": "stream",
          "name": "stdout",
          "text": [
            "/content/drive/My Drive/KURS_CALISMALARIM\n"
          ]
        }
      ]
    },
    {
      "cell_type": "code",
      "source": [
        "type(soru)  # islem diye belirttiğimiz ifade bir değere eşit olmadığı için type komutunda hata alıyoruz."
      ],
      "metadata": {
        "colab": {
          "base_uri": "https://localhost:8080/",
          "height": 141
        },
        "id": "erf5tf7ljLcx",
        "outputId": "211ca9fb-01cb-4b72-b4e7-26ff7641e29f"
      },
      "execution_count": null,
      "outputs": [
        {
          "output_type": "error",
          "ename": "NameError",
          "evalue": "name 'soru' is not defined",
          "traceback": [
            "\u001b[0;31m---------------------------------------------------------------------------\u001b[0m",
            "\u001b[0;31mNameError\u001b[0m                                 Traceback (most recent call last)",
            "\u001b[0;32m<ipython-input-7-3b6882765bdd>\u001b[0m in \u001b[0;36m<cell line: 1>\u001b[0;34m()\u001b[0m\n\u001b[0;32m----> 1\u001b[0;31m \u001b[0mtype\u001b[0m\u001b[0;34m(\u001b[0m\u001b[0msoru\u001b[0m\u001b[0;34m)\u001b[0m  \u001b[0;31m# islem diye belirttiğimiz ifade bir değere eşit olmadığı için type komutunda hata alıyoruz.\u001b[0m\u001b[0;34m\u001b[0m\u001b[0;34m\u001b[0m\u001b[0m\n\u001b[0m",
            "\u001b[0;31mNameError\u001b[0m: name 'soru' is not defined"
          ]
        }
      ]
    },
    {
      "cell_type": "code",
      "source": [
        "# \"islem\" ifadesini bir fonksiyon olarak tanımladığımız için artık type'ı sonuç veriyor.\n",
        "\n",
        "def soru():\n",
        "  print(\"-Cemil ilyas\")\n",
        "  print(\"-fonksiyonlar\")"
      ],
      "metadata": {
        "id": "V9boB2n3pAHX"
      },
      "execution_count": null,
      "outputs": []
    },
    {
      "cell_type": "code",
      "source": [
        "type(soru) # islem ifadesinin type'ı öğrenildi"
      ],
      "metadata": {
        "colab": {
          "base_uri": "https://localhost:8080/"
        },
        "id": "7subsCBIpme1",
        "outputId": "6650525f-f2b3-4ad7-a867-68092357e172"
      },
      "execution_count": null,
      "outputs": [
        {
          "output_type": "execute_result",
          "data": {
            "text/plain": [
              "function"
            ]
          },
          "metadata": {},
          "execution_count": 12
        }
      ]
    },
    {
      "cell_type": "code",
      "source": [
        "soru() # ifadesi artık bir değer veriyor"
      ],
      "metadata": {
        "colab": {
          "base_uri": "https://localhost:8080/"
        },
        "id": "2JwR5qW_rH0k",
        "outputId": "d4629448-d55f-4812-83fb-f8edf706c24c"
      },
      "execution_count": null,
      "outputs": [
        {
          "output_type": "stream",
          "name": "stdout",
          "text": [
            "-Cemil ilyas\n",
            "-fonksiyonlar\n"
          ]
        }
      ]
    },
    {
      "cell_type": "code",
      "source": [
        "def sual(isim,yas,meslek):    # bu girdileri buraya tanımladık ve sual fonksiyonunu çalıştırırken içine istediğimiz ifadeyi yazıcaz ve asağıdaki belirtilen sorulara karşılık gelicek.\n",
        "  print(\"isim: {} - yas: {} - meslek: {} \".format(isim,yas,meslek))"
      ],
      "metadata": {
        "id": "ZVrGbpeCr28B"
      },
      "execution_count": null,
      "outputs": []
    },
    {
      "cell_type": "code",
      "source": [
        "sual(\"Cemil\",22,\"Yazılımcı\")  # fonksiyon çalıştı"
      ],
      "metadata": {
        "colab": {
          "base_uri": "https://localhost:8080/"
        },
        "id": "dCp4zw4ytEhD",
        "outputId": "76ce3f4c-7fb8-4d79-d11f-667ece83cb8e"
      },
      "execution_count": null,
      "outputs": [
        {
          "output_type": "stream",
          "name": "stdout",
          "text": [
            "isim: Cemil - yas: 22 - meslek: Yazılımcı \n"
          ]
        }
      ]
    },
    {
      "cell_type": "code",
      "source": [
        "# pratik\n",
        "\n",
        "def islem(a,b):\n",
        "  print(\"{} x {} = {} \".format(a,b,a * b))"
      ],
      "metadata": {
        "id": "X141fQGCtL7t"
      },
      "execution_count": null,
      "outputs": []
    },
    {
      "cell_type": "code",
      "source": [
        "islem(2,3)"
      ],
      "metadata": {
        "colab": {
          "base_uri": "https://localhost:8080/"
        },
        "id": "Ayv9z5X7t2kR",
        "outputId": "55fdf5f8-01b6-4a9c-ea01-217131313e02"
      },
      "execution_count": null,
      "outputs": [
        {
          "output_type": "stream",
          "name": "stdout",
          "text": [
            "2 x 3 = 6 \n"
          ]
        }
      ]
    },
    {
      "cell_type": "code",
      "source": [
        "# fonksiyon ile faktöriyel hesaplama\n",
        "\n",
        "def faktöriyel(sayi):\n",
        "\n",
        "  faktöriyel = 1\n",
        "  if (sayi == 0 or sayi == 1):\n",
        "    print(\"Faktöriyel: \",faktöriyel)\n",
        "  else:\n",
        "    while (sayi >= 1):\n",
        "     faktöriyel *= sayi\n",
        "     sayi -= 1\n",
        "  print(\"Faktöriyel değeri: {}\".format(faktöriyel))\n",
        "\n",
        "\n"
      ],
      "metadata": {
        "id": "Vq8qwqXkt4Wo"
      },
      "execution_count": null,
      "outputs": []
    },
    {
      "cell_type": "code",
      "source": [
        "faktöriyel(5)"
      ],
      "metadata": {
        "colab": {
          "base_uri": "https://localhost:8080/"
        },
        "id": "C-pURHH5wDQM",
        "outputId": "a8e0a948-f873-4811-cc9d-db848263bfad"
      },
      "execution_count": null,
      "outputs": [
        {
          "output_type": "stream",
          "name": "stdout",
          "text": [
            "Faktöriyel değeri: 120\n"
          ]
        }
      ]
    },
    {
      "cell_type": "markdown",
      "source": [
        "*********** RETURN() OPERATÖRÜ **********"
      ],
      "metadata": {
        "id": "DE24_RNA_th9"
      }
    },
    {
      "cell_type": "code",
      "source": [
        "def islem (a):\n",
        "  print(a * 2) # print komutu ile işlem sonuç alır fakat sürekli kullanılamaz."
      ],
      "metadata": {
        "id": "KPsisGu9AfKN"
      },
      "execution_count": null,
      "outputs": []
    },
    {
      "cell_type": "code",
      "source": [
        "def islem2(a):\n",
        "  return a * 2 # fakat return kullanılırsa işlem cevabı ilerki işlemlerde de devamlılık sürdürür."
      ],
      "metadata": {
        "id": "2EXrntYOJQ_-"
      },
      "execution_count": null,
      "outputs": []
    },
    {
      "cell_type": "code",
      "source": [
        "print(islem2(islem(5))) # islem fonksiyonunda print ile ifade ettiğimiz için sonucu diğer fonksiyona taşıyamadık."
      ],
      "metadata": {
        "colab": {
          "base_uri": "https://localhost:8080/",
          "height": 228
        },
        "id": "CE_xVrBgJ3S-",
        "outputId": "e66d0730-0b9e-47dd-92e9-bea799df94ff"
      },
      "execution_count": null,
      "outputs": [
        {
          "output_type": "stream",
          "name": "stdout",
          "text": [
            "10\n"
          ]
        },
        {
          "output_type": "error",
          "ename": "TypeError",
          "evalue": "unsupported operand type(s) for *: 'NoneType' and 'int'",
          "traceback": [
            "\u001b[0;31m---------------------------------------------------------------------------\u001b[0m",
            "\u001b[0;31mTypeError\u001b[0m                                 Traceback (most recent call last)",
            "\u001b[0;32m<ipython-input-10-a1d76a51942f>\u001b[0m in \u001b[0;36m<cell line: 1>\u001b[0;34m()\u001b[0m\n\u001b[0;32m----> 1\u001b[0;31m \u001b[0mprint\u001b[0m\u001b[0;34m(\u001b[0m\u001b[0mislem2\u001b[0m\u001b[0;34m(\u001b[0m\u001b[0mislem\u001b[0m\u001b[0;34m(\u001b[0m\u001b[0;36m5\u001b[0m\u001b[0;34m)\u001b[0m\u001b[0;34m)\u001b[0m\u001b[0;34m)\u001b[0m\u001b[0;34m\u001b[0m\u001b[0;34m\u001b[0m\u001b[0m\n\u001b[0m",
            "\u001b[0;32m<ipython-input-6-f88a462d09d6>\u001b[0m in \u001b[0;36mislem2\u001b[0;34m(a)\u001b[0m\n\u001b[1;32m      1\u001b[0m \u001b[0;32mdef\u001b[0m \u001b[0mislem2\u001b[0m\u001b[0;34m(\u001b[0m\u001b[0ma\u001b[0m\u001b[0;34m)\u001b[0m\u001b[0;34m:\u001b[0m\u001b[0;34m\u001b[0m\u001b[0;34m\u001b[0m\u001b[0m\n\u001b[0;32m----> 2\u001b[0;31m   \u001b[0;32mreturn\u001b[0m \u001b[0ma\u001b[0m \u001b[0;34m*\u001b[0m \u001b[0;36m2\u001b[0m\u001b[0;34m\u001b[0m\u001b[0;34m\u001b[0m\u001b[0m\n\u001b[0m",
            "\u001b[0;31mTypeError\u001b[0m: unsupported operand type(s) for *: 'NoneType' and 'int'"
          ]
        }
      ]
    },
    {
      "cell_type": "code",
      "source": [
        "def carpma(a):\n",
        "  return a * 2\n"
      ],
      "metadata": {
        "id": "cYnwyj8Z_s_a"
      },
      "execution_count": null,
      "outputs": []
    },
    {
      "cell_type": "code",
      "source": [
        "def toplama(a):\n",
        "  return a + 2"
      ],
      "metadata": {
        "id": "bFm7N4nLAEax"
      },
      "execution_count": null,
      "outputs": []
    },
    {
      "cell_type": "code",
      "source": [
        "def cikarma(a):\n",
        "  return a - 2"
      ],
      "metadata": {
        "id": "h8_nX2nvAJcA"
      },
      "execution_count": null,
      "outputs": []
    },
    {
      "cell_type": "code",
      "source": [
        "print(cikarma(toplama(carpma(5))))"
      ],
      "metadata": {
        "colab": {
          "base_uri": "https://localhost:8080/"
        },
        "id": "6RCZHJZIAO_M",
        "outputId": "cc109ec8-532f-4955-e326-4cd2688b7145"
      },
      "execution_count": null,
      "outputs": [
        {
          "output_type": "stream",
          "name": "stdout",
          "text": [
            "10\n"
          ]
        }
      ]
    },
    {
      "cell_type": "code",
      "source": [
        "# alıştırma\n",
        "\n",
        "def toplama1(a):\n",
        "  print(\"Toplama sonucu: {} \".format(a))  # print ifadesi returndan önce kullanıldığı için çıktıda okunuyor.\n",
        "  return a + 2                            # return() ifadesinden sonra gelicek print ifadesi okunmayacaktı."
      ],
      "metadata": {
        "id": "34szJLnMKTi1"
      },
      "execution_count": null,
      "outputs": []
    },
    {
      "cell_type": "code",
      "source": [
        "def carpma1(a):\n",
        "  print(\"Çarpma sonucu: {} \".format(a))\n",
        "  return a * 10"
      ],
      "metadata": {
        "id": "NQ4Bo_P9KoEb"
      },
      "execution_count": null,
      "outputs": []
    },
    {
      "cell_type": "code",
      "source": [
        "print(carpma1(toplama1(3)))"
      ],
      "metadata": {
        "colab": {
          "base_uri": "https://localhost:8080/"
        },
        "id": "ApFGb9cwK0uo",
        "outputId": "dfe52c3a-0574-4642-de0b-96f91ecf1245"
      },
      "execution_count": null,
      "outputs": [
        {
          "output_type": "stream",
          "name": "stdout",
          "text": [
            "Toplama sonucu: 3 \n",
            "Çarpma sonucu: 5 \n",
            "50\n"
          ]
        }
      ]
    },
    {
      "cell_type": "markdown",
      "source": [
        "*** Parametreler ***"
      ],
      "metadata": {
        "id": "f5lQ08JzN0_9"
      }
    },
    {
      "cell_type": "code",
      "source": [
        "def name(isim = \"İsim belirtilmedi\"):  # Burada fonksiyonu yazarken name() ifadesinin içine herhangi bir şey yazmazsak çıkıcak default değeri tanımladık.\n",
        "  print(\"Merhaba \", isim)"
      ],
      "metadata": {
        "id": "CtmEAEelLKHR"
      },
      "execution_count": null,
      "outputs": []
    },
    {
      "cell_type": "code",
      "source": [
        "name()"
      ],
      "metadata": {
        "colab": {
          "base_uri": "https://localhost:8080/"
        },
        "id": "Z_OYqTwsOdZO",
        "outputId": "0770dbe1-1546-4ae1-e655-cd90d12b51cc"
      },
      "execution_count": null,
      "outputs": [
        {
          "output_type": "stream",
          "name": "stdout",
          "text": [
            "Merhaba  İsim belirtilmedi\n"
          ]
        }
      ]
    },
    {
      "cell_type": "code",
      "source": [
        "name(\"Cemil\")"
      ],
      "metadata": {
        "colab": {
          "base_uri": "https://localhost:8080/"
        },
        "id": "NFvMLxoaOeSc",
        "outputId": "529bb0f1-8c64-42bf-a0f7-5c70083c91a4"
      },
      "execution_count": null,
      "outputs": [
        {
          "output_type": "stream",
          "name": "stdout",
          "text": [
            "Merhaba  Cemil\n"
          ]
        }
      ]
    },
    {
      "cell_type": "code",
      "source": [
        "# Önemli\n",
        "\n",
        "def bilgiler(isim,soyisim,yas):\n",
        "  print(\"İsim:\",isim, \"\\nSoyisim:\",soyisim, \"\\nYaş:\",yas)"
      ],
      "metadata": {
        "id": "3al9BRN7Ohfe"
      },
      "execution_count": null,
      "outputs": []
    },
    {
      "cell_type": "code",
      "source": [
        "bilgiler(\"Cemil\",\"İlyas\",22)"
      ],
      "metadata": {
        "colab": {
          "base_uri": "https://localhost:8080/"
        },
        "id": "JWuAIC3uQGPw",
        "outputId": "4b0a73b0-f66a-4201-f81e-2969d98c3e54"
      },
      "execution_count": null,
      "outputs": [
        {
          "output_type": "stream",
          "name": "stdout",
          "text": [
            "İsim: Cemil \n",
            "Soyisim: İlyas \n",
            "Yaş: 22\n"
          ]
        }
      ]
    },
    {
      "cell_type": "code",
      "source": [
        "def bilgiler(isim = \"Belirtilmedi \",soyisim =\"Belirtilmedi \", yas = \"Belirtilmedi\"):      # Default değer tanımlamak için bu şekilde bir tanımlama yapmamız lazım\n",
        "  print(\"İsim:\",isim, \"\\nSoyisim:\",soyisim, \"\\nYaş:\",yas)"
      ],
      "metadata": {
        "id": "xwR6S200QHxZ"
      },
      "execution_count": null,
      "outputs": []
    },
    {
      "cell_type": "code",
      "source": [
        "bilgiler() # default değer girildi"
      ],
      "metadata": {
        "colab": {
          "base_uri": "https://localhost:8080/"
        },
        "id": "P2w9lCwlQwFf",
        "outputId": "ebc2862e-3466-4f00-87c5-0452524a2496"
      },
      "execution_count": null,
      "outputs": [
        {
          "output_type": "stream",
          "name": "stdout",
          "text": [
            "İsim: Belirtilmedi  \n",
            "Soyisim: Belirtilmedi  \n",
            "Yaş: Belirtilmedi\n"
          ]
        }
      ]
    },
    {
      "cell_type": "code",
      "source": [
        "bilgiler(\"Cemil\",\"İlyas\",22)  # tanımladığımız değer girildi"
      ],
      "metadata": {
        "colab": {
          "base_uri": "https://localhost:8080/"
        },
        "id": "HTtZBwodQxvB",
        "outputId": "490ca648-7d3c-4c75-9fe2-f938217bed5a"
      },
      "execution_count": null,
      "outputs": [
        {
          "output_type": "stream",
          "name": "stdout",
          "text": [
            "İsim: Cemil \n",
            "Soyisim: İlyas \n",
            "Yaş: 22\n"
          ]
        }
      ]
    },
    {
      "cell_type": "code",
      "source": [
        "bilgiler(\"Cemil\",\"İlyas\") # yaş bilgisi girilmediği için ilk başta belirttiğimiz default sistem yazıldı"
      ],
      "metadata": {
        "colab": {
          "base_uri": "https://localhost:8080/"
        },
        "id": "0Q-Riiq5Q393",
        "outputId": "7c30113c-2ef5-447a-e22f-52b1fd068b83"
      },
      "execution_count": null,
      "outputs": [
        {
          "output_type": "stream",
          "name": "stdout",
          "text": [
            "İsim: Cemil \n",
            "Soyisim: İlyas \n",
            "Yaş: Belirtilmedi\n"
          ]
        }
      ]
    },
    {
      "cell_type": "code",
      "source": [
        "bilgiler(yas = 22) # Atlamak istenen kısımlar için sadece istenen ifade belirtilerek de sonuç alınır."
      ],
      "metadata": {
        "colab": {
          "base_uri": "https://localhost:8080/"
        },
        "id": "0IC0tnXzRdgh",
        "outputId": "57bbadb1-4eda-40d5-97cc-68e0f006e5fc"
      },
      "execution_count": null,
      "outputs": [
        {
          "output_type": "stream",
          "name": "stdout",
          "text": [
            "İsim: Belirtilmedi  \n",
            "Soyisim: Belirtilmedi  \n",
            "Yaş: 22\n"
          ]
        }
      ]
    },
    {
      "cell_type": "code",
      "source": [
        "def bilgiler2(isim,soyisim,yas):\n",
        "  print(isim,soyisim,yas, sep = \"-\") # sep ifadesi ile boş kısımlara istenen ifade atanabilir.\n"
      ],
      "metadata": {
        "id": "L5yv0KevSHNT"
      },
      "execution_count": null,
      "outputs": []
    },
    {
      "cell_type": "code",
      "source": [
        "bilgiler2(\"Cemil\",\"İlyas\",22)"
      ],
      "metadata": {
        "colab": {
          "base_uri": "https://localhost:8080/"
        },
        "id": "fjBZqNqzSzyI",
        "outputId": "b4dc99b1-fdda-48a6-9b2f-148eec57b2b1"
      },
      "execution_count": null,
      "outputs": [
        {
          "output_type": "stream",
          "name": "stdout",
          "text": [
            "Cemil-İlyas-22\n"
          ]
        }
      ]
    },
    {
      "cell_type": "markdown",
      "source": [
        "*** Esnek Sayıda Değerler ***"
      ],
      "metadata": {
        "id": "BtK57tsHTOw8"
      }
    },
    {
      "cell_type": "code",
      "source": [
        "def sayilar(a):\n",
        "  print(a)"
      ],
      "metadata": {
        "id": "EwUETgqlS3Zm"
      },
      "execution_count": null,
      "outputs": []
    },
    {
      "cell_type": "code",
      "source": [
        "sayilar(2)  # belirtilen ifade adetinde girilince sonuç veriyor fakat"
      ],
      "metadata": {
        "colab": {
          "base_uri": "https://localhost:8080/"
        },
        "id": "VP3GTA-pUpjf",
        "outputId": "53dd6225-a1f2-40aa-b6a5-b123eae775d5"
      },
      "execution_count": null,
      "outputs": [
        {
          "output_type": "stream",
          "name": "stdout",
          "text": [
            "2\n"
          ]
        }
      ]
    },
    {
      "cell_type": "code",
      "source": [
        "sayilar(2,3,4,5) # fazla değer girince hata alıyoruz / Bunu esnek değerler ile geçerli hale getirebiliriz."
      ],
      "metadata": {
        "colab": {
          "base_uri": "https://localhost:8080/",
          "height": 141
        },
        "id": "0I1NcfDaUr3w",
        "outputId": "d03c4187-9434-49eb-d736-dc48c15574e7"
      },
      "execution_count": null,
      "outputs": [
        {
          "output_type": "error",
          "ename": "TypeError",
          "evalue": "sayilar() takes 1 positional argument but 4 were given",
          "traceback": [
            "\u001b[0;31m---------------------------------------------------------------------------\u001b[0m",
            "\u001b[0;31mTypeError\u001b[0m                                 Traceback (most recent call last)",
            "\u001b[0;32m<ipython-input-61-cd974eb89574>\u001b[0m in \u001b[0;36m<cell line: 1>\u001b[0;34m()\u001b[0m\n\u001b[0;32m----> 1\u001b[0;31m \u001b[0msayilar\u001b[0m\u001b[0;34m(\u001b[0m\u001b[0;36m2\u001b[0m\u001b[0;34m,\u001b[0m\u001b[0;36m3\u001b[0m\u001b[0;34m,\u001b[0m\u001b[0;36m4\u001b[0m\u001b[0;34m,\u001b[0m\u001b[0;36m5\u001b[0m\u001b[0;34m)\u001b[0m \u001b[0;31m# fazla değer girince hata alıyoruz / Bunu esnek değerler ile geçerli hale getirebiliriz.\u001b[0m\u001b[0;34m\u001b[0m\u001b[0;34m\u001b[0m\u001b[0m\n\u001b[0m",
            "\u001b[0;31mTypeError\u001b[0m: sayilar() takes 1 positional argument but 4 were given"
          ]
        }
      ]
    },
    {
      "cell_type": "code",
      "source": [
        "def sayilar(*a):  # *a ifadesi ile değerleri bir demete atıyoruz\n",
        "  print(a)"
      ],
      "metadata": {
        "id": "FMfM4M9RUyRj"
      },
      "execution_count": null,
      "outputs": []
    },
    {
      "cell_type": "code",
      "source": [
        "sayilar(2,3,4,5) # ifade geçerli oldu"
      ],
      "metadata": {
        "colab": {
          "base_uri": "https://localhost:8080/"
        },
        "id": "_CksYHcGVLff",
        "outputId": "189ac1c5-1dcf-45c2-c323-2e34930eb278"
      },
      "execution_count": null,
      "outputs": [
        {
          "output_type": "stream",
          "name": "stdout",
          "text": [
            "(2, 3, 4, 5)\n"
          ]
        }
      ]
    },
    {
      "cell_type": "code",
      "source": [
        "# For döngününde esnek sayı kullanımı alıştırması\n",
        "def fordongu(*a):\n",
        "  toplam = 0\n",
        "  for i in a:\n",
        "      toplam += i\n",
        "  print(toplam)"
      ],
      "metadata": {
        "id": "RNR58uMOVM8I"
      },
      "execution_count": null,
      "outputs": []
    },
    {
      "cell_type": "code",
      "source": [
        "fordongu(2,3,4)"
      ],
      "metadata": {
        "colab": {
          "base_uri": "https://localhost:8080/"
        },
        "id": "3IrcgfWuVx1S",
        "outputId": "11c75fe8-2ae0-4d3c-a908-db9bd0da79b6"
      },
      "execution_count": null,
      "outputs": [
        {
          "output_type": "stream",
          "name": "stdout",
          "text": [
            "9\n"
          ]
        }
      ]
    },
    {
      "cell_type": "code",
      "source": [
        "fordongu(1,10)"
      ],
      "metadata": {
        "colab": {
          "base_uri": "https://localhost:8080/"
        },
        "id": "f3ZamimTV19P",
        "outputId": "ad7cb56b-7f9d-4b61-9bcf-5b99c52e6bc2"
      },
      "execution_count": null,
      "outputs": [
        {
          "output_type": "stream",
          "name": "stdout",
          "text": [
            "11\n"
          ]
        }
      ]
    },
    {
      "cell_type": "markdown",
      "source": [
        "*** Global ve Yerel Değişkenler **"
      ],
      "metadata": {
        "id": "3QGfRm8xXVPG"
      }
    },
    {
      "cell_type": "code",
      "source": [
        "def fonksiyon():\n",
        "  a = 10   # fonksiyon çatısı altında olduğu için yerel değişken oluyor.\n",
        "  print(a)\n",
        "\n",
        "fonksiyon()\n",
        "print(a)   # değişken 1 kere kullanıldı ve fonksiyon bitti. Bu tür değişkenlere yerel değişkenler denir.\n"
      ],
      "metadata": {
        "id": "UvzZGk5QW6gB",
        "colab": {
          "base_uri": "https://localhost:8080/",
          "height": 193
        },
        "outputId": "de618ed9-f5b3-46be-c4ef-fa16a334d4d4"
      },
      "execution_count": 2,
      "outputs": [
        {
          "output_type": "stream",
          "name": "stdout",
          "text": [
            "10\n"
          ]
        },
        {
          "output_type": "error",
          "ename": "NameError",
          "evalue": "name 'a' is not defined",
          "traceback": [
            "\u001b[0;31m---------------------------------------------------------------------------\u001b[0m",
            "\u001b[0;31mNameError\u001b[0m                                 Traceback (most recent call last)",
            "\u001b[0;32m<ipython-input-2-5312f7e4a21e>\u001b[0m in \u001b[0;36m<cell line: 5>\u001b[0;34m()\u001b[0m\n\u001b[1;32m      3\u001b[0m   \u001b[0mprint\u001b[0m\u001b[0;34m(\u001b[0m\u001b[0ma\u001b[0m\u001b[0;34m)\u001b[0m\u001b[0;34m\u001b[0m\u001b[0;34m\u001b[0m\u001b[0m\n\u001b[1;32m      4\u001b[0m \u001b[0mfonksiyon\u001b[0m\u001b[0;34m(\u001b[0m\u001b[0;34m)\u001b[0m\u001b[0;34m\u001b[0m\u001b[0;34m\u001b[0m\u001b[0m\n\u001b[0;32m----> 5\u001b[0;31m \u001b[0mprint\u001b[0m\u001b[0;34m(\u001b[0m\u001b[0ma\u001b[0m\u001b[0;34m)\u001b[0m\u001b[0;34m\u001b[0m\u001b[0;34m\u001b[0m\u001b[0m\n\u001b[0m",
            "\u001b[0;31mNameError\u001b[0m: name 'a' is not defined"
          ]
        }
      ]
    },
    {
      "cell_type": "code",
      "source": [
        "b = 10   # b değeri burdaa global bir değer olarak atandığı için fonksiyon dışında da kullanılabilir oluyor.\n",
        "\n",
        "def fonksiyon():\n",
        "  print(b)\n",
        "\n",
        "fonksiyon()\n",
        "print(b)"
      ],
      "metadata": {
        "colab": {
          "base_uri": "https://localhost:8080/"
        },
        "id": "zRqjRa7Qydht",
        "outputId": "24a19dca-c1f1-45a3-fc3c-394ab6dccd39"
      },
      "execution_count": 6,
      "outputs": [
        {
          "output_type": "stream",
          "name": "stdout",
          "text": [
            "10\n",
            "10\n"
          ]
        }
      ]
    },
    {
      "cell_type": "code",
      "source": [
        "def fonksiyon():\n",
        "  print(c)\n",
        "\n",
        "fonksiyon()\n",
        "c = \"Cemil\"  # c burada global değişken olmasına ragmen çalışmadı çünkü fonksiyon bittikten sonra tanımlanmış."
      ],
      "metadata": {
        "colab": {
          "base_uri": "https://localhost:8080/",
          "height": 315
        },
        "id": "_J-xeggy0Fly",
        "outputId": "d5b4646d-84ac-4222-eef0-76a4603e5512"
      },
      "execution_count": 10,
      "outputs": [
        {
          "output_type": "error",
          "ename": "NameError",
          "evalue": "name 'c' is not defined",
          "traceback": [
            "\u001b[0;31m---------------------------------------------------------------------------\u001b[0m",
            "\u001b[0;31mNameError\u001b[0m                                 Traceback (most recent call last)",
            "\u001b[0;32m<ipython-input-10-1501f4662412>\u001b[0m in \u001b[0;36m<cell line: 4>\u001b[0;34m()\u001b[0m\n\u001b[1;32m      2\u001b[0m   \u001b[0mprint\u001b[0m\u001b[0;34m(\u001b[0m\u001b[0mc\u001b[0m\u001b[0;34m)\u001b[0m\u001b[0;34m\u001b[0m\u001b[0;34m\u001b[0m\u001b[0m\n\u001b[1;32m      3\u001b[0m \u001b[0;34m\u001b[0m\u001b[0m\n\u001b[0;32m----> 4\u001b[0;31m \u001b[0mfonksiyon\u001b[0m\u001b[0;34m(\u001b[0m\u001b[0;34m)\u001b[0m\u001b[0;34m\u001b[0m\u001b[0;34m\u001b[0m\u001b[0m\n\u001b[0m\u001b[1;32m      5\u001b[0m \u001b[0mc\u001b[0m \u001b[0;34m=\u001b[0m \u001b[0;34m\"Cemil\"\u001b[0m  \u001b[0;31m# c burada global değişken olmasına ragmen çalışmadı\u001b[0m\u001b[0;34m\u001b[0m\u001b[0;34m\u001b[0m\u001b[0m\n",
            "\u001b[0;32m<ipython-input-10-1501f4662412>\u001b[0m in \u001b[0;36mfonksiyon\u001b[0;34m()\u001b[0m\n\u001b[1;32m      1\u001b[0m \u001b[0;32mdef\u001b[0m \u001b[0mfonksiyon\u001b[0m\u001b[0;34m(\u001b[0m\u001b[0;34m)\u001b[0m\u001b[0;34m:\u001b[0m\u001b[0;34m\u001b[0m\u001b[0;34m\u001b[0m\u001b[0m\n\u001b[0;32m----> 2\u001b[0;31m   \u001b[0mprint\u001b[0m\u001b[0;34m(\u001b[0m\u001b[0mc\u001b[0m\u001b[0;34m)\u001b[0m\u001b[0;34m\u001b[0m\u001b[0;34m\u001b[0m\u001b[0m\n\u001b[0m\u001b[1;32m      3\u001b[0m \u001b[0;34m\u001b[0m\u001b[0m\n\u001b[1;32m      4\u001b[0m \u001b[0mfonksiyon\u001b[0m\u001b[0;34m(\u001b[0m\u001b[0;34m)\u001b[0m\u001b[0;34m\u001b[0m\u001b[0;34m\u001b[0m\u001b[0m\n\u001b[1;32m      5\u001b[0m \u001b[0mc\u001b[0m \u001b[0;34m=\u001b[0m \u001b[0;34m\"Cemil\"\u001b[0m  \u001b[0;31m# c burada global değişken olmasına ragmen çalışmadı\u001b[0m\u001b[0;34m\u001b[0m\u001b[0;34m\u001b[0m\u001b[0m\n",
            "\u001b[0;31mNameError\u001b[0m: name 'c' is not defined"
          ]
        }
      ]
    },
    {
      "cell_type": "code",
      "source": [
        "m = 10            # global değişken\n",
        "def fonksiyon():\n",
        "  m =  7          # m burada fonksiyon çatısı altında olduğu için yerel oluyor.\n",
        "  print(m)        # yerel m değişkenini okutacak\n",
        "\n",
        "fonksiyon()       # fonksiyonu çalıştır\n",
        "print(m)          # global m değişkenini okutacak"
      ],
      "metadata": {
        "colab": {
          "base_uri": "https://localhost:8080/"
        },
        "id": "53zdL7RY0sFV",
        "outputId": "f0bf7a30-de32-466d-97b6-f29914a390eb"
      },
      "execution_count": 11,
      "outputs": [
        {
          "output_type": "stream",
          "name": "stdout",
          "text": [
            "7\n",
            "10\n"
          ]
        }
      ]
    },
    {
      "cell_type": "markdown",
      "source": [
        "*** Global Deyimi ***"
      ],
      "metadata": {
        "id": "fsE0xQqE2rRn"
      }
    },
    {
      "cell_type": "code",
      "source": [
        "c = 6\n",
        "\n",
        "def fonksiyon():\n",
        "  global c   # değişkenin global özelliğini kullanarak değerini değiştiriyoruz.\n",
        "  c = 3      # değişen değer\n",
        "  print(c)   # değer okunacak (fonksiyonda değiştirilen global değer)\n",
        "\n",
        "fonksiyon()  # fonksiyon çalıştırıldı\n",
        "print(c)     # değer okunacak (global)"
      ],
      "metadata": {
        "colab": {
          "base_uri": "https://localhost:8080/"
        },
        "id": "loKQJHnj18_0",
        "outputId": "02917a35-e022-4b67-8ca9-9ed3350a66b7"
      },
      "execution_count": 12,
      "outputs": [
        {
          "output_type": "stream",
          "name": "stdout",
          "text": [
            "3\n",
            "3\n"
          ]
        }
      ]
    },
    {
      "cell_type": "code",
      "source": [
        "if True:    # if bloğu altında tanımlanan değer de global değer sayılıyor\n",
        "  c = 8\n",
        "  print(c)  # if bloğu altında çalışan c değeri\n",
        "\n",
        "print(c)    # if bloğu dışında çalışan c değeri"
      ],
      "metadata": {
        "colab": {
          "base_uri": "https://localhost:8080/"
        },
        "id": "jif2ucza3qOE",
        "outputId": "e9fc9e4f-b03e-4d73-c868-45567bf1bb82"
      },
      "execution_count": 13,
      "outputs": [
        {
          "output_type": "stream",
          "name": "stdout",
          "text": [
            "8\n",
            "8\n"
          ]
        }
      ]
    },
    {
      "cell_type": "code",
      "source": [
        "while True:  # while bloğu altında tanımlanan değer de global değer sayılıyor\n",
        "  c = 8\n",
        "  print(c)   # while bloğu altında çalışan c değeri\n",
        "  break      # çalıştıktan sonra durdurma emri verdik yoksa sonsuz döngüye girer.\n",
        "\n",
        "print(c)     # while bloğu dışında çalışan c değeri / while bloğu dışında olduğu için döngüye dahil olmayacak o yüzden sonrası için durdurma emri vermedik"
      ],
      "metadata": {
        "colab": {
          "base_uri": "https://localhost:8080/"
        },
        "id": "MOWxHhE43wiK",
        "outputId": "d249d0c8-613c-4c53-9777-2df1941d4b04"
      },
      "execution_count": 16,
      "outputs": [
        {
          "output_type": "stream",
          "name": "stdout",
          "text": [
            "8\n",
            "8\n"
          ]
        }
      ]
    },
    {
      "cell_type": "code",
      "source": [],
      "metadata": {
        "id": "E1fCM8EA3_pz"
      },
      "execution_count": null,
      "outputs": []
    }
  ]
}