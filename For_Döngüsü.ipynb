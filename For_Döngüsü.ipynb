{
  "nbformat": 4,
  "nbformat_minor": 0,
  "metadata": {
    "colab": {
      "provenance": []
    },
    "kernelspec": {
      "name": "python3",
      "display_name": "Python 3"
    },
    "language_info": {
      "name": "python"
    }
  },
  "cells": [
    {
      "cell_type": "code",
      "execution_count": 1,
      "metadata": {
        "colab": {
          "base_uri": "https://localhost:8080/"
        },
        "id": "5OwxlntKnaTd",
        "outputId": "78d3fb52-7310-4e51-8817-c9bdafcf40a0"
      },
      "outputs": [
        {
          "output_type": "stream",
          "name": "stdout",
          "text": [
            "3.10.12 (main, Sep 11 2024, 15:47:36) [GCC 11.4.0]\n"
          ]
        }
      ],
      "source": [
        "import sys\n",
        "print(sys.version)"
      ]
    },
    {
      "cell_type": "code",
      "source": [
        "from google.colab import drive\n",
        "drive.mount('/content/drive')"
      ],
      "metadata": {
        "colab": {
          "base_uri": "https://localhost:8080/"
        },
        "id": "JsHMSptbnh-6",
        "outputId": "9f65a4e6-3568-457c-84e7-aaa40520a620"
      },
      "execution_count": 2,
      "outputs": [
        {
          "output_type": "stream",
          "name": "stdout",
          "text": [
            "Mounted at /content/drive\n"
          ]
        }
      ]
    },
    {
      "cell_type": "code",
      "source": [
        "import os\n",
        "os.chdir('/content/drive/My Drive/KURS_CALISMALARIM')\n",
        "!pwd # bize kodun çıktısını dosya yolu olarak veren kod blogudur.')"
      ],
      "metadata": {
        "colab": {
          "base_uri": "https://localhost:8080/"
        },
        "id": "6BoPfvcKnnm3",
        "outputId": "488ee400-6d9b-490f-9fb2-c5d6616bb01e"
      },
      "execution_count": 4,
      "outputs": [
        {
          "output_type": "stream",
          "name": "stdout",
          "text": [
            "/content/drive/My Drive/KURS_CALISMALARIM\n"
          ]
        }
      ]
    },
    {
      "cell_type": "markdown",
      "source": [
        "in Operatörü Nedir ?\n",
        "\n",
        "- in operatörü seçilen bir elemanın istenen listede olup olmadğını kontrol etmemize yaran operatördür.\n",
        "\n",
        "- \"y\" in \"Yazılım\""
      ],
      "metadata": {
        "id": "6R0QkYydpvAr"
      }
    },
    {
      "cell_type": "code",
      "source": [
        "\"c\" in \"cemil\""
      ],
      "metadata": {
        "colab": {
          "base_uri": "https://localhost:8080/"
        },
        "id": "VDC0B0r-pujc",
        "outputId": "15e7ed93-5916-450b-b3af-a8fb21470441"
      },
      "execution_count": 7,
      "outputs": [
        {
          "output_type": "execute_result",
          "data": {
            "text/plain": [
              "True"
            ]
          },
          "metadata": {},
          "execution_count": 7
        }
      ]
    },
    {
      "cell_type": "code",
      "source": [
        "# Dikkat edilmesi gereken nokta\n",
        "# Bu operatörde büyük-küçük harfe dikkat edilmesi lazım\n",
        "\n",
        "\"c\" in \"Cemil\""
      ],
      "metadata": {
        "colab": {
          "base_uri": "https://localhost:8080/"
        },
        "id": "LGxzxeMLqTgO",
        "outputId": "dfa5220a-c77e-4ef4-87a0-a9c3703edc83"
      },
      "execution_count": 8,
      "outputs": [
        {
          "output_type": "execute_result",
          "data": {
            "text/plain": [
              "False"
            ]
          },
          "metadata": {},
          "execution_count": 8
        }
      ]
    },
    {
      "cell_type": "code",
      "source": [
        "# İnteger değerlerde ve listelerde kullanımı bu şekildedir\n",
        "\n",
        "1 in [2,1,3,4]"
      ],
      "metadata": {
        "colab": {
          "base_uri": "https://localhost:8080/"
        },
        "id": "UDCjwXFrqf-K",
        "outputId": "868a9260-5cc5-4278-9608-54d65c9bfd25"
      },
      "execution_count": 9,
      "outputs": [
        {
          "output_type": "execute_result",
          "data": {
            "text/plain": [
              "True"
            ]
          },
          "metadata": {},
          "execution_count": 9
        }
      ]
    },
    {
      "cell_type": "code",
      "source": [
        "1 in [2,3,4,5]"
      ],
      "metadata": {
        "colab": {
          "base_uri": "https://localhost:8080/"
        },
        "id": "4qZUYCs3qrSq",
        "outputId": "b0e33382-8529-4245-9139-416c69fa7c5f"
      },
      "execution_count": 10,
      "outputs": [
        {
          "output_type": "execute_result",
          "data": {
            "text/plain": [
              "False"
            ]
          },
          "metadata": {},
          "execution_count": 10
        }
      ]
    },
    {
      "cell_type": "code",
      "source": [
        "# Demetlerde kullanımı\n",
        "\"cemil\" in (\"cemil\",1,\"ahmet\")"
      ],
      "metadata": {
        "colab": {
          "base_uri": "https://localhost:8080/"
        },
        "id": "kwbe7Mg1qwBt",
        "outputId": "a4e7850c-3791-40d3-a37e-3533ae2e6f2a"
      },
      "execution_count": 11,
      "outputs": [
        {
          "output_type": "execute_result",
          "data": {
            "text/plain": [
              "True"
            ]
          },
          "metadata": {},
          "execution_count": 11
        }
      ]
    },
    {
      "cell_type": "code",
      "source": [
        "1 in (\"cemil\",1,\"ahmet\")"
      ],
      "metadata": {
        "colab": {
          "base_uri": "https://localhost:8080/"
        },
        "id": "8OVdoowiq7Io",
        "outputId": "64f335a6-5b53-45a9-b041-ddaa1ef2107e"
      },
      "execution_count": 13,
      "outputs": [
        {
          "output_type": "execute_result",
          "data": {
            "text/plain": [
              "True"
            ]
          },
          "metadata": {},
          "execution_count": 13
        }
      ]
    },
    {
      "cell_type": "markdown",
      "source": [
        "For Döngüsü Nedir ?\n",
        "\n",
        "- Bir ifadenin belirli bir (liste,dizi,sözlük,demet,vb) operatörlerde işlem yapılmasına olanak sağlar.\n",
        "\n",
        "- for \"ifade\" in \"liste\""
      ],
      "metadata": {
        "id": "PfF9Zq2Un9Ou"
      }
    },
    {
      "cell_type": "code",
      "source": [
        "# Stringler üzerinde for döngüsü\n",
        "\n",
        "c = \"Cemil\"\n",
        "\n",
        "for harf in c:\n",
        "  print(harf)"
      ],
      "metadata": {
        "colab": {
          "base_uri": "https://localhost:8080/"
        },
        "id": "BF5-_whX26f9",
        "outputId": "8a436c1c-fa02-4243-b639-3b69fce6c842"
      },
      "execution_count": 60,
      "outputs": [
        {
          "output_type": "stream",
          "name": "stdout",
          "text": [
            "C\n",
            "e\n",
            "m\n",
            "i\n",
            "l\n"
          ]
        }
      ]
    },
    {
      "cell_type": "code",
      "source": [
        "# Listelerde for döngüsü kullanımı\n",
        "\n",
        "liste = [2,4,6,8,10]\n",
        "\n",
        "for çift_sayılar in liste:\n",
        "  print(çift_sayılar)"
      ],
      "metadata": {
        "colab": {
          "base_uri": "https://localhost:8080/"
        },
        "id": "PBRiVoggq5aF",
        "outputId": "12cde72b-d3e3-42c2-b1b6-31e09939d77b"
      },
      "execution_count": 16,
      "outputs": [
        {
          "output_type": "stream",
          "name": "stdout",
          "text": [
            "2\n",
            "4\n",
            "6\n",
            "8\n",
            "10\n"
          ]
        }
      ]
    },
    {
      "cell_type": "code",
      "source": [
        "# Demetlerde for döngüsü kullanımı\n",
        "\n",
        "demet = (1,3,5,7)\n",
        "\n",
        "for tek_sayılar in demet:\n",
        "  print(tek_sayılar)"
      ],
      "metadata": {
        "colab": {
          "base_uri": "https://localhost:8080/"
        },
        "id": "xaMaIKa5rNce",
        "outputId": "320fb884-6f1b-448c-bb3d-345bb5f33b55"
      },
      "execution_count": 18,
      "outputs": [
        {
          "output_type": "stream",
          "name": "stdout",
          "text": [
            "1\n",
            "3\n",
            "5\n",
            "7\n"
          ]
        }
      ]
    },
    {
      "cell_type": "code",
      "source": [
        "demet1 = (\"cemil\",4,6,\"ilyas\")\n",
        "\n",
        "for ifadeler in demet1:\n",
        "  print(ifadeler)"
      ],
      "metadata": {
        "colab": {
          "base_uri": "https://localhost:8080/"
        },
        "id": "z0n9Slx4relz",
        "outputId": "6f040a58-9a60-4825-b372-51a2006a21b8"
      },
      "execution_count": 19,
      "outputs": [
        {
          "output_type": "stream",
          "name": "stdout",
          "text": [
            "cemil\n",
            "4\n",
            "6\n",
            "ilyas\n"
          ]
        }
      ]
    },
    {
      "cell_type": "markdown",
      "source": [
        "- Alıştırma Örnekleri"
      ],
      "metadata": {
        "id": "u_HWDhTpsHl1"
      }
    },
    {
      "cell_type": "code",
      "source": [
        "liste = [1,2,3,4,5,6,7,8]\n",
        "\n",
        "for çift in liste:\n",
        "\n",
        "  if (çift % 2 == 0):\n",
        "    print(\"Çift Sayıdır =>  \", çift)\n",
        "  else:\n",
        "    print(\"Tek Sayıdır =>  \",  çift)\n",
        ""
      ],
      "metadata": {
        "colab": {
          "base_uri": "https://localhost:8080/"
        },
        "id": "3aDkBTFor2xg",
        "outputId": "02a03291-9d90-425d-9a8f-8b98ae1eaf22"
      },
      "execution_count": 51,
      "outputs": [
        {
          "output_type": "stream",
          "name": "stdout",
          "text": [
            "Tek Sayıdır =>   1\n",
            "Çift Sayıdır =>   2\n",
            "Tek Sayıdır =>   3\n",
            "Çift Sayıdır =>   4\n",
            "Tek Sayıdır =>   5\n",
            "Çift Sayıdır =>   6\n",
            "Tek Sayıdır =>   7\n",
            "Çift Sayıdır =>   8\n"
          ]
        }
      ]
    },
    {
      "cell_type": "code",
      "source": [
        "liste = [1,2,3,4]\n",
        "\n",
        "toplam = 0\n",
        "\n",
        "for elemanlar in liste:\n",
        "\n",
        "  toplam = toplam + elemanlar\n",
        "\n",
        "  print(\"Toplam: {} <=> Elemanlar: {}\".format(toplam,elemanlar))\n",
        "\n",
        "\n",
        ""
      ],
      "metadata": {
        "colab": {
          "base_uri": "https://localhost:8080/"
        },
        "id": "ZxDfKUCos8vq",
        "outputId": "8fe4be1f-e11f-4966-bb74-c31f3385fc5c"
      },
      "execution_count": 73,
      "outputs": [
        {
          "output_type": "stream",
          "name": "stdout",
          "text": [
            "Toplam: 1 <=> Elemanlar: 1\n",
            "Toplam: 3 <=> Elemanlar: 2\n",
            "Toplam: 6 <=> Elemanlar: 3\n",
            "Toplam: 10 <=> Elemanlar: 4\n"
          ]
        }
      ]
    },
    {
      "cell_type": "code",
      "source": [
        "toplam1 = 0\n",
        "liste1 = [1,2,3,4,5,6]\n",
        "\n",
        "for sayılar in liste1:\n",
        "\n",
        "  toplam1 = toplam1 + sayılar\n",
        "\n",
        "  if (toplam1 % 2 == 0):\n",
        "    print(\"Çift sayıların toplamı: {}\".format(toplam1))\n",
        "  else:\n",
        "    print(\"Tek sayıların toplamı: {}\".format(toplam1))"
      ],
      "metadata": {
        "colab": {
          "base_uri": "https://localhost:8080/"
        },
        "id": "qOBx1Sa11iEg",
        "outputId": "c08765d2-2425-4f3d-c523-29b17b61f1ff"
      },
      "execution_count": 59,
      "outputs": [
        {
          "output_type": "stream",
          "name": "stdout",
          "text": [
            "Tek sayıların toplamı: 1\n",
            "Tek sayıların toplamı: 3\n",
            "Çift sayıların toplamı: 6\n",
            "Çift sayıların toplamı: 10\n",
            "Tek sayıların toplamı: 15\n",
            "Tek sayıların toplamı: 21\n"
          ]
        }
      ]
    },
    {
      "cell_type": "code",
      "source": [
        "# Quiz 1:\n",
        "# Programın çıktısı nedir ?\n",
        "\n",
        "\"yt\" in \"Python\""
      ],
      "metadata": {
        "colab": {
          "base_uri": "https://localhost:8080/"
        },
        "id": "JX2pjYyS6Zy1",
        "outputId": "9f5c7df9-532c-4ec1-8eef-61514d0cddf2"
      },
      "execution_count": 68,
      "outputs": [
        {
          "output_type": "execute_result",
          "data": {
            "text/plain": [
              "True"
            ]
          },
          "metadata": {},
          "execution_count": 68
        }
      ]
    },
    {
      "cell_type": "code",
      "source": [
        "# Quiz 2:\n",
        "# Programın çıktısı nedir ?\n",
        "\n",
        "liste2 = [4,1,10,2,23,1,56,7]\n",
        "total = 0\n",
        "\n",
        "for a in liste2:\n",
        "    if (not (a % 2 == 0)):\n",
        "        total += a\n",
        "\n",
        "\n",
        "\n",
        "print(total)"
      ],
      "metadata": {
        "colab": {
          "base_uri": "https://localhost:8080/"
        },
        "id": "Q9As72u05C2u",
        "outputId": "9252cd4e-7dbd-493d-c3f4-cf4cc8e70caa"
      },
      "execution_count": 77,
      "outputs": [
        {
          "output_type": "stream",
          "name": "stdout",
          "text": [
            "32\n"
          ]
        }
      ]
    },
    {
      "cell_type": "code",
      "source": [],
      "metadata": {
        "id": "6vTn-Msy57Kl"
      },
      "execution_count": null,
      "outputs": []
    }
  ]
}