{
  "nbformat": 4,
  "nbformat_minor": 0,
  "metadata": {
    "colab": {
      "provenance": []
    },
    "kernelspec": {
      "name": "python3",
      "display_name": "Python 3"
    },
    "language_info": {
      "name": "python"
    }
  },
  "cells": [
    {
      "cell_type": "code",
      "execution_count": 1,
      "metadata": {
        "colab": {
          "base_uri": "https://localhost:8080/"
        },
        "id": "jMQw5l1YrZig",
        "outputId": "214d319f-4973-4abd-8b86-7c645a058ab0"
      },
      "outputs": [
        {
          "output_type": "stream",
          "name": "stdout",
          "text": [
            "3.10.12 (main, Sep 11 2024, 15:47:36) [GCC 11.4.0]\n"
          ]
        }
      ],
      "source": [
        "import sys\n",
        "print(sys.version)"
      ]
    },
    {
      "cell_type": "code",
      "source": [
        "from google.colab import drive\n",
        "drive.mount('/content/drive')"
      ],
      "metadata": {
        "colab": {
          "base_uri": "https://localhost:8080/"
        },
        "id": "-pzJd3ljrcn0",
        "outputId": "c6035240-53e6-4d7d-c5e1-5077eccf954f"
      },
      "execution_count": 2,
      "outputs": [
        {
          "output_type": "stream",
          "name": "stdout",
          "text": [
            "Mounted at /content/drive\n"
          ]
        }
      ]
    },
    {
      "cell_type": "code",
      "source": [
        "import os\n",
        "os.chdir('/content/drive/My Drive/KURS_CALISMALARIM')\n",
        "!pwd # bize kodun çıktısını dosya yolu olarak veren kod blogudur.')\n",
        ""
      ],
      "metadata": {
        "colab": {
          "base_uri": "https://localhost:8080/"
        },
        "id": "8jsym-cFrilE",
        "outputId": "42b8fe64-d27f-4d32-8c26-85f81a5b2478"
      },
      "execution_count": 3,
      "outputs": [
        {
          "output_type": "stream",
          "name": "stdout",
          "text": [
            "/content/drive/My Drive/KURS_CALISMALARIM\n"
          ]
        }
      ]
    },
    {
      "cell_type": "markdown",
      "source": [
        "\n",
        "\n",
        "BASİT HESAP MAKİNESİ"
      ],
      "metadata": {
        "id": "-8_Y_cB8teHd"
      }
    },
    {
      "cell_type": "code",
      "source": [
        "print(\"*********************\"\n",
        "\n",
        "\"\\nBASİT HESAP MAKİNESİ\\n \"\n",
        "\"\\nLütfen yapacağınız işlem türünü seçiniz!\"\n",
        "\"\\n\"\n",
        "\n",
        "\"\\n 1. TOPLAMA İŞLEMİ: \"\n",
        "\"\\n 2. ÇIKARMA İŞLEMİ: \"\n",
        "\"\\n 3. ÇARPMA İŞLEMİ:  \"\n",
        "\"\\n 4. BÖLME İŞLEMİ:\\n   \"\n",
        "\n",
        "\"\\n*********************\\n\")\n",
        "\n",
        "k = float(input(\"Sayı giriniz: \"))\n",
        "l = float(input(\"Sayı giriniz: \"))\n",
        "\n",
        "islem = input(\"Yukarıdan yapacağınız işlem türünü seçiniz!\")\n",
        "\n",
        "if islem == \"1\":\n",
        "  print(\" {} + {} = {}\".format(k,l,k+l))\n",
        "\n",
        "elif islem == \"2\":\n",
        "  print(\" {} - {} = {}\".format(k,l,k-l))\n",
        "\n",
        "elif islem == \"3\":\n",
        "  print(\" {} x {} = {}\".format(k,l,k * l))\n",
        "\n",
        "elif islem == \"4\":\n",
        "  print(\" {} / {} = {}\".format(k,l,k / l))\n",
        "\n",
        "else:\n",
        "  print(\"İstenilen işlem bulunmamaktadır!\")\n"
      ],
      "metadata": {
        "colab": {
          "base_uri": "https://localhost:8080/"
        },
        "id": "kt9IPkBZrzOo",
        "outputId": "0f06c1ea-2fb5-4133-c145-b312e9cda8a7"
      },
      "execution_count": 15,
      "outputs": [
        {
          "output_type": "stream",
          "name": "stdout",
          "text": [
            "*********************\n",
            "BASİT HESAP MAKİNESİ\n",
            " \n",
            "Lütfen yapacağınız işlem türünü seçiniz!\n",
            "\n",
            " 1. TOPLAMA İŞLEMİ: \n",
            " 2. ÇIKARMA İŞLEMİ: \n",
            " 3. ÇARPMA İŞLEMİ:  \n",
            " 4. BÖLME İŞLEMİ:\n",
            "   \n",
            "*********************\n",
            "\n",
            "Sayı giriniz: 18\n",
            "Sayı giriniz: 3.2\n",
            "Yukarıdan yapacağınız işlem türünü seçiniz!3\n",
            " 18.0 x 3.2 = 57.6\n"
          ]
        }
      ]
    }
  ]
}