{
  "nbformat": 4,
  "nbformat_minor": 0,
  "metadata": {
    "colab": {
      "provenance": []
    },
    "kernelspec": {
      "name": "python3",
      "display_name": "Python 3"
    },
    "language_info": {
      "name": "python"
    }
  },
  "cells": [
    {
      "cell_type": "code",
      "execution_count": 1,
      "metadata": {
        "colab": {
          "base_uri": "https://localhost:8080/"
        },
        "id": "9S29Aop7oqFA",
        "outputId": "5be27a9a-0b64-4086-c804-7a4ebe44160a"
      },
      "outputs": [
        {
          "output_type": "stream",
          "name": "stdout",
          "text": [
            "3.10.12 (main, Sep 11 2024, 15:47:36) [GCC 11.4.0]\n"
          ]
        }
      ],
      "source": [
        "import sys\n",
        "print(sys.version)"
      ]
    },
    {
      "cell_type": "code",
      "source": [
        "from google.colab import drive\n",
        "drive.mount('/content/drive')"
      ],
      "metadata": {
        "colab": {
          "base_uri": "https://localhost:8080/"
        },
        "id": "kcJUF13bowWZ",
        "outputId": "821453f2-b1fc-4742-b5cf-1403eb7c4105"
      },
      "execution_count": 2,
      "outputs": [
        {
          "output_type": "stream",
          "name": "stdout",
          "text": [
            "Mounted at /content/drive\n"
          ]
        }
      ]
    },
    {
      "cell_type": "code",
      "source": [
        "import os\n",
        "os.chdir('/content/drive/My Drive/KURS_CALISMALARIM')\n",
        "!pwd # bize kodun çıktısını dosya yolu olarak veren kod blogudur.')"
      ],
      "metadata": {
        "colab": {
          "base_uri": "https://localhost:8080/"
        },
        "id": "zYhqudf6pBnE",
        "outputId": "24c81c98-0320-499b-fa7a-b3074154717e"
      },
      "execution_count": 3,
      "outputs": [
        {
          "output_type": "stream",
          "name": "stdout",
          "text": [
            "/content/drive/My Drive/KURS_CALISMALARIM\n"
          ]
        }
      ]
    },
    {
      "cell_type": "markdown",
      "source": [
        "Problem 1\n",
        "\n",
        "Kullanıcıdan aldığınız 3 tane sayıyı çarparak ekrana yazdırın. Ekrana yazdırma\n",
        "işlemini *format* metoduyla yapmaya çalışın."
      ],
      "metadata": {
        "id": "8KBNk19ywPCr"
      }
    },
    {
      "cell_type": "code",
      "source": [
        "a = int(input(\"İlk sayı: \"))\n",
        "b = int(input(\"İkinci sayı: \"))\n",
        "c = int(input(\"Üçüncü sayı: \"))\n",
        "\n",
        "carp = a*b*c\n",
        "\n",
        "print(\"{} x {} x {} = {}\".format(a,b,c,carp))\n",
        "\n"
      ],
      "metadata": {
        "colab": {
          "base_uri": "https://localhost:8080/"
        },
        "id": "k0ciwdcTuWNb",
        "outputId": "a7e33f04-aa5c-4ebf-f9ab-71d370250e27"
      },
      "execution_count": 48,
      "outputs": [
        {
          "output_type": "stream",
          "name": "stdout",
          "text": [
            "İlk sayı: 1\n",
            "İkinci sayı: 3\n",
            "Üçüncü sayı: 10\n",
            "1 x 3 x 10 = 30\n"
          ]
        }
      ]
    },
    {
      "cell_type": "markdown",
      "source": [
        "Problem 2\n",
        "\n",
        "Kullanıcıdan aldığınız boy ve kilo değerlerine göre kullanıcının beden kitle indeksini bulun.\n",
        "\n",
        "Beden Kitle İndeksi : Kilo / Boy(m) ** 2"
      ],
      "metadata": {
        "id": "uQlNFn5uxQzH"
      }
    },
    {
      "cell_type": "code",
      "source": [
        "boy = float(input(\"Boy:\"))\n",
        "kilo = int(input(\"Kilo:\"))\n",
        "\n",
        "print(\"Beden Kitle İndeksi:\", kilo / (boy ** 2))\n"
      ],
      "metadata": {
        "colab": {
          "base_uri": "https://localhost:8080/"
        },
        "id": "GOiGkLJbxHVt",
        "outputId": "68806fe8-6b0f-4282-9902-2040932355cc"
      },
      "execution_count": 64,
      "outputs": [
        {
          "output_type": "stream",
          "name": "stdout",
          "text": [
            "Boy:174\n",
            "Kilo:70\n",
            "Beden Kitle İndeksi: 0.0023120623596247854\n"
          ]
        }
      ]
    },
    {
      "cell_type": "markdown",
      "source": [
        "Problem 3\n",
        "\n",
        "Bir aracın kilometrede ne kadar yaktığı ve kaç kilometre yol yaptığı bilgilerini alın ve sürücünün toplam ne kadar ödemesini gerektiğini hesaplayın."
      ],
      "metadata": {
        "id": "RRhPaPs_zqYc"
      }
    },
    {
      "cell_type": "code",
      "source": [
        "benzin = float(input(\"Kilometrede yakılan benzin miktarını giriniz: \"))\n",
        "km = int(input(\"Gidilen Kilometreyi giriniz: \"))\n",
        "\n",
        "ücret = benzin * km\n",
        "\n",
        "print(\"Ödemeniz gereken tutar: \", ücret)\n"
      ],
      "metadata": {
        "colab": {
          "base_uri": "https://localhost:8080/"
        },
        "id": "gIxpkAMnzovj",
        "outputId": "26e6fd9f-670b-43f0-b2b9-156250d8f7ab"
      },
      "execution_count": 66,
      "outputs": [
        {
          "output_type": "stream",
          "name": "stdout",
          "text": [
            "Kilometrede yakılan benzin miktarını giriniz: 0.22\n",
            "Gidilen Kilometreyi giriniz: 430\n",
            "Ödemeniz gereken tutar:  94.6\n"
          ]
        }
      ]
    },
    {
      "cell_type": "markdown",
      "source": [
        "Problem 4\n",
        "\n",
        "Kullanıcıdan ad,soyad ve numara bilgisini alarak bunları alt alta ekrana yazdırın."
      ],
      "metadata": {
        "id": "R8UpP-t2z_3y"
      }
    },
    {
      "cell_type": "code",
      "source": [
        "isim = input(\"Lütfen ismini giriniz: \")\n",
        "soyisim =input(\"Lütfen Soyisminizi giriniz: \")\n",
        "numara = input(\"Lütfen numaranızı giriniz: \")\n",
        "\n",
        "print(\"\\nLütfen bekleyiniz...\\n\")\n",
        "\n",
        "print(\"{}\\n{}\\n{}\\n\".format(isim,soyisim,numara))\n",
        "\n",
        "print(\"\\nSisteme kayıt başarılı...\\n\")\n"
      ],
      "metadata": {
        "colab": {
          "base_uri": "https://localhost:8080/"
        },
        "id": "GZgmdPEKz-qW",
        "outputId": "592620cc-4a9d-4800-b072-a0b1650f296c"
      },
      "execution_count": 77,
      "outputs": [
        {
          "output_type": "stream",
          "name": "stdout",
          "text": [
            "Lütfen ismini giriniz: Cemil\n",
            "Lütfen Soyisminizi giriniz: İlyas\n",
            "Lütfen numaranızı giriniz: 240118233\n",
            "\n",
            "Lütfen bekleyiniz...\n",
            "\n",
            "Cemil\n",
            "İlyas\n",
            "240118233\n",
            "\n",
            "\n",
            "Sisteme kayıt başarılı...\n",
            "\n"
          ]
        }
      ]
    },
    {
      "cell_type": "markdown",
      "source": [
        "Problem 4\n",
        "\n",
        "format kullanarak yapılışı"
      ],
      "metadata": {
        "id": "tBh55ZfS1V2O"
      }
    },
    {
      "cell_type": "code",
      "source": [
        "isim = input(\"Lütfen İsmini giriniz: \")\n",
        "soyisim =input(\"Lütfen Soyisminizi giriniz: \")\n",
        "numara = int(input(\"Lütfen numaranızı giriniz: \"))\n",
        "\n",
        "liste =[isim, soyisim, numara]\n",
        "\n",
        "print(\"İsminiz: {}\\nSoyisminiz: {}\\nNumaranız: {} \".format(liste[0],liste[1],liste[2]))\n",
        "print(\"Sisteme kayıt başarılı...\")"
      ],
      "metadata": {
        "colab": {
          "base_uri": "https://localhost:8080/"
        },
        "id": "N3x0nG4f1UtJ",
        "outputId": "bff5553c-c40b-4fe5-8ffe-32ed9e95c1ba"
      },
      "execution_count": 35,
      "outputs": [
        {
          "output_type": "stream",
          "name": "stdout",
          "text": [
            "Lütfen ismini giriniz: cemil\n",
            "Lütfen Soyisminizi giriniz: ilyas\n",
            "Lütfen numaranızı giriniz: 240118233\n",
            "İsminiz: cemil\n",
            "Soyisminiz: ilyas\n",
            "Numaranız: 240118233 \n",
            "Sisteme kayıt başarılı...\n"
          ]
        }
      ]
    },
    {
      "cell_type": "markdown",
      "source": [
        "Problem 5\n",
        "\n",
        "Kullanıcıdan iki tane sayı isteyin ve bu sayıların değerlerini birbirleriyle değiştirin."
      ],
      "metadata": {
        "id": "IVddjyqx2F0K"
      }
    },
    {
      "cell_type": "code",
      "source": [
        "sayı = int(input(\"Bir rakam giriniz: \"))\n",
        "sayı_iki = int(input(\"Bir rakam daha giriniz:\"))\n",
        "\n",
        "print(\"\\nDeğiştirilmeden önceki ilk sayı: \",sayı, \"\\nDeğiştirilmeden önceki ikinci sayı: \", sayı_iki)\n",
        "\n",
        "\n",
        "sayı,sayı_iki = sayı_iki,sayı\n",
        "\n",
        "print(\"\\nDeğiştirilen ilk sayı: {}\\nDeğiştirilen ikinci sayı: {}\".format(sayı,sayı_iki))\n"
      ],
      "metadata": {
        "colab": {
          "base_uri": "https://localhost:8080/"
        },
        "id": "Ykvl7T0r2CBV",
        "outputId": "5b7dd284-2b70-4f38-bc49-f4c9e1738a8c"
      },
      "execution_count": 82,
      "outputs": [
        {
          "output_type": "stream",
          "name": "stdout",
          "text": [
            "Bir rakam giriniz: 1\n",
            "Bir rakam daha giriniz:2\n",
            "\n",
            "Değiştirilmeden önceki ilk sayı:  1 \n",
            "Değiştirilmeden önceki ikinci sayı:  2\n",
            "\n",
            "Değiştirilen ilk sayı: 2\n",
            "Değiştirilen ikinci sayı: 1\n"
          ]
        }
      ]
    },
    {
      "cell_type": "markdown",
      "source": [
        "Problem 5\n",
        "İkinci yol"
      ],
      "metadata": {
        "id": "73G8H6cQD5Rg"
      }
    },
    {
      "cell_type": "code",
      "source": [
        "k = int(input(\"İlk sayı:\"))\n",
        "l = int(input(\"ikinci sayı:\"))\n",
        "\n",
        "print(\"\\nDeğiştirilmeden önceki halleri: {} {}\".format(k,l))\n",
        "\n",
        "k,l = l,k\n",
        "\n",
        "print(\"Değiştirildikten sonraki halleri: {} {}\".format(k,l))"
      ],
      "metadata": {
        "colab": {
          "base_uri": "https://localhost:8080/"
        },
        "id": "-dV9xGCmD4ID",
        "outputId": "d747f043-8d89-4c04-e209-e69148d887e3"
      },
      "execution_count": 85,
      "outputs": [
        {
          "output_type": "stream",
          "name": "stdout",
          "text": [
            "İlk sayı:1\n",
            "ikinci sayı:2\n",
            "\n",
            "Değiştirilmeden önceki halleri: 1 2\n",
            "Değiştirildikten sonraki halleri: 2 1\n"
          ]
        }
      ]
    },
    {
      "cell_type": "markdown",
      "source": [
        "Problem 6\n",
        "\n",
        "Kullanıcıdan bir dik üçgenin dik olan iki kenarını(a,b) alın ve hipotenüs uzunluğunu bulmaya çalışın.\n",
        "\n",
        "Hipotenüs Formülü: a^2 + b^2 = c^2"
      ],
      "metadata": {
        "id": "ACjKB1FH3rGQ"
      }
    },
    {
      "cell_type": "code",
      "source": [
        "a = int(input(\"Birinci kenarın değerini giriniz:\"))\n",
        "b = int(input(\"İkinci kenarın değerini giriniz: \"))\n",
        "\n",
        "hipotenus = (a**2 + b**2) ** 0.5\n",
        "\n",
        "print(\"Hipotenüsün uzunluğu: \", hipotenus)\n",
        "\n",
        "\n"
      ],
      "metadata": {
        "colab": {
          "base_uri": "https://localhost:8080/"
        },
        "id": "BAUyyFwU3pUx",
        "outputId": "4b96353b-2e90-405f-a3f8-7b1c3f905fc7"
      },
      "execution_count": 45,
      "outputs": [
        {
          "output_type": "stream",
          "name": "stdout",
          "text": [
            "Birinci kenarın değerini giriniz:3\n",
            "İkinci kenarın değerini giriniz: 4\n",
            "Hipotenüsün uzunluğu:  5.0\n"
          ]
        }
      ]
    }
  ]
}