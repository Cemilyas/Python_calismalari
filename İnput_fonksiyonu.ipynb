{
  "nbformat": 4,
  "nbformat_minor": 0,
  "metadata": {
    "colab": {
      "provenance": []
    },
    "kernelspec": {
      "name": "python3",
      "display_name": "Python 3"
    },
    "language_info": {
      "name": "python"
    }
  },
  "cells": [
    {
      "cell_type": "code",
      "execution_count": null,
      "metadata": {
        "colab": {
          "base_uri": "https://localhost:8080/"
        },
        "id": "CULPFJDREvx7",
        "outputId": "5f401cd3-39d4-401f-bd3b-ed111662760b"
      },
      "outputs": [
        {
          "output_type": "stream",
          "name": "stdout",
          "text": [
            "3.10.12 (main, Sep 11 2024, 15:47:36) [GCC 11.4.0]\n"
          ]
        }
      ],
      "source": [
        "import sys\n",
        "print(sys.version)"
      ]
    },
    {
      "cell_type": "code",
      "source": [
        "from google.colab import drive\n",
        "drive.mount('/content/drive')"
      ],
      "metadata": {
        "colab": {
          "base_uri": "https://localhost:8080/"
        },
        "id": "qf0SCw-AE-Uj",
        "outputId": "20a20c37-11c0-40b8-c641-be11264351d0"
      },
      "execution_count": null,
      "outputs": [
        {
          "output_type": "stream",
          "name": "stdout",
          "text": [
            "Mounted at /content/drive\n"
          ]
        }
      ]
    },
    {
      "cell_type": "code",
      "source": [
        "import os\n",
        "os.chdir('/content/drive/My Drive/KURS_CALISMALARIM')\n",
        "\n",
        "!pwd # bize kodun çıktısını dosya yolu olarak veren kod blogudur."
      ],
      "metadata": {
        "colab": {
          "base_uri": "https://localhost:8080/"
        },
        "id": "X7R9xQg8FIse",
        "outputId": "094ba670-8998-4cb0-98bc-8708c5bb9e30"
      },
      "execution_count": null,
      "outputs": [
        {
          "output_type": "stream",
          "name": "stdout",
          "text": [
            "/content/drive/My Drive/KURS_CALISMALARIM\n"
          ]
        }
      ]
    },
    {
      "cell_type": "code",
      "source": [
        "# input fonksiyonu kullanıcıdan girdi almamızı sağlayan komuttur\n",
        "\n",
        "input(\"Lütfen adınızı giriniz:\")"
      ],
      "metadata": {
        "colab": {
          "base_uri": "https://localhost:8080/",
          "height": 53
        },
        "id": "4_N1TTucFP9t",
        "outputId": "c867d96c-1078-4590-8c35-b477ad00f30e"
      },
      "execution_count": null,
      "outputs": [
        {
          "name": "stdout",
          "output_type": "stream",
          "text": [
            "Lütfen adınızı giriniz:Cemil\n"
          ]
        },
        {
          "output_type": "execute_result",
          "data": {
            "text/plain": [
              "'Cemil'"
            ],
            "application/vnd.google.colaboratory.intrinsic+json": {
              "type": "string"
            }
          },
          "metadata": {},
          "execution_count": 4
        }
      ]
    },
    {
      "cell_type": "code",
      "source": [
        "input(\"Lütfen bir sayı giriniz:\")"
      ],
      "metadata": {
        "colab": {
          "base_uri": "https://localhost:8080/",
          "height": 53
        },
        "id": "OYfczP26FkYG",
        "outputId": "a31b03dc-a7ee-4dee-b1bb-cb834404439f"
      },
      "execution_count": null,
      "outputs": [
        {
          "name": "stdout",
          "output_type": "stream",
          "text": [
            "Lütfen bir sayı giriniz:14\n"
          ]
        },
        {
          "output_type": "execute_result",
          "data": {
            "text/plain": [
              "'14'"
            ],
            "application/vnd.google.colaboratory.intrinsic+json": {
              "type": "string"
            }
          },
          "metadata": {},
          "execution_count": 5
        }
      ]
    },
    {
      "cell_type": "code",
      "source": [
        "# İnput ifadesi kullanım örnekleri\n",
        "\n",
        "a = input(\"Lütfen bir isim giriniz:\")\n",
        "print(\"Girilen isim:\" , a)"
      ],
      "metadata": {
        "colab": {
          "base_uri": "https://localhost:8080/"
        },
        "id": "h7Ib1ZzLGsyW",
        "outputId": "c8ae358e-4288-4e23-9a32-88ac13f4aedf"
      },
      "execution_count": null,
      "outputs": [
        {
          "output_type": "stream",
          "name": "stdout",
          "text": [
            "Lütfen bir isim giriniz:Cemil\n",
            "Girilen isim: Cemil\n"
          ]
        }
      ]
    },
    {
      "cell_type": "code",
      "source": [
        "# input fonksiyonunu bir değere atıyıp oradan tekrar okutabiliriz\n",
        "\n",
        "c = input(\"Lüften bir rakam giriniz:\")\n",
        "print(c * 3)"
      ],
      "metadata": {
        "colab": {
          "base_uri": "https://localhost:8080/"
        },
        "id": "Lfuqdt6zFrhh",
        "outputId": "2cc4edb8-10a9-4dbb-885b-770fc852b457"
      },
      "execution_count": 5,
      "outputs": [
        {
          "output_type": "stream",
          "name": "stdout",
          "text": [
            "Lüften bir rakam giriniz:10\n",
            "101010\n"
          ]
        }
      ]
    },
    {
      "cell_type": "code",
      "source": [
        "# İnput fonksiyonu string bir ifade olarak gelirler,\n",
        "# Bu yüzden yukarıda girilen ifade integer bir ifade olduğundan işlem aritmetik olmadı.\n",
        "\n",
        "c = int(input(\"Lütfen bir rakam giriniz:\"))\n",
        "print(c * 3)"
      ],
      "metadata": {
        "colab": {
          "base_uri": "https://localhost:8080/"
        },
        "id": "j0-8CrHFGBKj",
        "outputId": "e7096405-495b-4e59-d5ce-feb2e4c3aabf"
      },
      "execution_count": 6,
      "outputs": [
        {
          "output_type": "stream",
          "name": "stdout",
          "text": [
            "Lütfen bir rakam giriniz:10\n",
            "30\n"
          ]
        }
      ]
    },
    {
      "cell_type": "code",
      "source": [
        "# input kullanımında dikkat edilmesi gereken bir örnek\n",
        "# int komutu tanımlanmadığı için girilen ifadeler string alındı ve matematiksel işlem olarak toplanmadı.\n",
        "\n",
        "k = input(\"Lütfen bir sayı giriniz:\")\n",
        "l = input(\"Lütfen bir sayı giriniz:\")\n",
        "m = input(\"Lütfen bir sayı giriniz:\")\n",
        "\n",
        "print(\"Girilen değerlerin toplamı:\", k+l+m)\n"
      ],
      "metadata": {
        "colab": {
          "base_uri": "https://localhost:8080/"
        },
        "id": "L-TKdg-ZG39A",
        "outputId": "6c3ef8d4-063d-4c53-ae12-a14f5cf5bc75"
      },
      "execution_count": null,
      "outputs": [
        {
          "output_type": "stream",
          "name": "stdout",
          "text": [
            "Lütfen bir sayı giriniz:4\n",
            "Lütfen bir sayı giriniz:2\n",
            "Lütfen bir sayı giriniz:6\n",
            "Girilen değerlerin toplamı: 426\n"
          ]
        }
      ]
    },
    {
      "cell_type": "code",
      "source": [
        "# Yukarıdaki ifadenin doğrusu bu şekilde\n",
        "\n",
        "p = int(input(\"Lütfen bir sayı giriniz:\"))\n",
        "r = int(input(\"Lütfen bir sayı giriniz:\"))\n",
        "s = int(input(\"Lütfen bir sayı giriniz:\"))\n",
        "\n",
        "print(\"Girilen sayıların toplamı:\", p+r+s)"
      ],
      "metadata": {
        "colab": {
          "base_uri": "https://localhost:8080/"
        },
        "id": "qXMQWwOfIUya",
        "outputId": "b644ab50-029c-4263-810d-0011984e1e3d"
      },
      "execution_count": null,
      "outputs": [
        {
          "output_type": "stream",
          "name": "stdout",
          "text": [
            "Lütfen bir sayı giriniz:4\n",
            "Lütfen bir sayı giriniz:5\n",
            "Lütfen bir sayı giriniz:6\n",
            "Girilen sayıların toplamı: 15\n"
          ]
        }
      ]
    },
    {
      "cell_type": "code",
      "source": [],
      "metadata": {
        "id": "iIT9r3g0I4CM"
      },
      "execution_count": null,
      "outputs": []
    }
  ]
}