{
  "nbformat": 4,
  "nbformat_minor": 0,
  "metadata": {
    "colab": {
      "provenance": []
    },
    "kernelspec": {
      "name": "python3",
      "display_name": "Python 3"
    },
    "language_info": {
      "name": "python"
    }
  },
  "cells": [
    {
      "cell_type": "code",
      "execution_count": 1,
      "metadata": {
        "colab": {
          "base_uri": "https://localhost:8080/"
        },
        "id": "CULPFJDREvx7",
        "outputId": "5f401cd3-39d4-401f-bd3b-ed111662760b"
      },
      "outputs": [
        {
          "output_type": "stream",
          "name": "stdout",
          "text": [
            "3.10.12 (main, Sep 11 2024, 15:47:36) [GCC 11.4.0]\n"
          ]
        }
      ],
      "source": [
        "import sys\n",
        "print(sys.version)"
      ]
    },
    {
      "cell_type": "code",
      "source": [
        "from google.colab import drive\n",
        "drive.mount('/content/drive')"
      ],
      "metadata": {
        "colab": {
          "base_uri": "https://localhost:8080/"
        },
        "id": "qf0SCw-AE-Uj",
        "outputId": "20a20c37-11c0-40b8-c641-be11264351d0"
      },
      "execution_count": 2,
      "outputs": [
        {
          "output_type": "stream",
          "name": "stdout",
          "text": [
            "Mounted at /content/drive\n"
          ]
        }
      ]
    },
    {
      "cell_type": "code",
      "source": [
        "import os\n",
        "os.chdir('/content/drive/My Drive/KURS_CALISMALARIM')\n",
        "\n",
        "!pwd # bize kodun çıktısını dosya yolu olarak veren kod blogudur."
      ],
      "metadata": {
        "colab": {
          "base_uri": "https://localhost:8080/"
        },
        "id": "X7R9xQg8FIse",
        "outputId": "094ba670-8998-4cb0-98bc-8708c5bb9e30"
      },
      "execution_count": 3,
      "outputs": [
        {
          "output_type": "stream",
          "name": "stdout",
          "text": [
            "/content/drive/My Drive/KURS_CALISMALARIM\n"
          ]
        }
      ]
    },
    {
      "cell_type": "code",
      "source": [
        "# input fonksiyonu kullanıcıdan girdi almamızı sağlayan komuttur\n",
        "\n",
        "input(\"Lütfen adınızı giriniz:\")"
      ],
      "metadata": {
        "colab": {
          "base_uri": "https://localhost:8080/",
          "height": 53
        },
        "id": "4_N1TTucFP9t",
        "outputId": "c867d96c-1078-4590-8c35-b477ad00f30e"
      },
      "execution_count": 4,
      "outputs": [
        {
          "name": "stdout",
          "output_type": "stream",
          "text": [
            "Lütfen adınızı giriniz:Cemil\n"
          ]
        },
        {
          "output_type": "execute_result",
          "data": {
            "text/plain": [
              "'Cemil'"
            ],
            "application/vnd.google.colaboratory.intrinsic+json": {
              "type": "string"
            }
          },
          "metadata": {},
          "execution_count": 4
        }
      ]
    },
    {
      "cell_type": "code",
      "source": [
        "input(\"Lütfen bir sayı giriniz:\")"
      ],
      "metadata": {
        "colab": {
          "base_uri": "https://localhost:8080/",
          "height": 53
        },
        "id": "OYfczP26FkYG",
        "outputId": "a31b03dc-a7ee-4dee-b1bb-cb834404439f"
      },
      "execution_count": 5,
      "outputs": [
        {
          "name": "stdout",
          "output_type": "stream",
          "text": [
            "Lütfen bir sayı giriniz:14\n"
          ]
        },
        {
          "output_type": "execute_result",
          "data": {
            "text/plain": [
              "'14'"
            ],
            "application/vnd.google.colaboratory.intrinsic+json": {
              "type": "string"
            }
          },
          "metadata": {},
          "execution_count": 5
        }
      ]
    },
    {
      "cell_type": "code",
      "source": [
        "# İnput ifadesi kullanım örnekleri\n",
        "\n",
        "a = input(\"Lütfen bir isim giriniz:\")\n",
        "print(\"Girilen isim:\" , a)"
      ],
      "metadata": {
        "colab": {
          "base_uri": "https://localhost:8080/"
        },
        "id": "h7Ib1ZzLGsyW",
        "outputId": "c8ae358e-4288-4e23-9a32-88ac13f4aedf"
      },
      "execution_count": 9,
      "outputs": [
        {
          "output_type": "stream",
          "name": "stdout",
          "text": [
            "Lütfen bir isim giriniz:Cemil\n",
            "Girilen isim: Cemil\n"
          ]
        }
      ]
    },
    {
      "cell_type": "code",
      "source": [
        "# input fonksiyonunu bir değere atıyıp oradan tekrar okutabiliriz\n",
        "\n",
        "c = input(\"Lüften bir rakam giriniz:\")\n",
        "print(\"Kullanıcıdan alınan çıktı:\", a)"
      ],
      "metadata": {
        "colab": {
          "base_uri": "https://localhost:8080/",
          "height": 193
        },
        "id": "Lfuqdt6zFrhh",
        "outputId": "90fa599d-871f-4387-92e6-23494e304cdd"
      },
      "execution_count": 7,
      "outputs": [
        {
          "name": "stdout",
          "output_type": "stream",
          "text": [
            "Lüften bir rakam giriniz:9\n"
          ]
        },
        {
          "output_type": "error",
          "ename": "NameError",
          "evalue": "name 'a' is not defined",
          "traceback": [
            "\u001b[0;31m---------------------------------------------------------------------------\u001b[0m",
            "\u001b[0;31mNameError\u001b[0m                                 Traceback (most recent call last)",
            "\u001b[0;32m<ipython-input-7-8d1b87a6ec3a>\u001b[0m in \u001b[0;36m<cell line: 4>\u001b[0;34m()\u001b[0m\n\u001b[1;32m      2\u001b[0m \u001b[0;34m\u001b[0m\u001b[0m\n\u001b[1;32m      3\u001b[0m \u001b[0mc\u001b[0m \u001b[0;34m=\u001b[0m \u001b[0minput\u001b[0m\u001b[0;34m(\u001b[0m\u001b[0;34m\"Lüften bir rakam giriniz:\"\u001b[0m\u001b[0;34m)\u001b[0m\u001b[0;34m\u001b[0m\u001b[0;34m\u001b[0m\u001b[0m\n\u001b[0;32m----> 4\u001b[0;31m \u001b[0mprint\u001b[0m\u001b[0;34m(\u001b[0m\u001b[0;34m\"Kullanıcıdan alınan çıktı:\"\u001b[0m\u001b[0;34m,\u001b[0m \u001b[0ma\u001b[0m\u001b[0;34m)\u001b[0m\u001b[0;34m\u001b[0m\u001b[0;34m\u001b[0m\u001b[0m\n\u001b[0m",
            "\u001b[0;31mNameError\u001b[0m: name 'a' is not defined"
          ]
        }
      ]
    },
    {
      "cell_type": "code",
      "source": [
        "# İnput fonksiyonu string bir ifade olarak gelirler,\n",
        "# Bu yüzden yukarıda girilen ifade integer bir ifade olduğundan hata algılandı.\n",
        "\n",
        "c = int(input(\"Lütfen bir rakam giriniz:\"))\n",
        "print(\"Kullanıcıdan alınan çıktı:\" , c)"
      ],
      "metadata": {
        "colab": {
          "base_uri": "https://localhost:8080/"
        },
        "id": "j0-8CrHFGBKj",
        "outputId": "95a13a4e-65df-465d-b01d-e07cd63ff6eb"
      },
      "execution_count": 8,
      "outputs": [
        {
          "output_type": "stream",
          "name": "stdout",
          "text": [
            "Lütfen bir rakam giriniz:4\n",
            "Kullanıcıdan alınan çıktı: 4\n"
          ]
        }
      ]
    },
    {
      "cell_type": "code",
      "source": [
        "# input kullanımında dikkat edilmesi gereken bir örnek\n",
        "# int komutu tanımlanmadığı için girilen ifadeler string alındı ve matematiksel işlem olarak toplanmadı.\n",
        "\n",
        "k = input(\"Lütfen bir sayı giriniz:\")\n",
        "l = input(\"Lütfen bir sayı giriniz:\")\n",
        "m = input(\"Lütfen bir sayı giriniz:\")\n",
        "\n",
        "print(\"Girilen değerlerin toplamı:\", k+l+m)\n"
      ],
      "metadata": {
        "colab": {
          "base_uri": "https://localhost:8080/"
        },
        "id": "L-TKdg-ZG39A",
        "outputId": "6c3ef8d4-063d-4c53-ae12-a14f5cf5bc75"
      },
      "execution_count": 10,
      "outputs": [
        {
          "output_type": "stream",
          "name": "stdout",
          "text": [
            "Lütfen bir sayı giriniz:4\n",
            "Lütfen bir sayı giriniz:2\n",
            "Lütfen bir sayı giriniz:6\n",
            "Girilen değerlerin toplamı: 426\n"
          ]
        }
      ]
    },
    {
      "cell_type": "code",
      "source": [
        "# Yukarıdaki ifadenin doğrusu bu şekilde\n",
        "\n",
        "p = int(input(\"Lütfen bir sayı giriniz:\"))\n",
        "r = int(input(\"Lütfen bir sayı giriniz:\"))\n",
        "s = int(input(\"Lütfen bir sayı giriniz:\"))\n",
        "\n",
        "print(\"Girilen sayıların toplamı:\", p+r+s)"
      ],
      "metadata": {
        "colab": {
          "base_uri": "https://localhost:8080/"
        },
        "id": "qXMQWwOfIUya",
        "outputId": "b644ab50-029c-4263-810d-0011984e1e3d"
      },
      "execution_count": 12,
      "outputs": [
        {
          "output_type": "stream",
          "name": "stdout",
          "text": [
            "Lütfen bir sayı giriniz:4\n",
            "Lütfen bir sayı giriniz:5\n",
            "Lütfen bir sayı giriniz:6\n",
            "Girilen sayıların toplamı: 15\n"
          ]
        }
      ]
    },
    {
      "cell_type": "code",
      "source": [],
      "metadata": {
        "id": "iIT9r3g0I4CM"
      },
      "execution_count": null,
      "outputs": []
    }
  ]
}