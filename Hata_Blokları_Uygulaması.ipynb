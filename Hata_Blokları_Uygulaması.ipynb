{
  "nbformat": 4,
  "nbformat_minor": 0,
  "metadata": {
    "colab": {
      "provenance": []
    },
    "kernelspec": {
      "name": "python3",
      "display_name": "Python 3"
    },
    "language_info": {
      "name": "python"
    }
  },
  "cells": [
    {
      "cell_type": "code",
      "execution_count": 1,
      "metadata": {
        "colab": {
          "base_uri": "https://localhost:8080/"
        },
        "id": "AUIgpvK-yZlz",
        "outputId": "ba02986f-fd7d-46bd-cfed-a924dbf2baf4"
      },
      "outputs": [
        {
          "output_type": "stream",
          "name": "stdout",
          "text": [
            "3.11.11 (main, Dec  4 2024, 08:55:07) [GCC 11.4.0]\n"
          ]
        }
      ],
      "source": [
        "import sys\n",
        "print(sys.version)"
      ]
    },
    {
      "cell_type": "code",
      "source": [
        "from google.colab import drive\n",
        "drive.mount('/content/drive')"
      ],
      "metadata": {
        "colab": {
          "base_uri": "https://localhost:8080/"
        },
        "id": "0ow7x6DRybwJ",
        "outputId": "178e206c-ab30-4705-e5ea-5d89803ef40a"
      },
      "execution_count": 3,
      "outputs": [
        {
          "output_type": "stream",
          "name": "stdout",
          "text": [
            "Mounted at /content/drive\n"
          ]
        }
      ]
    },
    {
      "cell_type": "code",
      "source": [
        "import os\n",
        "os.chdir('/content/drive/My Drive/KURS_CALISMALARIM')\n",
        "!pwd # bize kodun çıktısını dosya yolu olarak veren kod blogudur.')"
      ],
      "metadata": {
        "colab": {
          "base_uri": "https://localhost:8080/"
        },
        "id": "w87T3csoyeze",
        "outputId": "2768e098-980c-4a0c-94a9-20fa3eef3d67"
      },
      "execution_count": 4,
      "outputs": [
        {
          "output_type": "stream",
          "name": "stdout",
          "text": [
            "/content/drive/My Drive/KURS_CALISMALARIM\n"
          ]
        }
      ]
    },
    {
      "cell_type": "markdown",
      "source": [
        "***Hata ve İstisnalar Konusu Bütün Metodların Bir Arada Kullanıldığı Uygulama***"
      ],
      "metadata": {
        "id": "7aYpgb7U1DzR"
      }
    },
    {
      "cell_type": "code",
      "source": [
        "import time\n",
        "sayac = 3\n",
        "while True:\n",
        "\n",
        "    try:\n",
        "        o = int(input(\"Sayı 1: \"))\n",
        "        x = int(input(\"Sayı 2: \"))\n",
        "        time.sleep(1)\n",
        "        print(\"Sonuç: \",o / x,\"\\n\")  # Hiçbir Hata Çıkmaması Halinde Bu Blok Çalışacak.\n",
        "\n",
        "\n",
        "    except ValueError: # Yanlış İfade Girildiğinde Bu Blok Çalışacak.\n",
        "        sayac -= 1\n",
        "        time.sleep(1)\n",
        "        print(\"İnteger Bir İnput'a String Değer Girilemez! \")\n",
        "\n",
        "\n",
        "    except ZeroDivisionError: # 0 Yanlış Kullanıldığında Bu Blok Çalışacak.\n",
        "        time.sleep(1)\n",
        "        sayac -= 1\n",
        "        print(\"Sayı 0'a Bölünemez! \")\n",
        "\n",
        "    finally:\n",
        "        time.sleep(1)\n",
        "        print(\"Kalan Deneme Hakkı: {}\\n\".format(sayac))\n",
        "\n",
        "\n",
        "    if sayac == 0:  # While Döngüsünden Çıkmak İçin Şart Koyuldu,  Sayac 0 Olduğunda Program Durdurulacak.\n",
        "        time.sleep(1)\n",
        "        raise SystemError(\"Hakkınız bitti\", sayac)\n",
        "        break\n"
      ],
      "metadata": {
        "colab": {
          "base_uri": "https://localhost:8080/"
        },
        "id": "wAwilqwKym2D",
        "outputId": "4f08e774-0baf-4a8a-f966-053c2ba32189"
      },
      "execution_count": null,
      "outputs": [
        {
          "output_type": "stream",
          "name": "stdout",
          "text": [
            "Sayı 1: 12\n",
            "Sayı 2: 3\n",
            "Sonuç:  4.0 \n",
            "\n",
            "Kalan Deneme Hakkı: 3\n",
            "\n",
            "Sayı 1: 12\n",
            "Sayı 2: 0\n",
            "Sayı 0'a Bölünemez! \n",
            "Kalan Deneme Hakkı: 2\n",
            "\n",
            "Sayı 1: 12\n",
            "Sayı 2: b\n",
            "İnteger Bir İnput'a String Değer Girilemez! \n",
            "Kalan Deneme Hakkı: 1\n",
            "\n"
          ]
        }
      ]
    },
    {
      "cell_type": "code",
      "source": [],
      "metadata": {
        "id": "oBb3B2N71Sib"
      },
      "execution_count": null,
      "outputs": []
    }
  ]
}