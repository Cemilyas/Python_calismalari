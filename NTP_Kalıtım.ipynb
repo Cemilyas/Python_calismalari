{
  "nbformat": 4,
  "nbformat_minor": 0,
  "metadata": {
    "colab": {
      "provenance": []
    },
    "kernelspec": {
      "name": "python3",
      "display_name": "Python 3"
    },
    "language_info": {
      "name": "python"
    }
  },
  "cells": [
    {
      "cell_type": "code",
      "execution_count": 1,
      "metadata": {
        "colab": {
          "base_uri": "https://localhost:8080/"
        },
        "id": "Sichkor5gqed",
        "outputId": "cf183e3a-ad8a-4467-a5bd-2f2036a645d1"
      },
      "outputs": [
        {
          "output_type": "stream",
          "name": "stdout",
          "text": [
            "3.11.11 (main, Dec  4 2024, 08:55:07) [GCC 11.4.0]\n"
          ]
        }
      ],
      "source": [
        "import sys\n",
        "print(sys.version)"
      ]
    },
    {
      "cell_type": "code",
      "source": [
        "from google.colab import drive\n",
        "drive.mount('/content/drive')"
      ],
      "metadata": {
        "colab": {
          "base_uri": "https://localhost:8080/"
        },
        "id": "h2do2fUqgwDr",
        "outputId": "995fdabf-7dec-4452-fdf8-30ec1a6d7033"
      },
      "execution_count": 2,
      "outputs": [
        {
          "output_type": "stream",
          "name": "stdout",
          "text": [
            "Mounted at /content/drive\n"
          ]
        }
      ]
    },
    {
      "cell_type": "code",
      "source": [
        "import os\n",
        "os.chdir('/content/drive/My Drive/KURS_CALISMALARIM')\n",
        "!pwd # bize kodun çıktısını dosya yolu olarak veren kod blogudur.')"
      ],
      "metadata": {
        "colab": {
          "base_uri": "https://localhost:8080/"
        },
        "id": "S4rNIjd-gyXh",
        "outputId": "dcc0bbc9-4be1-43d6-a61a-2f912a50340d"
      },
      "execution_count": 3,
      "outputs": [
        {
          "output_type": "stream",
          "name": "stdout",
          "text": [
            "/content/drive/My Drive/KURS_CALISMALARIM\n"
          ]
        }
      ]
    },
    {
      "cell_type": "code",
      "source": [
        "class Çalışan():\n",
        "    def __init__(self,isim = \"Bilgi Yok\",maaş = \"Bilgi Yok\",departman = \"Bilgi Yok\"):\n",
        "        print(\"\\nÇalışan Sınıfının İnit Fonksiyonu Aktif\")\n",
        "\n",
        "        self.isim = isim\n",
        "        self.maaş = maaş\n",
        "        self.departman = departman\n",
        "\n",
        "    def bilgiler(self):\n",
        "        print(\"\"\"\n",
        "\n",
        " Çalışan Bilgileri;\n",
        "\n",
        "             İsim: {}\n",
        "             Maaş : {}\n",
        "             Departman: {}\n",
        "\n",
        "\n",
        "             \"\"\".format(self.isim,self.maaş,self.departman))\n",
        "\n",
        "    def meslek_degistir(self,yeni_meslek):\n",
        "        self.meslek = yeni_meslek\n",
        "\n",
        "\n",
        "\n",
        "çalışan = Çalışan(\"Cemil\",1500,\"Backend\")"
      ],
      "metadata": {
        "colab": {
          "base_uri": "https://localhost:8080/"
        },
        "id": "B522rRaMhKGI",
        "outputId": "7effdb11-383c-4833-b6f3-a6b1fb269416"
      },
      "execution_count": 4,
      "outputs": [
        {
          "output_type": "stream",
          "name": "stdout",
          "text": [
            "\n",
            "Çalışan Sınıfının İnit Fonksiyonu Aktif\n"
          ]
        }
      ]
    },
    {
      "cell_type": "code",
      "source": [
        "çalışan.bilgiler()"
      ],
      "metadata": {
        "colab": {
          "base_uri": "https://localhost:8080/"
        },
        "id": "IujXpycChOXX",
        "outputId": "ab169859-cfbb-4d93-af30-0d37c1064632"
      },
      "execution_count": 5,
      "outputs": [
        {
          "output_type": "stream",
          "name": "stdout",
          "text": [
            "\n",
            "\n",
            " Çalışan Bilgileri;\n",
            " \n",
            "             İsim: Cemil\n",
            "             Maaş : 1500\n",
            "             Departman: Backend\n",
            "             \n",
            "        \n",
            "             \n"
          ]
        }
      ]
    },
    {
      "cell_type": "code",
      "source": [
        "class Çalışan():\n",
        "    def __init__(self,isim = \"Bilgi Yok\",maaş = \"Bilgi Yok\",departman = \"Bilgi Yok\"):\n",
        "        print(\"\\nÇalışan Sınıfının İnit Fonksiyonu Aktif\")\n",
        "\n",
        "        self.isim = isim\n",
        "        self.maaş = maaş\n",
        "        self.departman = departman\n",
        "\n",
        "    def bilgiler(self):\n",
        "        print(\"\"\"\n",
        "\n",
        " Çalışan Bilgileri;\n",
        "\n",
        "             İsim: {}\n",
        "             Maaş : {}\n",
        "             Departman: {}\n",
        "\n",
        "\n",
        "             \"\"\".format(self.isim,self.maaş,self.departman))\n",
        "\n",
        "    def meslek_degistir(self,yeni_meslek):\n",
        "        self.meslek = yeni_meslek\n",
        "\n",
        "a = input(\"İsim Giriniz: \")\n",
        "b = int(input(\"Maaş Giriniz: \"))\n",
        "c = input(\"Departman Giriniz: \")\n",
        "\n",
        "çalışan = Çalışan(a,b,c)"
      ],
      "metadata": {
        "colab": {
          "base_uri": "https://localhost:8080/"
        },
        "id": "5q56ERXfhQjJ",
        "outputId": "f5729591-7b0b-4942-a9f3-6e89412fdca5"
      },
      "execution_count": 6,
      "outputs": [
        {
          "output_type": "stream",
          "name": "stdout",
          "text": [
            "İsim Giriniz: Cemil\n",
            "Maaş Giriniz: 7000\n",
            "Departman Giriniz: Yazılım\n",
            "\n",
            "Çalışan Sınıfının İnit Fonksiyonu Aktif\n"
          ]
        }
      ]
    },
    {
      "cell_type": "code",
      "source": [
        "çalışan.bilgiler()"
      ],
      "metadata": {
        "colab": {
          "base_uri": "https://localhost:8080/"
        },
        "id": "TKLqUOi8hdfy",
        "outputId": "093c8ade-377a-4393-d526-73c8e3e3a45a"
      },
      "execution_count": 7,
      "outputs": [
        {
          "output_type": "stream",
          "name": "stdout",
          "text": [
            "\n",
            "\n",
            " Çalışan Bilgileri;\n",
            " \n",
            "             İsim: Cemil\n",
            "             Maaş : 7000\n",
            "             Departman: Yazılım\n",
            "             \n",
            "        \n",
            "             \n"
          ]
        }
      ]
    },
    {
      "cell_type": "code",
      "source": [
        "class Yönetici(Çalışan):\n",
        "  print(\"Yönetici İnit Fonksiyonu Aktif\")\n",
        "  def zam_miktari(self,zam):\n",
        "    self.maaş += zam\n",
        "    print(\"Yeni Maaş: \",self.maaş)"
      ],
      "metadata": {
        "colab": {
          "base_uri": "https://localhost:8080/"
        },
        "id": "c5mRQWuZhjN2",
        "outputId": "6898f446-dca4-4925-ebea-6c8139e7e71d"
      },
      "execution_count": 10,
      "outputs": [
        {
          "output_type": "stream",
          "name": "stdout",
          "text": [
            "Yönetici İnit Fonksiyonu Aktif\n"
          ]
        }
      ]
    },
    {
      "cell_type": "code",
      "source": [
        "class Yönetici(Çalışan):\n",
        "  print(\"Yönetici İnit Fonksiyonu Aktif\")\n",
        "  def zam_miktari(self,zam):\n",
        "    self.maaş += zam\n",
        "    print(\"Yeni Maaş: \",self.maaş)\n",
        "\n",
        "yönetici = Yönetici(\"Burak\",15000,\"İşletmeci\")\n",
        "yönetici.bilgiler()\n",
        "çalışan.bilgiler()"
      ],
      "metadata": {
        "colab": {
          "base_uri": "https://localhost:8080/"
        },
        "id": "Y3P9nmbBh2-1",
        "outputId": "5786e8d4-f670-477a-a93b-a240211fcd5f"
      },
      "execution_count": 15,
      "outputs": [
        {
          "output_type": "stream",
          "name": "stdout",
          "text": [
            "Yönetici İnit Fonksiyonu Aktif\n",
            "\n",
            "Çalışan Sınıfının İnit Fonksiyonu Aktif\n",
            "\n",
            "\n",
            " Çalışan Bilgileri;\n",
            " \n",
            "             İsim: Burak\n",
            "             Maaş : 15000\n",
            "             Departman: İşletmeci\n",
            "             \n",
            "        \n",
            "             \n",
            "\n",
            "\n",
            " Çalışan Bilgileri;\n",
            " \n",
            "             İsim: Cemil\n",
            "             Maaş : 7000\n",
            "             Departman: Yazılım\n",
            "             \n",
            "        \n",
            "             \n"
          ]
        }
      ]
    },
    {
      "cell_type": "markdown",
      "source": [
        "Override Metodu"
      ],
      "metadata": {
        "id": "hcrsFbuHkPDi"
      }
    },
    {
      "cell_type": "code",
      "source": [
        "class Yönetici(Çalışan):\n",
        "  def __init__(self,isim,maaş,departman,pozisyon):     # Çalışan Classından Miras Aldık ve \"pozisyon\" adında yeni bir değişken ekledik\n",
        "    print(\"Yönetici İnit Fonksiyonu Aktif\")            # Programı çalıştırınca bu yazı çıkıcak\n",
        "    self.isim = isim\n",
        "    self.maaş = maaş\n",
        "    self.departman = departman                        # Bu kısmı Override ettik\n",
        "    self.pozisyon = pozisyon\n",
        "\n",
        "  def zam_miktari(self,zam):\n",
        "    self.maaş += zam\n",
        "    print(\"Yeni Maaş: \",self.maaş)\n",
        "\n",
        "yönetici = Yönetici(\"Burak\",15000,\"İşletmeci\",\"Ceo\")  # Bilgileri girdik"
      ],
      "metadata": {
        "colab": {
          "base_uri": "https://localhost:8080/"
        },
        "id": "InUr2r0hiPNR",
        "outputId": "2e08c04c-3a4b-4d71-8644-1f53a944befb"
      },
      "execution_count": 21,
      "outputs": [
        {
          "output_type": "stream",
          "name": "stdout",
          "text": [
            "Yönetici İnit Fonksiyonu Aktif\n"
          ]
        }
      ]
    },
    {
      "cell_type": "code",
      "source": [
        "class Yönetici(Çalışan):\n",
        "    def __init__(self,isim = \"Bilgi Yok\",maaş = \"Bilgi Yok\",departman = \"Bilgi Yok\",pozisyon = \"Bilgi Yok\"):\n",
        "        print(\"Yönetici Sınıfının İnit Fonksiyonu Aktif\")\n",
        "        self.isim = isim\n",
        "        self.maaş = maaş\n",
        "        self.departman = departman\n",
        "        self.pozisyon = pozisyon\n",
        "\n",
        "    def bilgiler(self):                # Bilgiler Kısmını da Override ettik\n",
        "        print(\"\"\"\n",
        "\n",
        " Yönetici Bilgiler;\n",
        "\n",
        "             İsim: {}\n",
        "             Maaş : {}\n",
        "             Departman: {}\n",
        "             Pozisyon: {}\n",
        "\n",
        "             \"\"\".format(self.isim,self.maaş,self.departman,self.pozisyon))\n",
        "\n",
        "\n",
        "    def zam_yap(self,zam):\n",
        "        self.maaş += zam\n",
        "\n",
        "yönetici = Yönetici(\"Burak\",8000,\"İşletmeci\",\"Müdür\")\n",
        "yönetici.bilgiler()      # Yönetici Kısımın Bilgileri Gösteriliyor\n",
        "çalışan.bilgiler()       # Çalışan Kısımın Bilgileri Gösteriliyor"
      ],
      "metadata": {
        "colab": {
          "base_uri": "https://localhost:8080/"
        },
        "id": "g11n7RtTkZU0",
        "outputId": "6689558c-26c9-4543-ca70-007d777c5093"
      },
      "execution_count": 23,
      "outputs": [
        {
          "output_type": "stream",
          "name": "stdout",
          "text": [
            "Yönetici Sınıfının İnit Fonksiyonu Aktif\n",
            "\n",
            "\n",
            " Yönetici Bilgiler;\n",
            " \n",
            "             İsim: Burak\n",
            "             Maaş : 8000\n",
            "             Departman: İşletmeci\n",
            "             Pozisyon: Müdür\n",
            "        \n",
            "             \n",
            "\n",
            "\n",
            " Çalışan Bilgileri;\n",
            " \n",
            "             İsim: Cemil\n",
            "             Maaş : 7000\n",
            "             Departman: Yazılım\n",
            "             \n",
            "        \n",
            "             \n"
          ]
        }
      ]
    },
    {
      "cell_type": "markdown",
      "source": [
        "super() Metodu"
      ],
      "metadata": {
        "id": "tQOc4HL1m0IM"
      }
    },
    {
      "cell_type": "code",
      "source": [
        "class Çalışan():\n",
        "    def __init__(self,isim = \"Bilgi Yok\",maaş = \"Bilgi Yok\",departman = \"Bilgi Yok\"):\n",
        "        print(\"\\nÇalışan Sınıfının İnit Fonksiyonu Aktif\")\n",
        "\n",
        "        self.isim = isim\n",
        "        self.maaş = maaş\n",
        "        self.departman = departman\n",
        "\n",
        "    def bilgiler(self):\n",
        "        print(\"\"\"\n",
        "\n",
        " Çalışan Bilgileri;\n",
        "\n",
        "             İsim: {}\n",
        "             Maaş : {}\n",
        "             Departman: {}\n",
        "\n",
        "\n",
        "             \"\"\".format(self.isim,self.maaş,self.departman))\n",
        "\n",
        "    def meslek_degistir(self,yeni_meslek):\n",
        "        self.meslek = yeni_meslek\n",
        "\n",
        "çalışan = Çalışan(\"Cemil\",1500,\"Backend\")\n",
        "\n",
        "######################################################################################################################### 2.KISIM\n",
        "\n",
        "class Yönetici(Çalışan):\n",
        "    def __init__(self,isim = \"Bilgi Yok\",maaş = \"Bilgi Yok\",departman = \"Bilgi Yok\",pozisyon = \"Bilgi Yok\"):\n",
        "      print(\"\\nYönetici Sınıfının İnit Fonksiyonu Aktif\")\n",
        "      super().__init__(isim,maaş,departman)                  # Yukarıda yazan çıktıyı tekrar yazmadan bu şekilde super() metoduyla tek satırda kolayca kullandık\n",
        "      self.pozisyon = pozisyon                               # Bu kısım ise Yönetici kısmına ait olduğu için girmek zorundayız\n",
        "\n",
        "    def bilgiler(self):                # Bilgiler Kısmını da Override ettik\n",
        "        print(\"\"\"\n",
        "\n",
        " Yönetici Bilgiler;\n",
        "\n",
        "             İsim: {}\n",
        "             Maaş : {}\n",
        "             Departman: {}\n",
        "             Pozisyon: {}\n",
        "\n",
        "             \"\"\".format(self.isim,self.maaş,self.departman,self.pozisyon))\n",
        "\n",
        "\n",
        "    def zam_yap(self,zam):\n",
        "        self.maaş += zam\n",
        "\n",
        "yönetici = Yönetici(\"Burak\",5000,\"İşletmeci\",\"Ceo\") # yönetici adında değişken tanımladık\n",
        "yönetici.bilgiler()"
      ],
      "metadata": {
        "colab": {
          "base_uri": "https://localhost:8080/"
        },
        "id": "l-X0Q-_2krxK",
        "outputId": "92904fdc-0aa0-4404-d651-20641afcd078"
      },
      "execution_count": 29,
      "outputs": [
        {
          "output_type": "stream",
          "name": "stdout",
          "text": [
            "\n",
            "Çalışan Sınıfının İnit Fonksiyonu Aktif\n",
            "\n",
            "Yönetici Sınıfının İnit Fonksiyonu Aktif\n",
            "\n",
            "Çalışan Sınıfının İnit Fonksiyonu Aktif\n",
            "\n",
            "\n",
            " Yönetici Bilgiler;\n",
            " \n",
            "             İsim: Burak\n",
            "             Maaş : 5000\n",
            "             Departman: İşletmeci\n",
            "             Pozisyon: Ceo\n",
            "        \n",
            "             \n"
          ]
        }
      ]
    },
    {
      "cell_type": "code",
      "source": [],
      "metadata": {
        "id": "o3BX0JWUlRn5"
      },
      "execution_count": null,
      "outputs": []
    }
  ]
}