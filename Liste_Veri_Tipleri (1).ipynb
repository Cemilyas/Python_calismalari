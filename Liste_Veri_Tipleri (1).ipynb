{
  "nbformat": 4,
  "nbformat_minor": 0,
  "metadata": {
    "colab": {
      "provenance": []
    },
    "kernelspec": {
      "name": "python3",
      "display_name": "Python 3"
    },
    "language_info": {
      "name": "python"
    }
  },
  "cells": [
    {
      "cell_type": "code",
      "execution_count": 1,
      "metadata": {
        "colab": {
          "base_uri": "https://localhost:8080/"
        },
        "id": "EQZOX55DLR_h",
        "outputId": "2afd287e-a7fd-4571-d880-829be468e596"
      },
      "outputs": [
        {
          "output_type": "stream",
          "name": "stdout",
          "text": [
            "3.10.12 (main, Sep 11 2024, 15:47:36) [GCC 11.4.0]\n"
          ]
        }
      ],
      "source": [
        "import sys\n",
        "print(sys.version)"
      ]
    },
    {
      "cell_type": "code",
      "source": [
        "from google.colab import drive\n",
        "drive.mount ('/content/drive')"
      ],
      "metadata": {
        "colab": {
          "base_uri": "https://localhost:8080/"
        },
        "id": "Bpe0Iy6zLX08",
        "outputId": "09502391-6650-45d6-d071-d73f824ac168"
      },
      "execution_count": 4,
      "outputs": [
        {
          "output_type": "stream",
          "name": "stdout",
          "text": [
            "Mounted at /content/drive\n"
          ]
        }
      ]
    },
    {
      "cell_type": "code",
      "source": [
        "import os\n",
        "os.chdir('/content/drive/My Drive/KURS_CALISMALARIM')\n",
        "\n",
        "!pwd # bize kodun çıktısını dosya yolu olarak veren kod blogudur."
      ],
      "metadata": {
        "colab": {
          "base_uri": "https://localhost:8080/"
        },
        "id": "2w4JrHG8Lty2",
        "outputId": "8eed6fbb-f088-40d7-d14b-df995c0ce7c2"
      },
      "execution_count": 5,
      "outputs": [
        {
          "output_type": "stream",
          "name": "stdout",
          "text": [
            "/content/drive/My Drive/KURS_CALISMALARIM\n"
          ]
        }
      ]
    },
    {
      "cell_type": "code",
      "source": [
        "liste = [1,2,3,4,5]\n",
        "liste"
      ],
      "metadata": {
        "colab": {
          "base_uri": "https://localhost:8080/"
        },
        "id": "wvpVFjmjMBq5",
        "outputId": "27bc9067-ef4e-41dc-9de5-1f00927e22ef"
      },
      "execution_count": 18,
      "outputs": [
        {
          "output_type": "execute_result",
          "data": {
            "text/plain": [
              "[1, 2, 3, 4, 5]"
            ]
          },
          "metadata": {},
          "execution_count": 18
        }
      ]
    },
    {
      "cell_type": "code",
      "source": [
        "liste[1]"
      ],
      "metadata": {
        "colab": {
          "base_uri": "https://localhost:8080/"
        },
        "id": "TicUNa_1Mc5z",
        "outputId": "55fd7449-0452-4916-cd14-323a774febe6"
      },
      "execution_count": 19,
      "outputs": [
        {
          "output_type": "execute_result",
          "data": {
            "text/plain": [
              "2"
            ]
          },
          "metadata": {},
          "execution_count": 19
        }
      ]
    },
    {
      "cell_type": "code",
      "source": [
        "# Önemli !\n",
        "\n",
        "liste = liste + [\"Rakamdır\"]\n",
        "liste"
      ],
      "metadata": {
        "colab": {
          "base_uri": "https://localhost:8080/"
        },
        "id": "pV2w-xhtMiQY",
        "outputId": "1d9e8201-a3aa-4f4b-df47-a65d120626c6"
      },
      "execution_count": 20,
      "outputs": [
        {
          "output_type": "execute_result",
          "data": {
            "text/plain": [
              "[1, 2, 3, 4, 5, 'Rakamdır']"
            ]
          },
          "metadata": {},
          "execution_count": 20
        }
      ]
    },
    {
      "cell_type": "code",
      "source": [
        "# Bu ifade yanlış olur\n",
        "\"\"\"  liste = liste + \"Rakamdır\"                \"\"\"\n",
        "\"\"\"  liste                                     \"\"\""
      ],
      "metadata": {
        "colab": {
          "base_uri": "https://localhost:8080/",
          "height": 35
        },
        "id": "YaTjM2UfNf6O",
        "outputId": "8961625b-07ba-412f-911a-34460423577b"
      },
      "execution_count": 24,
      "outputs": [
        {
          "output_type": "execute_result",
          "data": {
            "text/plain": [
              "' liste  '"
            ],
            "application/vnd.google.colaboratory.intrinsic+json": {
              "type": "string"
            }
          },
          "metadata": {},
          "execution_count": 24
        }
      ]
    },
    {
      "cell_type": "code",
      "source": [
        "liste0 = [4,5,6]\n",
        "liste0"
      ],
      "metadata": {
        "colab": {
          "base_uri": "https://localhost:8080/"
        },
        "id": "3ruHqkGCNp1i",
        "outputId": "492f8060-94bb-487d-c88b-c183a5bbe0f2"
      },
      "execution_count": 42,
      "outputs": [
        {
          "output_type": "execute_result",
          "data": {
            "text/plain": [
              "[4, 5, 6]"
            ]
          },
          "metadata": {},
          "execution_count": 42
        }
      ]
    },
    {
      "cell_type": "code",
      "source": [
        "# Aşağıdaki kod ile bu kodun kullanımına dikkat edilmesi gerekiyor , mülakatlarda sorulabilir.\n",
        "\n",
        "liste0 * 3"
      ],
      "metadata": {
        "colab": {
          "base_uri": "https://localhost:8080/"
        },
        "id": "b1T6_nTkORmm",
        "outputId": "d58226af-38c0-458d-eeba-84a35f91ae9e"
      },
      "execution_count": 43,
      "outputs": [
        {
          "output_type": "execute_result",
          "data": {
            "text/plain": [
              "[4, 5, 6, 4, 5, 6, 4, 5, 6]"
            ]
          },
          "metadata": {},
          "execution_count": 43
        }
      ]
    },
    {
      "cell_type": "code",
      "source": [
        "\n",
        "liste0 = liste0 * 3\n",
        "liste0"
      ],
      "metadata": {
        "colab": {
          "base_uri": "https://localhost:8080/"
        },
        "id": "tzhrUtnjOcOl",
        "outputId": "a2766784-0cd1-4815-f77d-57a7f8029988"
      },
      "execution_count": 44,
      "outputs": [
        {
          "output_type": "execute_result",
          "data": {
            "text/plain": [
              "[4, 5, 6, 4, 5, 6, 4, 5, 6]"
            ]
          },
          "metadata": {},
          "execution_count": 44
        }
      ]
    },
    {
      "cell_type": "code",
      "source": [
        "# Mülakat sorusu niteliğinde\n",
        "\n",
        "liste0 = [4,5,6]\n",
        "liste0 * 3\n",
        "print(liste0)"
      ],
      "metadata": {
        "colab": {
          "base_uri": "https://localhost:8080/"
        },
        "id": "FGVYCSTbOzKP",
        "outputId": "c57e6711-6c9b-4706-ba5a-2345d218fcd5"
      },
      "execution_count": 45,
      "outputs": [
        {
          "output_type": "stream",
          "name": "stdout",
          "text": [
            "[4, 5, 6]\n"
          ]
        }
      ]
    },
    {
      "cell_type": "code",
      "source": [
        "#  \" append \" komutu liste içine ekleme olarak kullanılır\n",
        "\n",
        "liste1 = [1,2,10,32,25,100]\n",
        "liste1.append(8)\n",
        "liste1"
      ],
      "metadata": {
        "colab": {
          "base_uri": "https://localhost:8080/"
        },
        "id": "Oh5U7TqePq5B",
        "outputId": "7788e29c-56c7-48cc-8d3e-c608e4db6a34"
      },
      "execution_count": 58,
      "outputs": [
        {
          "output_type": "execute_result",
          "data": {
            "text/plain": [
              "[1, 2, 10, 32, 25, 100, 8]"
            ]
          },
          "metadata": {},
          "execution_count": 58
        }
      ]
    },
    {
      "cell_type": "code",
      "source": [
        "liste1"
      ],
      "metadata": {
        "colab": {
          "base_uri": "https://localhost:8080/"
        },
        "id": "iiSL3FI3QBEs",
        "outputId": "0f329772-bb1e-4223-f4bb-bbe7f9fcbc68"
      },
      "execution_count": 59,
      "outputs": [
        {
          "output_type": "execute_result",
          "data": {
            "text/plain": [
              "[1, 2, 10, 32, 25, 100, 8]"
            ]
          },
          "metadata": {},
          "execution_count": 59
        }
      ]
    },
    {
      "cell_type": "code",
      "source": [
        "# String ifadeler de bu şekilde eklenebilir\n",
        "\n",
        "liste1.append(\"Cemil\")\n",
        "liste1\n"
      ],
      "metadata": {
        "colab": {
          "base_uri": "https://localhost:8080/"
        },
        "id": "-MSeUQPgQVdc",
        "outputId": "c6f4f633-d48f-4e8f-9a54-21908c3cea1c"
      },
      "execution_count": 65,
      "outputs": [
        {
          "output_type": "execute_result",
          "data": {
            "text/plain": [
              "[1, 2, 10, 32, 25, 100, 8, 'Cemil']"
            ]
          },
          "metadata": {},
          "execution_count": 65
        }
      ]
    },
    {
      "cell_type": "code",
      "source": [
        "#  \"pop\" komutu liste içinden çıkarma olarak kullanılır\n",
        "\n",
        "liste1.pop(7)"
      ],
      "metadata": {
        "colab": {
          "base_uri": "https://localhost:8080/",
          "height": 35
        },
        "id": "qEFLcltwQawd",
        "outputId": "4d8a5a8d-37e2-498d-f9df-d90ca3d4bdae"
      },
      "execution_count": 66,
      "outputs": [
        {
          "output_type": "execute_result",
          "data": {
            "text/plain": [
              "'Cemil'"
            ],
            "application/vnd.google.colaboratory.intrinsic+json": {
              "type": "string"
            }
          },
          "metadata": {},
          "execution_count": 66
        }
      ]
    },
    {
      "cell_type": "code",
      "source": [
        "#  \"pop\" komutunda çıkarma için index sayısı yazılmalıdır\n",
        "#  Yukarıda yapmış olduğumuz işlemde \"Cemil\" ifadesi çıkarıldı şeklinde bir yanıt aldık ve şuan kodu tekrar yazdığımızda ise çıkarılmış halini görmekteyiz.\n",
        "\n",
        "liste1"
      ],
      "metadata": {
        "colab": {
          "base_uri": "https://localhost:8080/"
        },
        "id": "ogvElm2MQ1K8",
        "outputId": "7daf62e6-f025-4ab2-9a5e-1e6ef4458a42"
      },
      "execution_count": 67,
      "outputs": [
        {
          "output_type": "execute_result",
          "data": {
            "text/plain": [
              "[1, 2, 10, 32, 25, 100, 8]"
            ]
          },
          "metadata": {},
          "execution_count": 67
        }
      ]
    },
    {
      "cell_type": "code",
      "source": [
        "#  \"sort\" komutu liste içinde belirtilen ifadeleri sıralamaya yarıyor.\n",
        "\n",
        "liste1.sort()\n",
        "liste1"
      ],
      "metadata": {
        "colab": {
          "base_uri": "https://localhost:8080/"
        },
        "id": "-wOHlvQ_RJJp",
        "outputId": "998aaa9d-cccb-4305-d042-10992b4c3b7b"
      },
      "execution_count": 71,
      "outputs": [
        {
          "output_type": "execute_result",
          "data": {
            "text/plain": [
              "[1, 2, 8, 10, 25, 32, 100]"
            ]
          },
          "metadata": {},
          "execution_count": 71
        }
      ]
    },
    {
      "cell_type": "code",
      "source": [
        "#  \"sort\" komutu string ifadelerde ise alfabetik sıraya göre sıralama yapar.\n",
        "#   Dikkat edilmesi gereken kısım \"Büyük karakter içeren stringler öncelikli sayılıyor\"\n",
        "\n",
        "liste2 = [\"cemil\",\"a\",\"murat\",\"b\",\"x\"]\n",
        "liste2.sort()\n",
        "liste2"
      ],
      "metadata": {
        "colab": {
          "base_uri": "https://localhost:8080/"
        },
        "id": "oLV9cvMoRgVH",
        "outputId": "c691fb74-1b4e-43ca-b4ac-c057c0d8b980"
      },
      "execution_count": 74,
      "outputs": [
        {
          "output_type": "execute_result",
          "data": {
            "text/plain": [
              "['a', 'b', 'cemil', 'murat', 'x']"
            ]
          },
          "metadata": {},
          "execution_count": 74
        }
      ]
    },
    {
      "cell_type": "code",
      "source": [
        "#  \"sort\" komutunun diğer bir kullanım şekli de listedeki karakterleri tersten sıralamasıdır.\n",
        "\n",
        "liste2.sort(reverse=True)\n",
        "liste2"
      ],
      "metadata": {
        "colab": {
          "base_uri": "https://localhost:8080/"
        },
        "id": "_DYdGgNBSHle",
        "outputId": "1e60e4cd-92a4-4b2a-ee1f-f3d5e2f0b3cf"
      },
      "execution_count": 77,
      "outputs": [
        {
          "output_type": "execute_result",
          "data": {
            "text/plain": [
              "['x', 'murat', 'cemil', 'b', 'a']"
            ]
          },
          "metadata": {},
          "execution_count": 77
        }
      ]
    },
    {
      "cell_type": "code",
      "source": [
        "liste1"
      ],
      "metadata": {
        "colab": {
          "base_uri": "https://localhost:8080/"
        },
        "id": "5wc7KtfKSlAb",
        "outputId": "983739b4-2d9b-4698-aee2-13e8f19ec63e"
      },
      "execution_count": 78,
      "outputs": [
        {
          "output_type": "execute_result",
          "data": {
            "text/plain": [
              "[1, 2, 8, 10, 25, 32, 100]"
            ]
          },
          "metadata": {},
          "execution_count": 78
        }
      ]
    },
    {
      "cell_type": "code",
      "source": [
        "liste1.sort(reverse=True)\n",
        "liste1"
      ],
      "metadata": {
        "colab": {
          "base_uri": "https://localhost:8080/"
        },
        "id": "UuKWvjOZSwAo",
        "outputId": "b39510ae-b39c-438e-dee3-f5237baec059"
      },
      "execution_count": 79,
      "outputs": [
        {
          "output_type": "execute_result",
          "data": {
            "text/plain": [
              "[100, 32, 25, 10, 8, 2, 1]"
            ]
          },
          "metadata": {},
          "execution_count": 79
        }
      ]
    },
    {
      "cell_type": "code",
      "source": [
        "# Liiste içinde liste hazırlama\n",
        "\n",
        "liste3 = [[1,2],[3,4],[5,6]]\n",
        "liste3"
      ],
      "metadata": {
        "colab": {
          "base_uri": "https://localhost:8080/"
        },
        "id": "k_qQsus3Sz7g",
        "outputId": "31b46c95-bb8b-477b-a1e1-e9df3a96d2b8"
      },
      "execution_count": 82,
      "outputs": [
        {
          "output_type": "execute_result",
          "data": {
            "text/plain": [
              "[[1, 2], [3, 4], [5, 6]]"
            ]
          },
          "metadata": {},
          "execution_count": 82
        }
      ]
    },
    {
      "cell_type": "code",
      "source": [
        "# Liste içinde olan bloklardan seçilen bloğu alma\n",
        "\n",
        "liste3[1]"
      ],
      "metadata": {
        "colab": {
          "base_uri": "https://localhost:8080/"
        },
        "id": "RmPsKGamS_7o",
        "outputId": "3c8ee354-4409-456a-8ccf-a3d50b1287a2"
      },
      "execution_count": 83,
      "outputs": [
        {
          "output_type": "execute_result",
          "data": {
            "text/plain": [
              "[3, 4]"
            ]
          },
          "metadata": {},
          "execution_count": 83
        }
      ]
    },
    {
      "cell_type": "code",
      "source": [
        "# Liste içindeki seçilen bloğun içindeki listeyi seçmek\n",
        "liste3[2][0]"
      ],
      "metadata": {
        "colab": {
          "base_uri": "https://localhost:8080/"
        },
        "id": "bXgkeFNLTNUb",
        "outputId": "9b23615a-cf3a-4f6c-f351-085360d924ca"
      },
      "execution_count": 85,
      "outputs": [
        {
          "output_type": "execute_result",
          "data": {
            "text/plain": [
              "5"
            ]
          },
          "metadata": {},
          "execution_count": 85
        }
      ]
    },
    {
      "cell_type": "code",
      "source": [],
      "metadata": {
        "id": "C-igFMG7TVcI"
      },
      "execution_count": null,
      "outputs": []
    }
  ]
}