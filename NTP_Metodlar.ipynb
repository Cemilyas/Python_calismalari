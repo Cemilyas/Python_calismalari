{
  "nbformat": 4,
  "nbformat_minor": 0,
  "metadata": {
    "colab": {
      "provenance": []
    },
    "kernelspec": {
      "name": "python3",
      "display_name": "Python 3"
    },
    "language_info": {
      "name": "python"
    }
  },
  "cells": [
    {
      "cell_type": "code",
      "execution_count": 1,
      "metadata": {
        "colab": {
          "base_uri": "https://localhost:8080/"
        },
        "id": "7sNvI2ItVAAs",
        "outputId": "3f4f8459-f2c8-4361-c185-22bf9bee8179"
      },
      "outputs": [
        {
          "output_type": "stream",
          "name": "stdout",
          "text": [
            "3.11.11 (main, Dec  4 2024, 08:55:07) [GCC 11.4.0]\n"
          ]
        }
      ],
      "source": [
        "import sys\n",
        "print(sys.version)"
      ]
    },
    {
      "cell_type": "code",
      "source": [
        "from google.colab import drive\n",
        "drive.mount('/content/drive')"
      ],
      "metadata": {
        "colab": {
          "base_uri": "https://localhost:8080/"
        },
        "id": "FzuB59j8VQcZ",
        "outputId": "5f330eba-2d82-4ca6-9c14-655399a11a47"
      },
      "execution_count": 2,
      "outputs": [
        {
          "output_type": "stream",
          "name": "stdout",
          "text": [
            "Mounted at /content/drive\n"
          ]
        }
      ]
    },
    {
      "cell_type": "code",
      "source": [
        "import os\n",
        "os.chdir('/content/drive/My Drive/KURS_CALISMALARIM')\n",
        "!pwd # bize kodun çıktısını dosya yolu olarak veren kod blogudur.')"
      ],
      "metadata": {
        "colab": {
          "base_uri": "https://localhost:8080/"
        },
        "id": "M4z0RXFcVUQA",
        "outputId": "097d4b45-50e4-4298-b5f3-3a2d051d7a89"
      },
      "execution_count": 3,
      "outputs": [
        {
          "output_type": "stream",
          "name": "stdout",
          "text": [
            "/content/drive/My Drive/KURS_CALISMALARIM\n"
          ]
        }
      ]
    },
    {
      "cell_type": "code",
      "source": [
        "class Pdf():\n",
        "  def __init__(self,yazar,sayfa,konu):\n",
        "    print(\"İnit Fonksiyonu Aktif\")\n",
        "    self.yazar = yazar\n",
        "    self.sayfa = sayfa\n",
        "    self.konu = konu\n",
        "\n",
        "pdf = Pdf(\"Cemil İLYAS\",17,\"Vücut Geliştirmede Yapay Zeka\")\n",
        "\n",
        "print(pdf) # Python kendi açıklamasını yazıyor"
      ],
      "metadata": {
        "colab": {
          "base_uri": "https://localhost:8080/"
        },
        "id": "EKBRjPL-VbAc",
        "outputId": "7a0d22ee-6266-448c-f805-0fdd401a39d5"
      },
      "execution_count": 8,
      "outputs": [
        {
          "output_type": "stream",
          "name": "stdout",
          "text": [
            "İnit Fonksiyonu Aktif\n",
            "<__main__.Pdf object at 0x7c59c47314d0>\n"
          ]
        }
      ]
    },
    {
      "cell_type": "code",
      "source": [
        "class Pdf():\n",
        "  def __init__(self,yazar,sayfa,konu):\n",
        "    print(\"İnit Fonksiyonu Aktif\")   # İlk Çalışacak Fonksiyon\n",
        "    self.yazar = yazar\n",
        "    self.sayfa = sayfa\n",
        "    self.konu = konu\n",
        "\n",
        "  def __str__(self):     # Eklediğimiz __str__ metodu sayesinde yukarıdaki yazı yerine bizim yazdığımız açıklama çıktı alınacak\n",
        "    return \"\\nYazar İsmi: {}\\nPdf Sayfa Sayısı: {}\\nPdf Konusu: {}\".format(self.yazar,self.sayfa,self.konu)\n",
        "\n",
        "pdf = Pdf(\"Cemil İLYAS\",17,\"Vücut Geliştirmede Yapay Zeka\")\n",
        "\n",
        "print(pdf) # Python __str__ metodunda bizim yazdığımız açıklamayı yazıyor  / İkinci Çalışacak Fonksiyon"
      ],
      "metadata": {
        "colab": {
          "base_uri": "https://localhost:8080/"
        },
        "id": "JBMw3qEsWb_k",
        "outputId": "ac6ab704-9df8-4ae2-cc11-ac73466719c2"
      },
      "execution_count": 13,
      "outputs": [
        {
          "output_type": "stream",
          "name": "stdout",
          "text": [
            "İnit Fonksiyonu Aktif\n",
            "\n",
            "Yazar İsmi: Cemil İLYAS\n",
            "Pdf Sayfa Sayısı: 17\n",
            "Pdf Konusu: Vücut Geliştirmede Yapay Zeka\n"
          ]
        }
      ]
    },
    {
      "cell_type": "code",
      "source": [
        "len(pdf)  # Bu kısımda len metodu tanımlı olmadığı için hata veriyor , biz aşağıda bu tanımlamayı yeni kuracağımız fonksiyonla kendimize göre tasarlayacağız"
      ],
      "metadata": {
        "colab": {
          "base_uri": "https://localhost:8080/",
          "height": 141
        },
        "id": "KNycRyZVXe3D",
        "outputId": "664f492a-9334-42d3-e7ac-a03700135a3d"
      },
      "execution_count": 16,
      "outputs": [
        {
          "output_type": "error",
          "ename": "TypeError",
          "evalue": "object of type 'Pdf' has no len()",
          "traceback": [
            "\u001b[0;31m---------------------------------------------------------------------------\u001b[0m",
            "\u001b[0;31mTypeError\u001b[0m                                 Traceback (most recent call last)",
            "\u001b[0;32m<ipython-input-16-6d8e6c5d38ef>\u001b[0m in \u001b[0;36m<cell line: 0>\u001b[0;34m()\u001b[0m\n\u001b[0;32m----> 1\u001b[0;31m \u001b[0mlen\u001b[0m\u001b[0;34m(\u001b[0m\u001b[0mpdf\u001b[0m\u001b[0;34m)\u001b[0m\u001b[0;34m\u001b[0m\u001b[0;34m\u001b[0m\u001b[0m\n\u001b[0m",
            "\u001b[0;31mTypeError\u001b[0m: object of type 'Pdf' has no len()"
          ]
        }
      ]
    },
    {
      "cell_type": "code",
      "source": [
        "class Pdf():\n",
        "  def __init__(self,yazar,sayfa,konu):\n",
        "    print(\"İnit Fonksiyonu Aktif\\n\")  # İlk Çalışacak Fonksiyon\n",
        "    self.yazar = yazar\n",
        "    self.sayfa = sayfa\n",
        "    self.konu = konu\n",
        "\n",
        "  def __str__(self):     # Eklediğimiz __str__ metodu sayesinde yukarıdaki yazı yerine bizim yazdığımız açıklama çıktı alınacak\n",
        "    return \"\\nYazar İsmi: {}\\nPdf Sayfa Sayısı: {}\\nPdf Konusu: {}\".format(self.yazar,self.sayfa,self.konu)\n",
        "\n",
        "  def __len__(self):     # Eklediğimiz __len__ metodu sayesinde yukarıdaki hata yazısı yerine bizim tanımladığımız sayfa sayısı çıkacak\n",
        "    return self.sayfa\n",
        "\n",
        "pdf = Pdf(\"Cemil İLYAS\",17,\"Vücut Geliştirmede Yapay Zeka\")\n",
        "\n",
        "len(pdf)  # Tanımladığımız len fonksiyonunun çıktısını verecek  / İkinci Çalışacak Fonksiyon"
      ],
      "metadata": {
        "colab": {
          "base_uri": "https://localhost:8080/"
        },
        "id": "82582RO-YOST",
        "outputId": "3384d5ca-e467-4e42-c8e6-4845756d2f33"
      },
      "execution_count": 19,
      "outputs": [
        {
          "output_type": "stream",
          "name": "stdout",
          "text": [
            "İnit Fonksiyonu Aktif\n",
            "\n"
          ]
        },
        {
          "output_type": "execute_result",
          "data": {
            "text/plain": [
              "17"
            ]
          },
          "metadata": {},
          "execution_count": 19
        }
      ]
    },
    {
      "cell_type": "code",
      "source": [
        "del pdf  # Hazırladığımız classı tamamen sildi ve yazı çıktısı vermedi / Biz Fonksiyonu Tekrar Tanımlayarak Yazı Ekleyeceğiz"
      ],
      "metadata": {
        "id": "iYI99IzOYldI"
      },
      "execution_count": 21,
      "outputs": []
    },
    {
      "cell_type": "code",
      "source": [
        "class Pdf():\n",
        "  def __init__(self,yazar,sayfa,konu):\n",
        "    print(\"İnit Fonksiyonu Aktif\\n\")  # İlk Çalışacak Fonksiyon\n",
        "    self.yazar = yazar\n",
        "    self.sayfa = sayfa\n",
        "    self.konu = konu\n",
        "\n",
        "  def __str__(self):     # Eklediğimiz __str__ metodu sayesinde yukarıdaki yazı yerine bizim yazdığımız açıklama çıktı alınacak\n",
        "    return \"\\nYazar İsmi: {}\\nPdf Sayfa Sayısı: {}\\nPdf Konusu: {}\".format(self.yazar,self.sayfa,self.konu)\n",
        "\n",
        "  def __len__(self):     # Eklediğimiz __len__ metodu sayesinde yukarıdaki hata yazısı yerine bizim tanımladığımız sayfa sayısı çıkacak\n",
        "    return self.sayfa\n",
        "\n",
        "  def __del__(self):     # Eklediğimiz __del__ fonksiyonu artık bize yazı çıktısı vericek\n",
        "    return print(\"Pdf Dosyası Silindi\")\n",
        "\n",
        "pdf = Pdf(\"Cemil İLYAS\",17,\"Vücut Geliştirmede Yapay Zeka\")\n",
        "\n",
        "del pdf # İkinci Çalışacak Fonksiyon"
      ],
      "metadata": {
        "colab": {
          "base_uri": "https://localhost:8080/"
        },
        "id": "iS7FOBHyZVd1",
        "outputId": "00224329-7054-478a-d70c-a2270b1fbe09"
      },
      "execution_count": 29,
      "outputs": [
        {
          "output_type": "stream",
          "name": "stdout",
          "text": [
            "İnit Fonksiyonu Aktif\n",
            "\n",
            "Pdf Dosyası Silindi\n"
          ]
        }
      ]
    },
    {
      "cell_type": "code",
      "source": [
        "del pdf # Tekrar çalıştırdık ve Artık Böyle Bir Değişkenin Tanımlı Olmadığını Söylüyor"
      ],
      "metadata": {
        "colab": {
          "base_uri": "https://localhost:8080/",
          "height": 141
        },
        "id": "idtoNgDIZ5RQ",
        "outputId": "4eb304fb-b07e-4519-fd32-9f4a06074db0"
      },
      "execution_count": 30,
      "outputs": [
        {
          "output_type": "error",
          "ename": "NameError",
          "evalue": "name 'pdf' is not defined",
          "traceback": [
            "\u001b[0;31m---------------------------------------------------------------------------\u001b[0m",
            "\u001b[0;31mNameError\u001b[0m                                 Traceback (most recent call last)",
            "\u001b[0;32m<ipython-input-30-04bf8f070ed4>\u001b[0m in \u001b[0;36m<cell line: 0>\u001b[0;34m()\u001b[0m\n\u001b[0;32m----> 1\u001b[0;31m \u001b[0;32mdel\u001b[0m \u001b[0mpdf\u001b[0m \u001b[0;31m# Tekrar çalıştırdık ve Artık Böyle Bir Değişkenin Tanımlı Olmadığını Söylüyor\u001b[0m\u001b[0;34m\u001b[0m\u001b[0;34m\u001b[0m\u001b[0m\n\u001b[0m",
            "\u001b[0;31mNameError\u001b[0m: name 'pdf' is not defined"
          ]
        }
      ]
    }
  ]
}