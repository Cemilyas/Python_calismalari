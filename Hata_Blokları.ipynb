{
  "nbformat": 4,
  "nbformat_minor": 0,
  "metadata": {
    "colab": {
      "provenance": []
    },
    "kernelspec": {
      "name": "python3",
      "display_name": "Python 3"
    },
    "language_info": {
      "name": "python"
    }
  },
  "cells": [
    {
      "cell_type": "code",
      "source": [
        "import sys\n",
        "print(sys.version)"
      ],
      "metadata": {
        "id": "NP7Mt3NxOxqP",
        "colab": {
          "base_uri": "https://localhost:8080/"
        },
        "outputId": "ee5e817d-8e1e-4d9d-bfbe-f563dd97b4ec"
      },
      "execution_count": 13,
      "outputs": [
        {
          "output_type": "stream",
          "name": "stdout",
          "text": [
            "3.11.11 (main, Dec  4 2024, 08:55:07) [GCC 11.4.0]\n"
          ]
        }
      ]
    },
    {
      "cell_type": "code",
      "source": [
        "from google.colab import drive\n",
        "drive.mount('/content/drive')"
      ],
      "metadata": {
        "id": "kXrfF7_XO00S",
        "colab": {
          "base_uri": "https://localhost:8080/"
        },
        "outputId": "fc2a5611-4ae8-4ed2-a7e9-ed13d723b640"
      },
      "execution_count": 14,
      "outputs": [
        {
          "output_type": "stream",
          "name": "stdout",
          "text": [
            "Mounted at /content/drive\n"
          ]
        }
      ]
    },
    {
      "cell_type": "code",
      "source": [
        "import os\n",
        "os.chdir('/content/drive/My Drive/KURS_CALISMALARIM')\n",
        "!pwd # bize kodun çıktısını dosya yolu olarak veren kod blogudur.')\n"
      ],
      "metadata": {
        "id": "lKTeInApO0-3",
        "colab": {
          "base_uri": "https://localhost:8080/"
        },
        "outputId": "e47c6a7e-7591-4964-bc83-22788f164f4b"
      },
      "execution_count": 15,
      "outputs": [
        {
          "output_type": "stream",
          "name": "stdout",
          "text": [
            "/content/drive/My Drive/KURS_CALISMALARIM\n"
          ]
        }
      ]
    },
    {
      "cell_type": "markdown",
      "source": [
        "Try , Except Başlangıç"
      ],
      "metadata": {
        "id": "VUUMd2XVQW09"
      }
    },
    {
      "cell_type": "code",
      "source": [
        "try:\n",
        "  c = int(\"asd123\")\n",
        "  print(\"Blok Çalıştı\")\n",
        "except:\n",
        "  print(\"Üst Blokta Hata Oluştuğu İçin Bu Bloğa Yönlendirildiniz! \")"
      ],
      "metadata": {
        "colab": {
          "base_uri": "https://localhost:8080/"
        },
        "id": "0CI-wEauP84y",
        "outputId": "e5962c6f-0c15-4f65-ab8e-316e5e02fadf"
      },
      "execution_count": 31,
      "outputs": [
        {
          "output_type": "stream",
          "name": "stdout",
          "text": [
            "Üst Blokta Hata Oluştuğu İçin Bu Bloğa Yönlendirildiniz! \n"
          ]
        }
      ]
    },
    {
      "cell_type": "code",
      "source": [
        "try:\n",
        "  b = (\"123asd\")\n",
        "  print(\"Blok Çalıştı\")\n",
        "except:\n",
        "  print(\"Üst Blokta Hata Olduğu İçin Bu Bloğa Yönlendirildiniz! \")"
      ],
      "metadata": {
        "id": "b6hE7zAqO1Xf",
        "colab": {
          "base_uri": "https://localhost:8080/"
        },
        "outputId": "ae70db0e-ea04-44b2-a206-ae8843b83f17"
      },
      "execution_count": 17,
      "outputs": [
        {
          "output_type": "stream",
          "name": "stdout",
          "text": [
            "Blok Çalıştı\n"
          ]
        }
      ]
    },
    {
      "cell_type": "markdown",
      "source": [
        "İnput ile Try,Except Hata Blokları"
      ],
      "metadata": {
        "id": "j-Wo_s1XOqgP"
      }
    },
    {
      "cell_type": "code",
      "execution_count": 18,
      "metadata": {
        "colab": {
          "base_uri": "https://localhost:8080/"
        },
        "id": "QkgfXCnWORmG",
        "outputId": "da0148d7-91da-40f2-c521-b45a5704c13e"
      },
      "outputs": [
        {
          "output_type": "stream",
          "name": "stdout",
          "text": [
            "İnteger Bir Değer Giriniz: 1\n",
            "Girilen İfade İnteger Bir İfade (DOĞRU) 1\n",
            "Bloklar Sona Erdi\n"
          ]
        }
      ],
      "source": [
        "try:\n",
        "    a = int(input(\"İnteger Bir Değer Giriniz: \"))\n",
        "    print(\"Girilen İfade İnteger Bir İfade (DOĞRU)\",a)\n",
        "\n",
        "except:\n",
        "    print(\"Girilen İfade String Bir İfade (HATALI)\")\n",
        "\n",
        "print(\"Bloklar Sona Erdi\")"
      ]
    },
    {
      "cell_type": "markdown",
      "source": [
        "İstenilen Hata Tipine Uygun Hata Çıktısı Girme"
      ],
      "metadata": {
        "id": "TbwW2XJEWJnV"
      }
    },
    {
      "cell_type": "code",
      "source": [
        "try:\n",
        "  o = int(input(\"İlk Sayıyı Giriniz: \"))\n",
        "  x = int(input(\"İkinci Sayıyı Giriniz: \"))\n",
        "  print(o // x)\n",
        "\n",
        "except ValueError:\n",
        "  print(\"İnteger Bir İnput'a String Değer Girilemez! \")\n",
        "\n",
        "except ZeroDivisionError:\n",
        "  print(\"Sayılar 0'a Bölünemez! (HATA) \")\n",
        "\n",
        "print(\"Bloklar Sona Erdi \")\n"
      ],
      "metadata": {
        "colab": {
          "base_uri": "https://localhost:8080/"
        },
        "id": "s_H02GymSQmj",
        "outputId": "8a9438c0-2955-41ca-edce-f023c25dcb9a"
      },
      "execution_count": 30,
      "outputs": [
        {
          "output_type": "stream",
          "name": "stdout",
          "text": [
            "İlk Sayıyı Giriniz: 20\n",
            "İkinci Sayıyı Giriniz: 0\n",
            "Sayılar 0'a Bölünemez! (HATA) \n",
            "Bloklar Sona Erdi \n"
          ]
        }
      ]
    },
    {
      "cell_type": "markdown",
      "source": [
        "Hataları Beraber Kullanma Metodu"
      ],
      "metadata": {
        "id": "YSdUq47Ocjkp"
      }
    },
    {
      "cell_type": "code",
      "source": [
        "try:\n",
        "  c = int(input(\"1. Sayı: \"))\n",
        "  l = int(input(\"2. Sayı: \"))\n",
        "  print(c // l)\n",
        "\n",
        "except (ValueError,ZeroDivisionError):\n",
        "  print(\"Değer Yanlış Girildi veya Paydaya 0 Değeri Girildi\")\n",
        "\n",
        "print(\"Bloklar Sona Erdi\")"
      ],
      "metadata": {
        "colab": {
          "base_uri": "https://localhost:8080/"
        },
        "id": "HzrB3HLHWGFU",
        "outputId": "a392b2ee-250e-4c9f-d085-72b40ae72586"
      },
      "execution_count": 33,
      "outputs": [
        {
          "output_type": "stream",
          "name": "stdout",
          "text": [
            "1. Sayı: 20\n",
            "2. Sayı: 0\n",
            "Değer Yanlış Girildi veya Paydaya 0 Değeri Girildi\n",
            "Bloklar Sona Erdi\n"
          ]
        }
      ]
    },
    {
      "cell_type": "markdown",
      "source": [
        "finally Metodu"
      ],
      "metadata": {
        "id": "mfrXdOWddo9q"
      }
    },
    {
      "cell_type": "code",
      "source": [
        "try:\n",
        "  e = int(input(\"1. Sayı: \"))\n",
        "  p = int(input(\"2. Sayı: \"))\n",
        "  print(e // p)\n",
        "\n",
        "except (ValueError,ZeroDivisionError):\n",
        "  print(\"Değer Yanlış Girildi veya Paydaya 0 Değeri Girildi\")\n",
        "\n",
        "finally:\n",
        "  print(\"Bu Blok Çalıştı \")  # Hata Olsa Bile Bu Blok Çalışacak\n",
        "\n",
        "print(\"Bloklar Sona Erdi\")"
      ],
      "metadata": {
        "colab": {
          "base_uri": "https://localhost:8080/"
        },
        "id": "QTJWSxYjdoZ1",
        "outputId": "9dc0c3da-476d-4b32-a528-34a75d0af523"
      },
      "execution_count": 38,
      "outputs": [
        {
          "output_type": "stream",
          "name": "stdout",
          "text": [
            "1. Sayı: 12\n",
            "2. Sayı: as\n",
            "Değer Yanlış Girildi veya Paydaya 0 Değeri Girildi\n",
            "Bu Blok Çalıştı \n",
            "Bloklar Sona Erdi\n"
          ]
        }
      ]
    },
    {
      "cell_type": "markdown",
      "source": [
        "raise Metodu => Hata Fırlatmak"
      ],
      "metadata": {
        "id": "v91KkNl2f7Dl"
      }
    },
    {
      "cell_type": "code",
      "source": [
        "def uzunluk_bul(girdi):\n",
        "\n",
        "  if (type(girdi) != str):\n",
        "    raise ValueError(\"İnteger İfade Giremezsiniz! \")   # Bu Kod Bloğu Çalıştı ve İstediğimiz Hata Yazısını Ekrana Yazdırdı\n",
        "\n",
        "  else:\n",
        "    return len(girdi)\n",
        "\n",
        "uzunluk_bul(123)"
      ],
      "metadata": {
        "colab": {
          "base_uri": "https://localhost:8080/",
          "height": 297
        },
        "id": "Za1RnD0rhx97",
        "outputId": "592250e0-8384-4fac-c5b1-53d20a39e86f"
      },
      "execution_count": 70,
      "outputs": [
        {
          "output_type": "error",
          "ename": "ValueError",
          "evalue": "İnteger İfade Giremezsiniz! ",
          "traceback": [
            "\u001b[0;31m---------------------------------------------------------------------------\u001b[0m",
            "\u001b[0;31mValueError\u001b[0m                                Traceback (most recent call last)",
            "\u001b[0;32m<ipython-input-70-ad1ef776adc4>\u001b[0m in \u001b[0;36m<cell line: 0>\u001b[0;34m()\u001b[0m\n\u001b[1;32m      7\u001b[0m     \u001b[0;32mreturn\u001b[0m \u001b[0mlen\u001b[0m\u001b[0;34m(\u001b[0m\u001b[0mgirdi\u001b[0m\u001b[0;34m)\u001b[0m\u001b[0;34m\u001b[0m\u001b[0;34m\u001b[0m\u001b[0m\n\u001b[1;32m      8\u001b[0m \u001b[0;34m\u001b[0m\u001b[0m\n\u001b[0;32m----> 9\u001b[0;31m \u001b[0muzunluk_bul\u001b[0m\u001b[0;34m(\u001b[0m\u001b[0;36m123\u001b[0m\u001b[0;34m)\u001b[0m\u001b[0;34m\u001b[0m\u001b[0;34m\u001b[0m\u001b[0m\n\u001b[0m",
            "\u001b[0;32m<ipython-input-70-ad1ef776adc4>\u001b[0m in \u001b[0;36muzunluk_bul\u001b[0;34m(girdi)\u001b[0m\n\u001b[1;32m      2\u001b[0m \u001b[0;34m\u001b[0m\u001b[0m\n\u001b[1;32m      3\u001b[0m   \u001b[0;32mif\u001b[0m \u001b[0;34m(\u001b[0m\u001b[0mtype\u001b[0m\u001b[0;34m(\u001b[0m\u001b[0mgirdi\u001b[0m\u001b[0;34m)\u001b[0m \u001b[0;34m!=\u001b[0m \u001b[0mstr\u001b[0m\u001b[0;34m)\u001b[0m\u001b[0;34m:\u001b[0m\u001b[0;34m\u001b[0m\u001b[0;34m\u001b[0m\u001b[0m\n\u001b[0;32m----> 4\u001b[0;31m     \u001b[0;32mraise\u001b[0m \u001b[0mValueError\u001b[0m\u001b[0;34m(\u001b[0m\u001b[0;34m\"İnteger İfade Giremezsiniz! \"\u001b[0m\u001b[0;34m)\u001b[0m   \u001b[0;31m# Bu Kod Bloğu Çalıştı ve İstediğimiz Hata Yazısını Ekrana Yazdırdı\u001b[0m\u001b[0;34m\u001b[0m\u001b[0;34m\u001b[0m\u001b[0m\n\u001b[0m\u001b[1;32m      5\u001b[0m \u001b[0;34m\u001b[0m\u001b[0m\n\u001b[1;32m      6\u001b[0m   \u001b[0;32melse\u001b[0m\u001b[0;34m:\u001b[0m\u001b[0;34m\u001b[0m\u001b[0;34m\u001b[0m\u001b[0m\n",
            "\u001b[0;31mValueError\u001b[0m: İnteger İfade Giremezsiniz! "
          ]
        }
      ]
    },
    {
      "cell_type": "code",
      "source": [
        "def uzunluk_bul(girdi):\n",
        "\n",
        "  if (type(girdi) != str):\n",
        "    raise ValueError(\"İnteger İfade Giremezsiniz! \")\n",
        "\n",
        "  else:\n",
        "    return len(girdi)  # Bu Kod Bloğu Çalıştı\n",
        "\n",
        "uzunluk_bul(\"Python\")"
      ],
      "metadata": {
        "colab": {
          "base_uri": "https://localhost:8080/"
        },
        "id": "vieemsEjeJO0",
        "outputId": "d2e25c95-484b-412d-8574-e54879c33a61"
      },
      "execution_count": 72,
      "outputs": [
        {
          "output_type": "execute_result",
          "data": {
            "text/plain": [
              "6"
            ]
          },
          "metadata": {},
          "execution_count": 72
        }
      ]
    }
  ]
}