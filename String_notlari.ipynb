{
  "nbformat": 4,
  "nbformat_minor": 0,
  "metadata": {
    "colab": {
      "provenance": []
    },
    "kernelspec": {
      "name": "python3",
      "display_name": "Python 3"
    },
    "language_info": {
      "name": "python"
    }
  },
  "cells": [
    {
      "cell_type": "code",
      "execution_count": 6,
      "metadata": {
        "colab": {
          "base_uri": "https://localhost:8080/"
        },
        "id": "drGFrj83ppYl",
        "outputId": "eb9a74d2-89a4-4589-d404-7a656d7360bf"
      },
      "outputs": [
        {
          "output_type": "stream",
          "name": "stdout",
          "text": [
            "3.10.12 (main, Sep 11 2024, 15:47:36) [GCC 11.4.0]\n"
          ]
        }
      ],
      "source": [
        "import sys # import python programlama dilinde yazılıma kütüphane eklemeye yarayan komuttur\n",
        "print(sys.version)"
      ]
    },
    {
      "cell_type": "code",
      "source": [
        "from google.colab import drive # google colab - drive bağlantısı\n",
        "drive.mount('/content/drive')"
      ],
      "metadata": {
        "colab": {
          "base_uri": "https://localhost:8080/"
        },
        "id": "ACrgDrsxyb6m",
        "outputId": "d51477f2-f6a6-48b4-b52d-bb91f007a752"
      },
      "execution_count": 7,
      "outputs": [
        {
          "output_type": "stream",
          "name": "stdout",
          "text": [
            "Drive already mounted at /content/drive; to attempt to forcibly remount, call drive.mount(\"/content/drive\", force_remount=True).\n"
          ]
        }
      ]
    },
    {
      "cell_type": "code",
      "source": [
        "import os\n",
        "os.chdir('/content/drive/My Drive/KURS_CALISMALARIM')\n",
        "\n",
        "!pwd # bize kodun çıktısını dosya yolu olarak veren kod blogudur.\n"
      ],
      "metadata": {
        "colab": {
          "base_uri": "https://localhost:8080/"
        },
        "id": "oPb8SesaylJ2",
        "outputId": "c4cdc822-0b86-4f76-be7b-99ae3a369f66"
      },
      "execution_count": 8,
      "outputs": [
        {
          "output_type": "stream",
          "name": "stdout",
          "text": [
            "/content/drive/My Drive/KURS_CALISMALARIM\n"
          ]
        }
      ]
    },
    {
      "cell_type": "code",
      "source": [
        "a = 'Cemil İlyas'\n",
        "a"
      ],
      "metadata": {
        "colab": {
          "base_uri": "https://localhost:8080/",
          "height": 35
        },
        "id": "dg5Ks1Wpy7h0",
        "outputId": "8f98f819-d4e9-452c-b7cb-b2e6b970affa"
      },
      "execution_count": 36,
      "outputs": [
        {
          "output_type": "execute_result",
          "data": {
            "text/plain": [
              "'Cemil İlyas'"
            ],
            "application/vnd.google.colaboratory.intrinsic+json": {
              "type": "string"
            }
          },
          "metadata": {},
          "execution_count": 36
        }
      ]
    },
    {
      "cell_type": "code",
      "source": [
        "a[1]"
      ],
      "metadata": {
        "colab": {
          "base_uri": "https://localhost:8080/",
          "height": 35
        },
        "id": "YwEt-ljVzTkQ",
        "outputId": "57e0fca1-7c9f-48b6-f062-5c7cdcee87d7"
      },
      "execution_count": 37,
      "outputs": [
        {
          "output_type": "execute_result",
          "data": {
            "text/plain": [
              "'e'"
            ],
            "application/vnd.google.colaboratory.intrinsic+json": {
              "type": "string"
            }
          },
          "metadata": {},
          "execution_count": 37
        }
      ]
    },
    {
      "cell_type": "code",
      "source": [
        "a[0]"
      ],
      "metadata": {
        "colab": {
          "base_uri": "https://localhost:8080/",
          "height": 35
        },
        "id": "DzkgMfgyzWBo",
        "outputId": "7dc3a145-315b-4459-d8d2-cc629707c274"
      },
      "execution_count": 38,
      "outputs": [
        {
          "output_type": "execute_result",
          "data": {
            "text/plain": [
              "'C'"
            ],
            "application/vnd.google.colaboratory.intrinsic+json": {
              "type": "string"
            }
          },
          "metadata": {},
          "execution_count": 38
        }
      ]
    },
    {
      "cell_type": "code",
      "source": [
        "a[0:2]"
      ],
      "metadata": {
        "colab": {
          "base_uri": "https://localhost:8080/",
          "height": 35
        },
        "id": "wpLafgULzZGW",
        "outputId": "80baa248-43fd-4b0f-fb84-5b0f121464bb"
      },
      "execution_count": 39,
      "outputs": [
        {
          "output_type": "execute_result",
          "data": {
            "text/plain": [
              "'Ce'"
            ],
            "application/vnd.google.colaboratory.intrinsic+json": {
              "type": "string"
            }
          },
          "metadata": {},
          "execution_count": 39
        }
      ]
    },
    {
      "cell_type": "code",
      "source": [
        "# BAŞLANGIÇ HARFİ :  BİTİŞ HARFİ (DAHİL OLMAZ) : ATLAMA DEĞERİ (ATLANACAK KADAR OLAN SAYI)\n",
        "# KISACA ATLAMA DEĞERİ 2 OLURSA ÇİFT HANELİ STRİNGLERİ ALMAK EN KISA YOLDUR\n",
        "\n",
        "a[::2]"
      ],
      "metadata": {
        "colab": {
          "base_uri": "https://localhost:8080/",
          "height": 35
        },
        "id": "5TdJNJhfzzfO",
        "outputId": "2f3a63dc-8d99-4220-9b78-025f786eee1e"
      },
      "execution_count": 40,
      "outputs": [
        {
          "output_type": "execute_result",
          "data": {
            "text/plain": [
              "'Cmlİys'"
            ],
            "application/vnd.google.colaboratory.intrinsic+json": {
              "type": "string"
            }
          },
          "metadata": {},
          "execution_count": 40
        }
      ]
    },
    {
      "cell_type": "code",
      "source": [
        "# ÇARPIM DEĞERİ BELİRTİLEN İFADEYİ ÇARPIM SAYISI KADAR YAN YANA TOPLAR\n",
        "\n",
        "a * 3"
      ],
      "metadata": {
        "colab": {
          "base_uri": "https://localhost:8080/",
          "height": 35
        },
        "id": "yIv_1EKa0qU9",
        "outputId": "38f8e26f-1782-4318-a2d1-d8f1376b3f54"
      },
      "execution_count": 41,
      "outputs": [
        {
          "output_type": "execute_result",
          "data": {
            "text/plain": [
              "'Cemil İlyasCemil İlyasCemil İlyas'"
            ],
            "application/vnd.google.colaboratory.intrinsic+json": {
              "type": "string"
            }
          },
          "metadata": {},
          "execution_count": 41
        }
      ]
    },
    {
      "cell_type": "code",
      "source": [
        "# BOŞLUK OLAN KISIMLARDA SAYILIYOR\n",
        "\n",
        "a = 'Cemil İlyas'"
      ],
      "metadata": {
        "id": "jvi-NnUd0rgi"
      },
      "execution_count": 42,
      "outputs": []
    },
    {
      "cell_type": "code",
      "source": [
        "# 2. HARF DAHİL AMA 8. HARF DAHİL DEĞİL\n",
        "\n",
        "a[2:8]"
      ],
      "metadata": {
        "colab": {
          "base_uri": "https://localhost:8080/",
          "height": 35
        },
        "id": "_iwgmT9u1FN_",
        "outputId": "fb6390c4-1731-4db4-d511-54ac652dbb54"
      },
      "execution_count": 43,
      "outputs": [
        {
          "output_type": "execute_result",
          "data": {
            "text/plain": [
              "'mil İl'"
            ],
            "application/vnd.google.colaboratory.intrinsic+json": {
              "type": "string"
            }
          },
          "metadata": {},
          "execution_count": 43
        }
      ]
    },
    {
      "cell_type": "code",
      "source": [
        "# -1 Lİ İFADE STRİNGİN SONUNDAN ALIR\n",
        "# CEMİL İLYAS İFADESİNDEN SON HARF OLAN S HARFİNİ ALDI\n",
        "\n",
        "a[-1]"
      ],
      "metadata": {
        "colab": {
          "base_uri": "https://localhost:8080/",
          "height": 35
        },
        "id": "PqGTdbvS1PBk",
        "outputId": "0fa1912d-9783-4105-ae29-886083a7ee7b"
      },
      "execution_count": 45,
      "outputs": [
        {
          "output_type": "execute_result",
          "data": {
            "text/plain": [
              "'s'"
            ],
            "application/vnd.google.colaboratory.intrinsic+json": {
              "type": "string"
            }
          },
          "metadata": {},
          "execution_count": 45
        }
      ]
    },
    {
      "cell_type": "code",
      "source": [
        "# 0 ' DAN BAŞLA (C)\n",
        "# 8. HARF DAHİL DEĞİL (L)\n",
        "# 2. ATLAMA DEĞERİ\n",
        "\n",
        "a[0:8:2]"
      ],
      "metadata": {
        "colab": {
          "base_uri": "https://localhost:8080/",
          "height": 35
        },
        "id": "YOiahPYe22xt",
        "outputId": "1a15783e-b1d8-4986-8b83-cb14332f548c"
      },
      "execution_count": 48,
      "outputs": [
        {
          "output_type": "execute_result",
          "data": {
            "text/plain": [
              "'Cmlİ'"
            ],
            "application/vnd.google.colaboratory.intrinsic+json": {
              "type": "string"
            }
          },
          "metadata": {},
          "execution_count": 48
        }
      ]
    },
    {
      "cell_type": "code",
      "source": [
        "# STRİNG İFADESİNİ TERSTEN OKUR\n",
        "\n",
        "a[::-1]"
      ],
      "metadata": {
        "colab": {
          "base_uri": "https://localhost:8080/",
          "height": 35
        },
        "id": "TLbPID813gcg",
        "outputId": "f6a875a7-173f-458b-c587-6921a0ab9546"
      },
      "execution_count": 50,
      "outputs": [
        {
          "output_type": "execute_result",
          "data": {
            "text/plain": [
              "'saylİ limeC'"
            ],
            "application/vnd.google.colaboratory.intrinsic+json": {
              "type": "string"
            }
          },
          "metadata": {},
          "execution_count": 50
        }
      ]
    },
    {
      "cell_type": "code",
      "source": [
        "# len İFADESİ UZUNLUK ANLAMINA GELİR VE STRİNG KAÇ HARF UZUNLUĞUNDAN OLUŞUR ONU SAYAR\n",
        "\n",
        "len(a)"
      ],
      "metadata": {
        "colab": {
          "base_uri": "https://localhost:8080/"
        },
        "id": "ou9g-E974A78",
        "outputId": "6bf42dd3-41a9-4f87-9ca1-a21041583321"
      },
      "execution_count": 54,
      "outputs": [
        {
          "output_type": "execute_result",
          "data": {
            "text/plain": [
              "11"
            ]
          },
          "metadata": {},
          "execution_count": 54
        }
      ]
    },
    {
      "cell_type": "code",
      "source": [
        "a"
      ],
      "metadata": {
        "colab": {
          "base_uri": "https://localhost:8080/",
          "height": 35
        },
        "id": "9Cc7Ss6y4KLo",
        "outputId": "f9fb42f4-3496-4213-a4ec-14f93fa6f470"
      },
      "execution_count": 55,
      "outputs": [
        {
          "output_type": "execute_result",
          "data": {
            "text/plain": [
              "'Cemil İlyas'"
            ],
            "application/vnd.google.colaboratory.intrinsic+json": {
              "type": "string"
            }
          },
          "metadata": {},
          "execution_count": 55
        }
      ]
    },
    {
      "cell_type": "code",
      "source": [
        "# a[3] = 'a' ifadesi hatalı bir ifadedir\n",
        "# Cemil ismindeki i harfini seçip a[3] , a ile değiştirilmek istenmesi başarısız sonuçlanmıştır.\n",
        "\n",
        "\"   a[3] = 'a'   \""
      ],
      "metadata": {
        "colab": {
          "base_uri": "https://localhost:8080/",
          "height": 35
        },
        "id": "UiFWIb2J4r7K",
        "outputId": "dd19e8ee-4a89-4589-c07c-3d995f1c1619"
      },
      "execution_count": 57,
      "outputs": [
        {
          "output_type": "execute_result",
          "data": {
            "text/plain": [
              "\" a[3] = 'a'\""
            ],
            "application/vnd.google.colaboratory.intrinsic+json": {
              "type": "string"
            }
          },
          "metadata": {},
          "execution_count": 57
        }
      ]
    },
    {
      "cell_type": "code",
      "source": [
        "# MÜLAKAT SORUSU!!!\n",
        "# YUKARIDAKİ OLMAYAN İŞLEM BU ŞEKİLDE OLABİLİR\n",
        "\n",
        "a = \"Cemil İlyas \"\n",
        "a = a +  \"Sınıf no:  240118233 \"\n",
        "a\n"
      ],
      "metadata": {
        "colab": {
          "base_uri": "https://localhost:8080/",
          "height": 35
        },
        "id": "NRJ2SsJ16Ahp",
        "outputId": "2e297e8d-3491-4b6c-fa09-5c8beeb26c6a"
      },
      "execution_count": 62,
      "outputs": [
        {
          "output_type": "execute_result",
          "data": {
            "text/plain": [
              "'Cemil İlyas Sınıf no:  240118233 '"
            ],
            "application/vnd.google.colaboratory.intrinsic+json": {
              "type": "string"
            }
          },
          "metadata": {},
          "execution_count": 62
        }
      ]
    },
    {
      "cell_type": "code",
      "source": [
        "# MATEMATİKSEL İFADE İLE STRİNG İŞLEMLERİ YAPILABİLİYOR\n",
        "\n",
        "a = \"Cemil İlyas \"\n",
        "b = \"Gelişim Üniversitesine \"\n",
        "c = \"gidiyor\"\n",
        "\n",
        "a + b + c"
      ],
      "metadata": {
        "colab": {
          "base_uri": "https://localhost:8080/",
          "height": 35
        },
        "id": "ebiIXwft42SN",
        "outputId": "194b5349-15a9-4825-8cf1-8db43c36b97c"
      },
      "execution_count": 63,
      "outputs": [
        {
          "output_type": "execute_result",
          "data": {
            "text/plain": [
              "'Cemil İlyas Gelişim Üniversitesine gidiyor'"
            ],
            "application/vnd.google.colaboratory.intrinsic+json": {
              "type": "string"
            }
          },
          "metadata": {},
          "execution_count": 63
        }
      ]
    },
    {
      "cell_type": "code",
      "source": [],
      "metadata": {
        "id": "XYUMK-Io5kZJ"
      },
      "execution_count": null,
      "outputs": []
    }
  ]
}