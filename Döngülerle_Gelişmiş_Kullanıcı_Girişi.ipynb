{
  "nbformat": 4,
  "nbformat_minor": 0,
  "metadata": {
    "colab": {
      "provenance": []
    },
    "kernelspec": {
      "name": "python3",
      "display_name": "Python 3"
    },
    "language_info": {
      "name": "python"
    }
  },
  "cells": [
    {
      "cell_type": "code",
      "execution_count": 1,
      "metadata": {
        "colab": {
          "base_uri": "https://localhost:8080/"
        },
        "id": "w45Px1gPvioM",
        "outputId": "c760047a-b0d0-4b38-95af-09263632a582"
      },
      "outputs": [
        {
          "output_type": "stream",
          "name": "stdout",
          "text": [
            "3.10.12 (main, Sep 11 2024, 15:47:36) [GCC 11.4.0]\n"
          ]
        }
      ],
      "source": [
        "import sys\n",
        "print(sys.version)"
      ]
    },
    {
      "cell_type": "code",
      "source": [
        "from google.colab import drive\n",
        "drive.mount('/content/drive')"
      ],
      "metadata": {
        "colab": {
          "base_uri": "https://localhost:8080/"
        },
        "id": "a-5SVRR9vlld",
        "outputId": "dbd66c3c-8153-47a9-ae29-bb175b3c01ae"
      },
      "execution_count": 2,
      "outputs": [
        {
          "output_type": "stream",
          "name": "stdout",
          "text": [
            "Mounted at /content/drive\n"
          ]
        }
      ]
    },
    {
      "cell_type": "code",
      "source": [
        "import os\n",
        "os.chdir('/content/drive/My Drive/KURS_CALISMALARIM')\n",
        "!pwd # bize kodun çıktısını dosya yolu olarak veren kod blogudur.')"
      ],
      "metadata": {
        "colab": {
          "base_uri": "https://localhost:8080/"
        },
        "id": "ELFV6K5vvqzw",
        "outputId": "188f4f20-69df-4d6f-b05e-5730984314ac"
      },
      "execution_count": 3,
      "outputs": [
        {
          "output_type": "stream",
          "name": "stdout",
          "text": [
            "/content/drive/My Drive/KURS_CALISMALARIM\n"
          ]
        }
      ]
    },
    {
      "cell_type": "code",
      "source": [
        "kullanıcı_1 = \"cemil\"\n",
        "sifre_1 = \"636363\"\n",
        "limit = 3\n",
        "\n",
        "while True:\n",
        "\n",
        "  kullanıcı = input(\"Kullanıcı Adı: \")\n",
        "  sifre = input(\"Şifre: \")\n",
        "  if (kullanıcı != kullanıcı_1 and sifre == sifre_1):\n",
        "    print(\"\\nKullanıcı Adınızı Yanlış Girdiniz. \")\n",
        "    print(\"Kullanıcı Adınızı mı Unuttunuz?\\n \")\n",
        "    limit -= 1\n",
        "  elif (kullanıcı == kullanıcı_1 and sifre != sifre_1):\n",
        "    print(\"\\nŞifrenizi Yanlış Girdiniz. \")\n",
        "    print(\"Şifrenizi mi Unuttunuz?\\n \")\n",
        "    limit -= 1\n",
        "  elif (kullanıcı != kullanıcı_1 and sifre != sifre_1):\n",
        "    print(\"\\nKullanıcı Adınızı ve Şifrenizi Yanlış Girdiniz. \")\n",
        "    print(\"Kullanıcı Adınızı ve Şifrenizi mi Unuttunuz?\\n \")\n",
        "    limit -= 1\n",
        "  else:\n",
        "    print(\"GİRİŞ BAŞARILI....\")\n",
        "    break\n",
        "  if (limit == 0):\n",
        "    print(\"Günlük Giriş Limitiniz Dolmuştur! \")\n",
        "    break\n",
        "\n",
        "\n",
        "\n",
        "\n"
      ],
      "metadata": {
        "colab": {
          "base_uri": "https://localhost:8080/"
        },
        "id": "a17F_rcJxfRE",
        "outputId": "896fcf2a-e827-40c3-8c60-007d76102f9b"
      },
      "execution_count": 15,
      "outputs": [
        {
          "output_type": "stream",
          "name": "stdout",
          "text": [
            "Kullanıcı Adı: cemil\n",
            "Şifre: 6363\n",
            "\n",
            "Şifrenizi Yanlış Girdiniz. \n",
            "Şifrenizi mi Unuttunuz?\n",
            " \n",
            "Kullanıcı Adı: cem\n",
            "Şifre: 636363\n",
            "\n",
            "Kullanıcı Adınızı Yanlış Girdiniz. \n",
            "Kullanıcı Adınızı mı Unuttunuz?\n",
            " \n",
            "Kullanıcı Adı: cem\n",
            "Şifre: 6363\n",
            "\n",
            "Kullanıcı Adınızı ve Şifrenizi Yanlış Girdiniz. \n",
            "Kullanıcı Adınızı ve Şifrenizi mi Unuttunuz?\n",
            " \n",
            "Günlük Giriş Limitiniz Dolmuştur! \n"
          ]
        }
      ]
    },
    {
      "cell_type": "code",
      "source": [],
      "metadata": {
        "id": "U71nVZzXxu3o"
      },
      "execution_count": null,
      "outputs": []
    }
  ]
}