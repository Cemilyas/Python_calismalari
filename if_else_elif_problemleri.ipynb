{
  "nbformat": 4,
  "nbformat_minor": 0,
  "metadata": {
    "colab": {
      "provenance": []
    },
    "kernelspec": {
      "name": "python3",
      "display_name": "Python 3"
    },
    "language_info": {
      "name": "python"
    }
  },
  "cells": [
    {
      "cell_type": "code",
      "execution_count": null,
      "metadata": {
        "colab": {
          "base_uri": "https://localhost:8080/"
        },
        "id": "cp1H9xVJt20v",
        "outputId": "a56faa1f-3b02-4df8-ecaf-ff5a83c2dacc"
      },
      "outputs": [
        {
          "output_type": "stream",
          "name": "stdout",
          "text": [
            "3.10.12 (main, Sep 11 2024, 15:47:36) [GCC 11.4.0]\n"
          ]
        }
      ],
      "source": [
        "import sys\n",
        "print(sys.version)"
      ]
    },
    {
      "cell_type": "code",
      "source": [
        "from google.colab import drive\n",
        "drive.mount('/content/drive')"
      ],
      "metadata": {
        "colab": {
          "base_uri": "https://localhost:8080/"
        },
        "id": "XjSDUCXSu2nV",
        "outputId": "f660afe4-a98d-4765-b82b-8b914ff27ca1"
      },
      "execution_count": null,
      "outputs": [
        {
          "output_type": "stream",
          "name": "stdout",
          "text": [
            "Mounted at /content/drive\n"
          ]
        }
      ]
    },
    {
      "cell_type": "code",
      "source": [
        "import os\n",
        "os.chdir('/content/drive/My Drive/KURS_CALISMALARIM')\n",
        "!pwd # bize kodun çıktısını dosya yolu olarak veren kod blogudur.')"
      ],
      "metadata": {
        "colab": {
          "base_uri": "https://localhost:8080/"
        },
        "id": "yVYROwSPwBHi",
        "outputId": "ce966ec0-3a41-4ae4-8ce1-bbc157128027"
      },
      "execution_count": null,
      "outputs": [
        {
          "output_type": "stream",
          "name": "stdout",
          "text": [
            "/content/drive/My Drive/KURS_CALISMALARIM\n"
          ]
        }
      ]
    },
    {
      "cell_type": "markdown",
      "source": [
        "SINAV (GEÇER - GEÇMEZ) NOTU BELİRLEYEN PROGRAM"
      ],
      "metadata": {
        "id": "5FVOhfqZy6tM"
      }
    },
    {
      "cell_type": "code",
      "source": [
        "nott = float(input(\"Sınav notu giriniz: \"))\n",
        "\n",
        "if (nott >= 90):\n",
        "  print(\"AA Geçer not\")\n",
        "elif (nott >= 80):\n",
        "  print(\"BA Geçer not\")\n",
        "elif (nott >= 70):\n",
        "  print(\"BB Geçer not\")\n",
        "elif (nott >= 60):\n",
        "  print(\"BC Geçer not\")\n",
        "elif (nott >= 50):\n",
        "  print(\"CC Geçer not\")\n",
        "elif (nott >= 45):\n",
        "  print(\"DC Geçer not\")\n",
        "elif (nott >= 40):\n",
        "  print(\"DD (Şartlı) Geçer not\")\n",
        "else:\n",
        "  print(\"FF Kaldınız! \")"
      ],
      "metadata": {
        "colab": {
          "base_uri": "https://localhost:8080/"
        },
        "id": "CHCBQluuwG4a",
        "outputId": "ab52b412-4266-41f7-80da-3f1ab63bd587"
      },
      "execution_count": null,
      "outputs": [
        {
          "output_type": "stream",
          "name": "stdout",
          "text": [
            "Sınav notu giriniz: 41\n",
            "DD (Şartlı) Geçer not\n"
          ]
        }
      ]
    },
    {
      "cell_type": "code",
      "source": [
        "# elif aporatörü yerine if kullanıldığında diğer seçenekler de seçiliyor\n",
        "# elif operatörü koşul karşılandıktan sonra diğer koşullara bakmaz ve direk true olan komutu seçer\n",
        "\n",
        "nott = float(input(\"Sınav notu giriniz: \"))\n",
        "\n",
        "if (nott >= 90):\n",
        "  print(\"AA Geçer not\")\n",
        "if (nott >= 80):\n",
        "  print(\"BA Geçer not\")\n",
        "if (nott >= 70):\n",
        "  print(\"BB Geçer not\")\n",
        "if (nott >= 60):\n",
        "  print(\"BC Geçer not\")\n",
        "if (nott >= 50):\n",
        "  print(\"CC Geçer not\")\n",
        "if (nott >= 45):\n",
        "  print(\"DC Geçer not\")\n",
        "if (nott >= 40):\n",
        "  print(\"DD (Şartlı) Geçer not\")\n",
        "else:\n",
        "  print(\"FF Kaldınız! \")"
      ],
      "metadata": {
        "colab": {
          "base_uri": "https://localhost:8080/"
        },
        "id": "MBtsuBvex-MW",
        "outputId": "b4f19d81-875f-40f8-b287-6d3f4aac68cd"
      },
      "execution_count": null,
      "outputs": [
        {
          "output_type": "stream",
          "name": "stdout",
          "text": [
            "Sınav notu giriniz: 60\n",
            "BC Geçer not\n",
            "CC Geçer not\n",
            "DC Geçer not\n",
            "DD (Şartlı) Geçer not\n"
          ]
        }
      ]
    },
    {
      "cell_type": "markdown",
      "source": [
        "Kullanıcıdan isim,yaş ve eğitim bilgilerini isteyip ehliyet alabilme durumunu belirleyiniz.  \n",
        "Ehliyet alma koşulu en az 18 yaş ve eğitim durumu lise yada üniversite olmalıdır."
      ],
      "metadata": {
        "id": "GiI7qMBm1JpR"
      }
    },
    {
      "cell_type": "code",
      "source": [
        "kisi = input(\"İsim giriniz: \")\n",
        "yas = int(input(\"Yaşınızı giriniz: \"))\n",
        "egitim = input(\"Eğitim durumunuzu giriniz: \")\n",
        "print(\"\\n\")\n",
        "\n",
        "if (yas >= 18) and egitim == \"lise\" or egitim == \"üniversite\":\n",
        "  print(\"Ehliyet alabilirsiniz \", kisi, \"bey\")\n",
        "\n",
        "else:\n",
        "  print(\"Ehliyet alamazsınız \", kisi, \"bey\")\n"
      ],
      "metadata": {
        "colab": {
          "base_uri": "https://localhost:8080/"
        },
        "id": "LSVOJcWr08Iq",
        "outputId": "323727a8-170d-4af4-8e4e-cb88e7560551"
      },
      "execution_count": 20,
      "outputs": [
        {
          "output_type": "stream",
          "name": "stdout",
          "text": [
            "İsim giriniz: Cemil\n",
            "Yaşınızı giriniz: 22\n",
            "Eğitim durumunuzu giriniz: üniversite\n",
            "\n",
            "\n",
            "Ehliyet alabilirsiniz  Cemil bey\n"
          ]
        }
      ]
    },
    {
      "cell_type": "code",
      "source": [
        "# Daha detaylı şekilde ehliyet bilgisi problemi\n",
        "\n",
        "kisi1 = input(\"İsim giriniz: \")\n",
        "yas1 = int(input(\"Yaşınızı giriniz:\"))\n",
        "egitim1 = input(\"Eğitim durumunuzu giriniz: \")\n",
        "print(\"\\n\")\n",
        "\n",
        "if (yas >= 18): #                                                          # yaş bloğu\n",
        "  if egitim1 == \"lise\" or egitim1 == \"üniversite\":                       # eğitim bloğu\n",
        "    print(\"Ehliyet alabilirsiniz \", kisi1, \"Bey\")\n",
        "  else:                                                                  # eğitim bloğu\n",
        "    print(\"Eğitim seviyeniz ehliyet almaya uygun değil\", kisi1, \"Bey\")\n",
        "else:                                                                    # yaş bloğu\n",
        "  print(\"Yaşınız ehliyet almaya uygun\", kisi1, \"Bey\")\n"
      ],
      "metadata": {
        "colab": {
          "base_uri": "https://localhost:8080/"
        },
        "id": "U-TEnb-V91bp",
        "outputId": "fd3ccc54-10d8-46c5-8909-6ac7a9db7f7e"
      },
      "execution_count": 22,
      "outputs": [
        {
          "output_type": "stream",
          "name": "stdout",
          "text": [
            "İsim giriniz: Cemil\n",
            "Yaşınızı giriniz:22\n",
            "Eğitim durumunuzu giriniz: ilkokul\n",
            "\n",
            "\n",
            "Eğitim seviyeniz ehliyet almaya uygun değil Cemil Bey\n"
          ]
        }
      ]
    },
    {
      "cell_type": "markdown",
      "source": [
        "Bir öğrencinin 2 yazılı bir sözlü notunu alıp hesaplanan ortalamaya göre not aralığına karşılık gelen not bilgisini yazınız.\n",
        "\n",
        "0 - 24   => F\n",
        "\n",
        "25 - 44  => E\n",
        "\n",
        "45 - 54  => D\n",
        "\n",
        "55 - 69  => C\n",
        "\n",
        "70 - 84  => B\n",
        "\n",
        "85 - 94  => A\n",
        "\n",
        "95 - 100 => A+"
      ],
      "metadata": {
        "id": "ueASaC453RFr"
      }
    },
    {
      "cell_type": "code",
      "source": [
        "ynot1 = float(input(\"Yazılı notunu giriniz: \"))\n",
        "ynot2 = float(input(\"Yazılı notunu giriniz: \"))\n",
        "snot = float(input(\"Sözlü notunu giriniz: \"))\n",
        "print(\"\\n\")\n",
        "\n",
        "if (ynot1 + ynot2 + snot) / 3 >= 95:\n",
        "  print(\"A+ Not aldınız\")\n",
        "elif (ynot1 + ynot2 + snot) / 3 >= 85:\n",
        "  print(\"A Not aldınız\")\n",
        "elif (ynot1 + ynot2 + snot) / 3 >= 70:\n",
        "  print(\"B Not aldınız\")\n",
        "elif (ynot1 + ynot2 + snot) / 3 >= 55:\n",
        "  print(\"C Not aldınız\")\n",
        "elif (ynot1 + ynot2 + snot) / 3 >= 45:\n",
        "  print(\"D Not aldınız\")\n",
        "elif (ynot1 + ynot2 + snot) / 3 >= 25:\n",
        "  print(\"E Not aldınız\")\n",
        "elif (ynot1 + ynot2 + snot) / 3 >= 0:\n",
        "  print(\"F Not aldınız\")\n",
        "else:\n",
        "  print(\"Ders notunuz geçersizdir!\")"
      ],
      "metadata": {
        "colab": {
          "base_uri": "https://localhost:8080/"
        },
        "id": "pQ3D9UmC2ftA",
        "outputId": "0ffdfe76-af64-4e8b-e60b-553c78ae6ae5"
      },
      "execution_count": 25,
      "outputs": [
        {
          "output_type": "stream",
          "name": "stdout",
          "text": [
            "Yazılı notunu giriniz: 53.3\n",
            "Yazılı notunu giriniz: 60\n",
            "Sözlü notunu giriniz: 29.82\n",
            "\n",
            "\n",
            "D Not aldınız\n"
          ]
        }
      ]
    },
    {
      "cell_type": "markdown",
      "source": [
        "Trafiğe çıkış tarihi alınan bir aracın servis zamanını aşağıdaki bilgilere göre hesaplanıyız.\n",
        "\n",
        "\n",
        "1.Bakım => 1. Yıl\n",
        "\n",
        "2.Bakım => 2. Yıl\n",
        "\n",
        "3.Bakım => 3. Yıl\n",
        "\n",
        "\n",
        "Süre hesabını alınan gün bilgisine göre gün bazlı hesaplayın"
      ],
      "metadata": {
        "id": "_zPh-jFl6jpF"
      }
    },
    {
      "cell_type": "code",
      "source": [
        "gun = int(input(\"Aracın trafiğe çıkış gününü giriniz: \"))\n",
        "print(\"\\n\")\n",
        "\n",
        "if (gun <= 365) and (gun >= 0):\n",
        "  print(\"Aracın 1.Yıl bakımını yapmalısınız!\")\n",
        "\n",
        "elif (gun > 365) and (gun <= 365 * 2):\n",
        "  print(\"Aracın 2.Yıl bakımını yapmalısınız!\")\n",
        "\n",
        "elif (gun > 365 *2) and (gun <= 365 * 3):\n",
        "  print(\"Aracın 3.Yıl bakımını yapmalısınız!\")\n",
        "\n",
        "else:\n",
        "  print(\"Hatalı gün girildi!\")\n",
        "\n"
      ],
      "metadata": {
        "colab": {
          "base_uri": "https://localhost:8080/"
        },
        "id": "-5BZBVdV6erV",
        "outputId": "d3c3d877-9d9c-4bf9-bf3d-b73150e98433"
      },
      "execution_count": 27,
      "outputs": [
        {
          "output_type": "stream",
          "name": "stdout",
          "text": [
            "Aracın trafiğe çıkış gününü giriniz: 762\n",
            "\n",
            "\n",
            "Aracın 3.Yıl bakımını yapmalısınız!\n"
          ]
        }
      ]
    },
    {
      "cell_type": "markdown",
      "source": [
        "Girilen bir sayının pozitif çift sayı olup olmadığını kontrol eden python uygulamasını yapınız."
      ],
      "metadata": {
        "id": "74ZWA5wvDsyy"
      }
    },
    {
      "cell_type": "code",
      "source": [
        "sayı = int(input(\"Bir sayı giriniz:\"))\n",
        "print(\"\\n\")\n",
        "\n",
        "if (sayı % 2 == 0) and (sayı >= 0):\n",
        "  print(\"Girilen sayı pozitif çift sayıdır!\")\n",
        "elif (sayı % 2 == 0) and (sayı < 0):\n",
        "  print(\"Girilen sayı negatif çift sayıdır!\")\n",
        "elif (sayı % 2 != 0) and (sayı >= 0):\n",
        "  print(\"Girilen sayı pozitif tek sayıdır!\")\n",
        "elif (sayı % 2 != 0) and (sayı < 0):\n",
        "  print(\"Girilen sayı negatif tek sayıdır!\")\n",
        "else:\n",
        "  print(\"Hatalı giriş!\")\n"
      ],
      "metadata": {
        "colab": {
          "base_uri": "https://localhost:8080/"
        },
        "id": "LHtYXW7dDsVy",
        "outputId": "89508999-dd00-4c50-e40e-1045f8fafa3c"
      },
      "execution_count": 28,
      "outputs": [
        {
          "output_type": "stream",
          "name": "stdout",
          "text": [
            "Bir sayı giriniz:7\n",
            "\n",
            "\n",
            "Girilen sayı pozitif tek sayıdır!\n"
          ]
        }
      ]
    },
    {
      "cell_type": "code",
      "source": [
        "# Sadece if else kullanımı ile yapılışı\n",
        "\n",
        "sayi1 = int(input(\"Lütfen bir sayı giriniz: \"))\n",
        "print(\"\\n\")\n",
        "\n",
        "if sayi1 > 0:\n",
        "   if sayi1 % 2 == 0:\n",
        "      print(\"Girilen sayı pozitif çift sayıdır.\")\n",
        "   else:\n",
        "      print(\"Girilen sayı pozitif fakat tek sayıdır.\")\n",
        "else:\n",
        "  print(\"Girilen sayı negatiftir\")\n"
      ],
      "metadata": {
        "colab": {
          "base_uri": "https://localhost:8080/"
        },
        "id": "VEMP2o5ZJ_j2",
        "outputId": "98a55c1e-d002-4ca9-aa2d-f76983a7dffa"
      },
      "execution_count": 29,
      "outputs": [
        {
          "output_type": "stream",
          "name": "stdout",
          "text": [
            "Lütfen bir sayı giriniz: 9\n",
            "\n",
            "\n",
            "Girilen sayı pozitif fakat tek sayıdır.\n"
          ]
        }
      ]
    },
    {
      "cell_type": "markdown",
      "source": [
        "Girilen 3 sayıyı büyüklük olarak karşılaştıran python uygulamasını yapınız."
      ],
      "metadata": {
        "id": "wPz2yAWjsyQ7"
      }
    },
    {
      "cell_type": "code",
      "source": [
        "k = int(input(\"K: \"))\n",
        "l = int(input(\"L: \"))\n",
        "m = int(input(\"M: \"))\n",
        "print(\"\\n\")\n",
        "\n",
        "if (k >l) and (k > m) and (l > m):\n",
        "  print(\"K > L > M\")\n",
        "elif (k > l) and (k > m) and (m > l):\n",
        "  print(\"K > M > L\")\n",
        "elif (l > k) and (l > m) and ( k > m):\n",
        "  print(\"L > K > M\")\n",
        "elif (l > k) and (l > m) and (m > k):\n",
        "  print(\"L > M > K\")\n",
        "elif (m > k) and (m > l) and (k > l):\n",
        "  print(\"M > K > L\")\n",
        "elif(m > k) and (m > l) and (l > k):\n",
        "  print(\"M > L > K\")\n",
        "else:\n",
        "  print(\"Hatalı giriş!\")\n"
      ],
      "metadata": {
        "colab": {
          "base_uri": "https://localhost:8080/"
        },
        "id": "1_dbZ9-qsz9l",
        "outputId": "d5fc2ea3-9efe-43d6-d678-e14f55e84b39"
      },
      "execution_count": 18,
      "outputs": [
        {
          "output_type": "stream",
          "name": "stdout",
          "text": [
            "K: 1\n",
            "L: 2\n",
            "M: 3\n",
            "\n",
            "\n",
            "M > L > K\n"
          ]
        }
      ]
    }
  ]
}