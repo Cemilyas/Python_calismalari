{
  "nbformat": 4,
  "nbformat_minor": 0,
  "metadata": {
    "colab": {
      "provenance": []
    },
    "kernelspec": {
      "name": "python3",
      "display_name": "Python 3"
    },
    "language_info": {
      "name": "python"
    }
  },
  "cells": [
    {
      "cell_type": "code",
      "execution_count": 1,
      "metadata": {
        "colab": {
          "base_uri": "https://localhost:8080/"
        },
        "id": "1iBz2ktDB8Dw",
        "outputId": "41d30ecb-e961-477c-fa77-0fcf1fe5d0a0"
      },
      "outputs": [
        {
          "output_type": "stream",
          "name": "stdout",
          "text": [
            "3.10.12 (main, Sep 11 2024, 15:47:36) [GCC 11.4.0]\n"
          ]
        }
      ],
      "source": [
        "import sys\n",
        "print(sys.version)"
      ]
    },
    {
      "cell_type": "code",
      "source": [
        "from google.colab import drive\n",
        "drive.mount('/content/drive')"
      ],
      "metadata": {
        "colab": {
          "base_uri": "https://localhost:8080/"
        },
        "id": "qxK1sS7nCGwG",
        "outputId": "aa97874a-7497-4cdd-fbf9-95fb917fab60"
      },
      "execution_count": 2,
      "outputs": [
        {
          "output_type": "stream",
          "name": "stdout",
          "text": [
            "Mounted at /content/drive\n"
          ]
        }
      ]
    },
    {
      "cell_type": "code",
      "source": [
        "import os\n",
        "os.chdir('/content/drive/My Drive/KURS_CALISMALARIM')\n",
        "!pwd # bize kodun çıktısını dosya yolu olarak veren kod blogudur.')\n"
      ],
      "metadata": {
        "colab": {
          "base_uri": "https://localhost:8080/"
        },
        "id": "Bf2OX0NiCMOB",
        "outputId": "524400b0-52d7-4557-f44e-61486a370b5e"
      },
      "execution_count": 3,
      "outputs": [
        {
          "output_type": "stream",
          "name": "stdout",
          "text": [
            "/content/drive/My Drive/KURS_CALISMALARIM\n"
          ]
        }
      ]
    },
    {
      "cell_type": "code",
      "source": [
        "print(\"\"\"\" *****************\n",
        "\n",
        "ATM PROGRAMINA HOSGELDİNİZ\n",
        "\n",
        "1. BAKİYE SORGULAMA\n",
        "\n",
        "2. PARA YATIRMA\n",
        "\n",
        "3. PARA ÇEKME\n",
        "\n",
        "4. ÇIKIŞ (ç)\n",
        "\n",
        "*******************\"\"\")\n",
        "\n",
        "bakiye = 1000\n",
        "\n",
        "\n",
        "while True:\n",
        "\n",
        "  giris = int(input(\"Lütfen giriş ekranından bir seçim yapınız: \"))\n",
        "\n",
        "  if (4 == giris):\n",
        "    print(\"\\nAtm programından çıkış yapılıyor...\\n\")\n",
        "    break\n",
        "\n",
        "  elif (1 == giris):\n",
        "    print(\"\\nMevcut bakiyeniz: {}\\n\".format(bakiye))\n",
        "\n",
        "  elif (2 == giris):\n",
        "    yatır = int(input(\"\\nYatırılacak tutarı giriniz: \"))\n",
        "    bakiye += yatır\n",
        "    print(\"\\nMevcut bakiyeniz: {}\\n \".format(bakiye))\n",
        "\n",
        "  elif (3 == giris):\n",
        "    çek = int(input(\"\\nÇekmek istediğiniz tutarı giriniz: \"))\n",
        "    if (bakiye - çek < 0):\n",
        "      print(\"\\nÇekim için girdiğiniz tutar bakiyenizi aşıyor...\\n\")\n",
        "      continue\n",
        "    else:\n",
        "      bakiye -= çek\n",
        "      print(\"\\nMevcut bakiyeniz: {}\\n \".format(bakiye))\n",
        "\n",
        "  else:\n",
        "   print(\"\\nSeçtiğiniz sayı herhangi bir işlemimizle uyuşmuyor...\")\n",
        "\n",
        "\n",
        "\n"
      ],
      "metadata": {
        "colab": {
          "base_uri": "https://localhost:8080/"
        },
        "id": "yRHEc9cICO74",
        "outputId": "7925666b-e55d-408d-fa6c-7251920c66f2"
      },
      "execution_count": 32,
      "outputs": [
        {
          "output_type": "stream",
          "name": "stdout",
          "text": [
            "\" *****************\n",
            "\n",
            "ATM PROGRAMINA HOSGELDİNİZ\n",
            "\n",
            "1. BAKİYE SORGULAMA\n",
            "\n",
            "2. PARA YATIRMA\n",
            "\n",
            "3. PARA ÇEKME\n",
            "\n",
            "4. ÇIKIŞ (ç)\n",
            "\n",
            "*******************\n",
            "Lütfen giriş ekranından bir seçim yapınız: 1\n",
            "\n",
            "Mevcut bakiyeniz: 1000\n",
            "\n",
            "Lütfen giriş ekranından bir seçim yapınız: 2\n",
            "\n",
            "Yatırılacak tutarı giriniz: 1\n",
            "\n",
            "Mevcut bakiyeniz: 1001\n",
            " \n",
            "Lütfen giriş ekranından bir seçim yapınız: 3\n",
            "\n",
            "Çekmek istediğiniz tutarı giriniz: 1002\n",
            "\n",
            "Çekim için girdiğiniz tutar bakiyenizi aşıyor...\n",
            "\n",
            "Lütfen giriş ekranından bir seçim yapınız: 3\n",
            "\n",
            "Çekmek istediğiniz tutarı giriniz: 1001\n",
            "\n",
            "Mevcut bakiyeniz: 0\n",
            " \n",
            "Lütfen giriş ekranından bir seçim yapınız: 4\n",
            "\n",
            "Atm programından çıkış yapılıyor...\n",
            "\n"
          ]
        }
      ]
    },
    {
      "cell_type": "code",
      "source": [],
      "metadata": {
        "id": "jxLo7AJAC0AO"
      },
      "execution_count": null,
      "outputs": []
    }
  ]
}