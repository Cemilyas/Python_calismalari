{
  "nbformat": 4,
  "nbformat_minor": 0,
  "metadata": {
    "colab": {
      "provenance": []
    },
    "kernelspec": {
      "name": "python3",
      "display_name": "Python 3"
    },
    "language_info": {
      "name": "python"
    }
  },
  "cells": [
    {
      "cell_type": "code",
      "execution_count": 1,
      "metadata": {
        "colab": {
          "base_uri": "https://localhost:8080/"
        },
        "id": "K95PkBHuAEd4",
        "outputId": "89c96696-f8d5-4494-b410-fb600062e662"
      },
      "outputs": [
        {
          "output_type": "stream",
          "name": "stdout",
          "text": [
            "3.10.12 (main, Sep 11 2024, 15:47:36) [GCC 11.4.0]\n"
          ]
        }
      ],
      "source": [
        "import sys\n",
        "print(sys.version)"
      ]
    },
    {
      "cell_type": "code",
      "source": [
        "from google.colab import drive\n",
        "drive.mount('/content/drive')"
      ],
      "metadata": {
        "colab": {
          "base_uri": "https://localhost:8080/"
        },
        "id": "BvNMbKGZAII3",
        "outputId": "aeefae41-8813-4463-8f34-da8286c9d2d7"
      },
      "execution_count": 2,
      "outputs": [
        {
          "output_type": "stream",
          "name": "stdout",
          "text": [
            "Mounted at /content/drive\n"
          ]
        }
      ]
    },
    {
      "cell_type": "code",
      "source": [
        "import os\n",
        "os.chdir('/content/drive/My Drive/KURS_CALISMALARIM')\n",
        "!pwd # bize kodun çıktısını dosya yolu olarak veren kod blogudur.')"
      ],
      "metadata": {
        "colab": {
          "base_uri": "https://localhost:8080/"
        },
        "id": "CzM6bxa-AMXX",
        "outputId": "f8d5f5d4-b9d2-49ea-eb21-47d0110a89ef"
      },
      "execution_count": 3,
      "outputs": [
        {
          "output_type": "stream",
          "name": "stdout",
          "text": [
            "/content/drive/My Drive/KURS_CALISMALARIM\n"
          ]
        }
      ]
    },
    {
      "cell_type": "markdown",
      "source": [
        "- While Döngüsü Nedir ?\n",
        "\n",
        "-While döndügüsünün for döngüsünden farkı koşullu çalışan bir operatör olmasıdır.\n",
        "\n",
        "-İşlem sonuna bir koşul belirtilmezse sonsuz döngüye girilir."
      ],
      "metadata": {
        "id": "mtuy2snlAaK7"
      }
    },
    {
      "cell_type": "code",
      "source": [
        "a = 0\n",
        "\n",
        "while (a < 6):\n",
        "  print(\"a'nın değeri: \", a)\n",
        "  a += 1"
      ],
      "metadata": {
        "colab": {
          "base_uri": "https://localhost:8080/"
        },
        "id": "bKyIU-B4BaUK",
        "outputId": "d82656f8-ee72-433c-d98c-a43bfb0ba69b"
      },
      "execution_count": 6,
      "outputs": [
        {
          "output_type": "stream",
          "name": "stdout",
          "text": [
            "a'nın değeri:  0\n",
            "a'nın değeri:  1\n",
            "a'nın değeri:  2\n",
            "a'nın değeri:  3\n",
            "a'nın değeri:  4\n",
            "a'nın değeri:  5\n"
          ]
        }
      ]
    },
    {
      "cell_type": "code",
      "source": [
        "b = 0\n",
        "\n",
        "while (b < 20):\n",
        "  print(\"Çift sayılar: {} \".format(b))\n",
        "  b += 2"
      ],
      "metadata": {
        "colab": {
          "base_uri": "https://localhost:8080/"
        },
        "id": "mp2vggrKBsIq",
        "outputId": "6c0374b6-9eb8-45c5-ed65-e48aba8650c1"
      },
      "execution_count": 7,
      "outputs": [
        {
          "output_type": "stream",
          "name": "stdout",
          "text": [
            "Çift sayılar: 0 \n",
            "Çift sayılar: 2 \n",
            "Çift sayılar: 4 \n",
            "Çift sayılar: 6 \n",
            "Çift sayılar: 8 \n",
            "Çift sayılar: 10 \n",
            "Çift sayılar: 12 \n",
            "Çift sayılar: 14 \n",
            "Çift sayılar: 16 \n",
            "Çift sayılar: 18 \n"
          ]
        }
      ]
    },
    {
      "cell_type": "code",
      "source": [
        "# Listelerde while kullanımı\n",
        "liste = [1,2,3,4]\n",
        "i = 0\n",
        "\n",
        "while (i < len(liste)):\n",
        "  print(\"i: \", i, \"liste: \", liste[i])\n",
        "  i += 1\n",
        "\n"
      ],
      "metadata": {
        "colab": {
          "base_uri": "https://localhost:8080/"
        },
        "id": "uCsdLgEBCEJ1",
        "outputId": "f9984297-3272-4342-dc84-6a0eae8e411e"
      },
      "execution_count": 11,
      "outputs": [
        {
          "output_type": "stream",
          "name": "stdout",
          "text": [
            "i:  0 liste:  1\n",
            "i:  1 liste:  2\n",
            "i:  2 liste:  3\n",
            "i:  3 liste:  4\n"
          ]
        }
      ]
    },
    {
      "cell_type": "markdown",
      "source": [
        "* \" range() \" Fonksiyonu\n",
        "\n",
        "--Başlangıç - Bitiş - Arttırma değeri alınarak Listelere benzer sayı dizisi oluşturur.\n",
        "\n",
        "-Listelerde uzun terim yazmak yerine range() fonksiyonunda direk aralık belirterek kısa yoldan gidebiliriz."
      ],
      "metadata": {
        "id": "zn2WGuieEsEg"
      }
    },
    {
      "cell_type": "code",
      "source": [
        "print(*range(0,30))"
      ],
      "metadata": {
        "colab": {
          "base_uri": "https://localhost:8080/"
        },
        "id": "i8mzj110D9Ny",
        "outputId": "8a74bdbe-ab78-4d6f-c888-e60909c68fc7"
      },
      "execution_count": 13,
      "outputs": [
        {
          "output_type": "stream",
          "name": "stdout",
          "text": [
            "0 1 2 3 4 5 6 7 8 9 10 11 12 13 14 15 16 17 18 19 20 21 22 23 24 25 26 27 28 29\n"
          ]
        }
      ]
    },
    {
      "cell_type": "code",
      "source": [
        "# Çift değerleri alan range ifadesi\n",
        "\n",
        "print(*range(0,50,2)) # son girdiğimiz 2 kısmı atlama değeridir."
      ],
      "metadata": {
        "colab": {
          "base_uri": "https://localhost:8080/"
        },
        "id": "GRIvIb57L5sb",
        "outputId": "80ccf652-5fc0-4225-a448-0dec215cf706"
      },
      "execution_count": 14,
      "outputs": [
        {
          "output_type": "stream",
          "name": "stdout",
          "text": [
            "0 2 4 6 8 10 12 14 16 18 20 22 24 26 28 30 32 34 36 38 40 42 44 46 48\n"
          ]
        }
      ]
    },
    {
      "cell_type": "code",
      "source": [
        "# Tek değerleri alan range ifadesi\n",
        "\n",
        "print(*range(1,50,2))"
      ],
      "metadata": {
        "colab": {
          "base_uri": "https://localhost:8080/"
        },
        "id": "GLoR10HKO1cf",
        "outputId": "a5eb2940-c588-45e6-d740-dd44f44fad2a"
      },
      "execution_count": 21,
      "outputs": [
        {
          "output_type": "stream",
          "name": "stdout",
          "text": [
            "1 3 5 7 9 11 13 15 17 19 21 23 25 27 29 31 33 35 37 39 41 43 45 47 49\n"
          ]
        }
      ]
    },
    {
      "cell_type": "code",
      "source": [
        "# 5 in katlarını alan range fonksiyonu\n",
        "\n",
        "print(*range(0,50,5))"
      ],
      "metadata": {
        "colab": {
          "base_uri": "https://localhost:8080/"
        },
        "id": "f5FKEpKFPGC8",
        "outputId": "94a21042-7b37-4f9a-9388-a1b4776973d3"
      },
      "execution_count": 23,
      "outputs": [
        {
          "output_type": "stream",
          "name": "stdout",
          "text": [
            "0 5 10 15 20 25 30 35 40 45\n"
          ]
        }
      ]
    },
    {
      "cell_type": "code",
      "source": [
        "# sayıyı tersten okuma\n",
        "\n",
        "print(*range(20,0,-1))"
      ],
      "metadata": {
        "colab": {
          "base_uri": "https://localhost:8080/"
        },
        "id": "erV9mKMxQlTa",
        "outputId": "53b8cd49-69dd-4ac3-8b22-579eea62a7b9"
      },
      "execution_count": 31,
      "outputs": [
        {
          "output_type": "stream",
          "name": "stdout",
          "text": [
            "20 19 18 17 16 15 14 13 12 11 10 9 8 7 6 5 4 3 2 1\n"
          ]
        }
      ]
    },
    {
      "cell_type": "code",
      "source": [
        "# for döngüsünde range fonksiyonu kullanımı\n",
        "\n",
        "for c in range(10):\n",
        "  print(c)"
      ],
      "metadata": {
        "colab": {
          "base_uri": "https://localhost:8080/"
        },
        "id": "gj6i7NbEPdVa",
        "outputId": "98bf3af4-2eee-4319-dc96-2a24d479aa9d"
      },
      "execution_count": 24,
      "outputs": [
        {
          "output_type": "stream",
          "name": "stdout",
          "text": [
            "0\n",
            "1\n",
            "2\n",
            "3\n",
            "4\n",
            "5\n",
            "6\n",
            "7\n",
            "8\n",
            "9\n"
          ]
        }
      ]
    },
    {
      "cell_type": "code",
      "source": [
        "for c in range(21):\n",
        "  print(\"*\" * c)"
      ],
      "metadata": {
        "colab": {
          "base_uri": "https://localhost:8080/"
        },
        "id": "DdFH5aCnPtav",
        "outputId": "d4e804c7-042e-4995-9a15-97ab12b088d1"
      },
      "execution_count": 25,
      "outputs": [
        {
          "output_type": "stream",
          "name": "stdout",
          "text": [
            "\n",
            "*\n",
            "**\n",
            "***\n",
            "****\n",
            "*****\n",
            "******\n",
            "*******\n",
            "********\n",
            "*********\n",
            "**********\n",
            "***********\n",
            "************\n",
            "*************\n",
            "**************\n",
            "***************\n",
            "****************\n",
            "*****************\n",
            "******************\n",
            "*******************\n",
            "********************\n"
          ]
        }
      ]
    },
    {
      "cell_type": "markdown",
      "source": [
        "* Break Fonksiyonu\n",
        "\n",
        "-Çalışan fonksiyonu koyulan şarta göre durduran komut."
      ],
      "metadata": {
        "id": "dQjBUO0sRLVk"
      }
    },
    {
      "cell_type": "code",
      "source": [
        "# Kod 0 dan 5 e kadar yazması gerekirken break komutu kullanıldığı için yazmayı baştan bitirdi.\n",
        "\n",
        "for c in range(6):\n",
        "  break\n",
        "  print(c)"
      ],
      "metadata": {
        "id": "TwCyn-4HQfwn"
      },
      "execution_count": 34,
      "outputs": []
    },
    {
      "cell_type": "code",
      "source": [
        "# koşullu şekilde break komutu kullanımı\n",
        "\n",
        "for c in range(6):\n",
        "  if c == 4:\n",
        "    break\n",
        "  print(c)"
      ],
      "metadata": {
        "colab": {
          "base_uri": "https://localhost:8080/"
        },
        "id": "Sjo2wjlPUVIt",
        "outputId": "7f96a283-e9c3-4eaf-b71f-af9949ed91dd"
      },
      "execution_count": 38,
      "outputs": [
        {
          "output_type": "stream",
          "name": "stdout",
          "text": [
            "0\n",
            "1\n",
            "2\n",
            "3\n"
          ]
        }
      ]
    },
    {
      "cell_type": "code",
      "source": [
        "# Burada m ifadesi 5'e eşit olduğunda programı durdur komutu verildi\n",
        "\n",
        "m = 0\n",
        "\n",
        "while (m < 7):\n",
        "  if ( m == 5):\n",
        "    break\n",
        "  print(\"m: \", m)\n",
        "  m += 1"
      ],
      "metadata": {
        "colab": {
          "base_uri": "https://localhost:8080/"
        },
        "id": "yY7e-XAhWxdd",
        "outputId": "aa70d64b-df20-4684-e3f9-1e9caa02b1e7"
      },
      "execution_count": 57,
      "outputs": [
        {
          "output_type": "stream",
          "name": "stdout",
          "text": [
            "m:  0\n",
            "m:  1\n",
            "m:  2\n",
            "m:  3\n",
            "m:  4\n"
          ]
        }
      ]
    },
    {
      "cell_type": "code",
      "source": [
        "while True:   # Sonlandırma ifadesi kullanılmadığı sürece sonsuza kadar sürecek ifade\n",
        "\n",
        "     isim = input(\"İsminizi giriniz: ('c' ifadesine basıldığında çıkış yapılacaktır!)\")\n",
        "\n",
        "     if (isim == \"c\"):\n",
        "      print(\"Sistemden çıkışınız yapılıyor...\")\n",
        "      break\n",
        "     print(\"İsminiz: \", isim)"
      ],
      "metadata": {
        "colab": {
          "base_uri": "https://localhost:8080/"
        },
        "id": "rd5IaW-kYnU3",
        "outputId": "011af57a-dbe1-45ed-bcb1-77820f1a4454"
      },
      "execution_count": 67,
      "outputs": [
        {
          "output_type": "stream",
          "name": "stdout",
          "text": [
            "İsminizi giriniz: ('c' ifadesine basıldığında çıkış yapılacaktır!)cemil\n",
            "İsminiz:  cemil\n",
            "İsminizi giriniz: ('c' ifadesine basıldığında çıkış yapılacaktır!)c\n",
            "Sistemden çıkışınız yapılıyor...\n"
          ]
        }
      ]
    },
    {
      "cell_type": "markdown",
      "source": [
        "* Continue Fonksiyonu\n",
        "\n",
        "-Belirtilen ifadeyi atlayarak döngüye devam eder"
      ],
      "metadata": {
        "id": "vpumGZr4aQ0c"
      }
    },
    {
      "cell_type": "code",
      "source": [
        "liste = [1,3,5,7,9]\n",
        "\n",
        "for c in liste:\n",
        "  if c == 5:\n",
        "    continue  # listedeki 5 ifadesini atlayacak\n",
        "  print(\"İstenen Değerler: \", c)"
      ],
      "metadata": {
        "colab": {
          "base_uri": "https://localhost:8080/"
        },
        "id": "xMwF0qAzYuCG",
        "outputId": "91e1b3bc-38d6-4842-f340-555811857a01"
      },
      "execution_count": 72,
      "outputs": [
        {
          "output_type": "stream",
          "name": "stdout",
          "text": [
            "İstenen Değerler:  1\n",
            "İstenen Değerler:  3\n",
            "İstenen Değerler:  7\n",
            "İstenen Değerler:  9\n"
          ]
        }
      ]
    },
    {
      "cell_type": "code",
      "source": [
        "# Burada istenen tek sayılar gibi görünüyor fakat \"continue\" komutuna tek sayıları gördüğünde döngüyü atla komutu atandı.\n",
        "\n",
        "for m in range(11):\n",
        "  if (m % 2 == 1):\n",
        "    continue\n",
        "  print(\"Çift Sayılar: \", m)"
      ],
      "metadata": {
        "colab": {
          "base_uri": "https://localhost:8080/"
        },
        "id": "SbeHYwAriyOQ",
        "outputId": "9aa119cb-da17-4690-d61e-d0468073e532"
      },
      "execution_count": 77,
      "outputs": [
        {
          "output_type": "stream",
          "name": "stdout",
          "text": [
            "Çift Sayılar:  0\n",
            "Çift Sayılar:  2\n",
            "Çift Sayılar:  4\n",
            "Çift Sayılar:  6\n",
            "Çift Sayılar:  8\n",
            "Çift Sayılar:  10\n"
          ]
        }
      ]
    },
    {
      "cell_type": "code",
      "source": [
        "# Önemli\n",
        "\n",
        "m = 0\n",
        "\n",
        "while (m < 10):\n",
        "  if (m == 2):\n",
        "    m += 1  # arttırma işareti atmasaydık 2 den sonra artma işlemi olmayacak ve sonsuz döngüye giricekti\n",
        "    continue\n",
        "  print(\"m: \", m)\n",
        "  m += 1"
      ],
      "metadata": {
        "colab": {
          "base_uri": "https://localhost:8080/"
        },
        "id": "lvzXUVFCrKRk",
        "outputId": "6bd6d805-3afb-41a0-b270-a5e1608be7e9"
      },
      "execution_count": 85,
      "outputs": [
        {
          "output_type": "stream",
          "name": "stdout",
          "text": [
            "m:  0\n",
            "m:  1\n",
            "m:  3\n",
            "m:  4\n",
            "m:  5\n",
            "m:  6\n",
            "m:  7\n",
            "m:  8\n",
            "m:  9\n"
          ]
        }
      ]
    },
    {
      "cell_type": "code",
      "source": [
        "# continue komutu kullanmadan da kod aynı şekilde çalışır.\n",
        "\n",
        "m = 0\n",
        "\n",
        "while (m < 10):\n",
        "  if (m == 2):\n",
        "    m += 1  # arttırma işareti atmasaydık 2 den sonra artma işlemi olmayacak ve sonsuz döngüye giricekti\n",
        "  print(\"m: \", m)\n",
        "  m += 1"
      ],
      "metadata": {
        "colab": {
          "base_uri": "https://localhost:8080/"
        },
        "id": "r_KVBXqxs8A_",
        "outputId": "a7a2ec95-85d8-4130-be37-edbe686b43a1"
      },
      "execution_count": 86,
      "outputs": [
        {
          "output_type": "stream",
          "name": "stdout",
          "text": [
            "m:  0\n",
            "m:  1\n",
            "m:  3\n",
            "m:  4\n",
            "m:  5\n",
            "m:  6\n",
            "m:  7\n",
            "m:  8\n",
            "m:  9\n"
          ]
        }
      ]
    },
    {
      "cell_type": "code",
      "source": [],
      "metadata": {
        "id": "tfmQX7DNtgwx"
      },
      "execution_count": null,
      "outputs": []
    }
  ]
}