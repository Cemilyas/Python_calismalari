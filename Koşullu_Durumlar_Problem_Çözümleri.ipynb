{
  "nbformat": 4,
  "nbformat_minor": 0,
  "metadata": {
    "colab": {
      "provenance": []
    },
    "kernelspec": {
      "name": "python3",
      "display_name": "Python 3"
    },
    "language_info": {
      "name": "python"
    }
  },
  "cells": [
    {
      "cell_type": "code",
      "execution_count": 1,
      "metadata": {
        "colab": {
          "base_uri": "https://localhost:8080/"
        },
        "id": "bOA7s3UE3oKy",
        "outputId": "21994dc4-a55b-4f62-a960-9269cb9337d5"
      },
      "outputs": [
        {
          "output_type": "stream",
          "name": "stdout",
          "text": [
            "3.10.12 (main, Sep 11 2024, 15:47:36) [GCC 11.4.0]\n"
          ]
        }
      ],
      "source": [
        "import sys\n",
        "print(sys.version)"
      ]
    },
    {
      "cell_type": "code",
      "source": [
        "from google.colab import drive\n",
        "drive.mount('/content/drive')"
      ],
      "metadata": {
        "colab": {
          "base_uri": "https://localhost:8080/"
        },
        "id": "uxxwNTbu3sXH",
        "outputId": "9a88af8f-a455-406d-ae8c-912dc76ff17b"
      },
      "execution_count": 2,
      "outputs": [
        {
          "output_type": "stream",
          "name": "stdout",
          "text": [
            "Mounted at /content/drive\n"
          ]
        }
      ]
    },
    {
      "cell_type": "code",
      "source": [
        "import os\n",
        "os.chdir('/content/drive/My Drive/KURS_CALISMALARIM')\n",
        "!pwd # bize kodun çıktısını dosya yolu olarak veren kod blogudur.')\n",
        ""
      ],
      "metadata": {
        "colab": {
          "base_uri": "https://localhost:8080/"
        },
        "id": "I38-yhiC365i",
        "outputId": "ea939889-859c-4f6b-81dd-df88915cee3d"
      },
      "execution_count": 3,
      "outputs": [
        {
          "output_type": "stream",
          "name": "stdout",
          "text": [
            "/content/drive/My Drive/KURS_CALISMALARIM\n"
          ]
        }
      ]
    },
    {
      "cell_type": "markdown",
      "source": [
        "Problem 1\n",
        "\n",
        "Kullanıcıdan alınan boy ve kilo değerlerine göre beden kitle indeksini hesaplayın ve şu kurallara göre ekrana şu yazıları yazdırın.\n",
        "\n",
        "---\n",
        "\n",
        "Beden Kitle İndeksi: Kilo / Boy(m) *  Boy(m)\n",
        "\n",
        "\n",
        "---\n",
        "\n",
        "\n",
        "    BKİ 18.5'un altındaysa -------> Zayıf\n",
        "\n",
        "    BKİ 18.5 ile 25 arasındaysa ------> Normal\n",
        "\n",
        "    BKİ 25 ile 30 arasındaysa --------> Fazla Kilolu\n",
        "\n",
        "    BKİ 30'un üstündeyse -------------> Obez"
      ],
      "metadata": {
        "id": "cxoUo4F84WtZ"
      }
    },
    {
      "cell_type": "code",
      "source": [
        "print(\"***********************************\\n\"\n",
        "\"\\n Beden Kitle İndeksi Hesaplama Robotu \\n \"\n",
        "\n",
        "\"\\n***********************************\\n\")\n",
        "\n",
        "\n",
        "\n",
        "kullanıcı_kilo = float(input(\"Kullanıcının kilosunu giriniz: \"))\n",
        "kullanıcı_boy = float(input(\"Kullanıcının boyunu giriniz:\"))\n",
        "print(\"\\n\")\n",
        "\n",
        "indeks = (kullanıcı_kilo) / (kullanıcı_boy * kullanıcı_boy)\n",
        "\n",
        "\n",
        "if (indeks > 0) and (indeks < 18.5):\n",
        "  print(\" Kullanıcı İndeks  Değeri = {}  => Zayıf \".format(indeks))\n",
        "\n",
        "elif (indeks > 18.5) and (indeks < 25):\n",
        "  print(\" Kullanıcı İndeks Değeri = {} => Normal \".format(indeks))\n",
        "\n",
        "elif (indeks > 25) and (indeks < 30):\n",
        "  print(\" Kullanıcı İndeks Değeri = {} => Fazla Kilolu \".format(indeks))\n",
        "\n",
        "else:\n",
        "  print(\" Kullanıcı İndeks Değeri = {} => Obez \".format(indeks))\n",
        "\n"
      ],
      "metadata": {
        "colab": {
          "base_uri": "https://localhost:8080/"
        },
        "id": "bCX1HGpq4uxD",
        "outputId": "e6a67b67-669b-4c09-a0d8-36522118259b"
      },
      "execution_count": 49,
      "outputs": [
        {
          "output_type": "stream",
          "name": "stdout",
          "text": [
            "***********************************\n",
            "\n",
            " Beden Kitle İndeksi Hesaplama Robotu \n",
            " \n",
            "***********************************\n",
            "\n",
            "Kullanıcının kilosunu giriniz: 76\n",
            "Kullanıcının boyunu giriniz:1.74\n",
            "\n",
            "\n",
            " Kullanıcı İndeks Değeri = 25.102391333069097 => Fazla Kilolu \n"
          ]
        }
      ]
    },
    {
      "cell_type": "markdown",
      "source": [
        "PROBLEM 1\n",
        "\n",
        "FARKLI OPERATÖRLER KULLANILARAK YAPILAN BİR BAŞKA OPSİYONEL VERSİYONU"
      ],
      "metadata": {
        "id": "EmkcvCNevotK"
      }
    },
    {
      "cell_type": "code",
      "source": [
        "boy = float(input(\"Boyunuzu Giriniz:\"))\n",
        "kilo = int(input(\"Kilonuzu Giriniz:\"))\n",
        "\n",
        "bki =  kilo / (boy ** 2)\n",
        "\n",
        "if (bki < 18.5):\n",
        "    print(\"Zayıf\")\n",
        "elif (bki >= 18.5 and bki < 25):\n",
        "    print(\"Normal\")\n",
        "elif (bki >= 25 and bki < 30):\n",
        "    print(\"Fazla Kilolu\")\n",
        "else:\n",
        "    print(\"Obez\")"
      ],
      "metadata": {
        "colab": {
          "base_uri": "https://localhost:8080/"
        },
        "id": "ZGykxJXqvnjx",
        "outputId": "922bef6a-fa70-4fc2-8de8-3541ec8684c7"
      },
      "execution_count": 185,
      "outputs": [
        {
          "output_type": "stream",
          "name": "stdout",
          "text": [
            "Boyunuzu Giriniz:1.73\n",
            "Kilonuzu Giriniz:76\n",
            "Fazla Kilolu\n"
          ]
        }
      ]
    },
    {
      "cell_type": "markdown",
      "source": [
        "Problem 2\n",
        "\n",
        "Kullanıcıdan 3 tane sayı alın ve en büyük sayıyı ekrana yazdırın."
      ],
      "metadata": {
        "id": "geL8ZrMK9gdD"
      }
    },
    {
      "cell_type": "code",
      "source": [
        "a = int(input(\"Birinci sayı: \"))\n",
        "b = int(input(\"İkinci sayı: \"))\n",
        "c = int(input(\"Üçüncü sayı: \"))\n",
        "\n",
        "if (a > b) and (a > c):\n",
        "  print(\"En büyük sayı {} 'dır. \".format(a))\n",
        "elif (b > a) and (b > c):\n",
        "  print(\"En büyük sayı {} 'dır.\".format(b))\n",
        "else:\n",
        "  print(\"En büyük sayı {} 'dır.\".format(c))"
      ],
      "metadata": {
        "colab": {
          "base_uri": "https://localhost:8080/"
        },
        "id": "FR77EOtG8W6w",
        "outputId": "3a071c81-cf8c-42eb-b044-2a29d3b6c361"
      },
      "execution_count": 50,
      "outputs": [
        {
          "output_type": "stream",
          "name": "stdout",
          "text": [
            "Birinci sayı: 2\n",
            "İkinci sayı: 5\n",
            "Üçüncü sayı: 3\n",
            "En büyük sayı 5 'dır.\n"
          ]
        }
      ]
    },
    {
      "cell_type": "markdown",
      "source": [
        "Problem 3\n",
        "\n",
        "Kullanıcının girdiği vize1,vize2,final notlarına notlarına göre harf notunu hesaplayın.\n",
        "\n",
        "\n",
        "---\n",
        "    Vize1 toplam notun %30'una etki edecek.\n",
        "\n",
        "    Vize2 toplam notun %30'una etki edecek.\n",
        "\n",
        "    Final toplam notun %40'ına etki edecek.\n",
        "\n",
        "\n",
        "---\n",
        "\n",
        "    Toplam Not >=  90 -----> AA\n",
        "\n",
        "    Toplam Not >=  85 -----> BA\n",
        "\n",
        "    Toplam Not >=  80 -----> BB\n",
        "\n",
        "    Toplam Not >=  75 -----> CB\n",
        "\n",
        "    Toplam Not >=  70 -----> CC\n",
        "\n",
        "    Toplam Not >=  65 -----> DC\n",
        "\n",
        "    Toplam Not >=  60 -----> DD\n",
        "\n",
        "    Toplam Not >=  55 -----> FD\n",
        "\n",
        "    Toplam Not <  55 -----> FF\n",
        "\n",
        "\n"
      ],
      "metadata": {
        "id": "cLpEYOsR--Rq"
      }
    },
    {
      "cell_type": "code",
      "source": [
        "print(\"Dönem Sonu Not Hesaplama Robotu \\n\")\n",
        "\n",
        "vize1 = float(input(\"İlk Vize Notu: \"))\n",
        "vize2 = float(input(\"İkinci Vize Notu: \"))\n",
        "final1 = float(input(\"Final Notu: \"))\n",
        "\n",
        "toplam_not = (vize1 * 0.3) + (vize2 * 0.3) + (final1 * 0.4)\n",
        "\n",
        "if (toplam_not >= 90):\n",
        "  print(\"Toplam Sınav Not Ortalamanız: {} - Harf Notunuz: AA \".format(toplam_not))\n",
        "\n",
        "elif (toplam_not >= 85) and (toplam_not < 90):\n",
        "  print(\"Toplam Sınav Not Ortalamanız: {} - Harf Notunuz: BA \".format(toplam_not))\n",
        "\n",
        "elif (toplam_not >= 80) and (toplam_not < 85):\n",
        "  print(\"Toplam Sınav Not Ortalamanız: {} - Harf Notunuz: BB \".format(toplam_not))\n",
        "\n",
        "elif (toplam_not >= 75) and (toplam_not < 80):\n",
        "  print(\"Toplam Sınav Not Ortalamanız: {} - Harf Notunuz: CB \".format(toplam_not))\n",
        "\n",
        "elif (toplam_not >= 70) and (toplam_not < 75):\n",
        "  print(\"Toplam Sınav Not Ortalamanız: {} - Harf Notunuz: CC \".format(toplam_not))\n",
        "\n",
        "elif (toplam_not >= 65 and toplam_not < 70):\n",
        "  print(\"Toplam Sınav Not Ortalamanız: {} - Harf Notunuz: DC \".format(toplam_not))\n",
        "\n",
        "elif (toplam_not >= 60) and (toplam_not < 65):\n",
        "  print(\"Toplam Sınav Not Ortalamanız: {} - Harf Notunuz: DD \".format(toplam_not))\n",
        "\n",
        "elif (toplam_not >= 55) and (toplam_not < 60):\n",
        "  print(\"Toplam Sınav Not Ortalamanız: {} - Harf Notunuz: FD \".format(toplam_not))\n",
        "\n",
        "elif (toplam_not < 55):\n",
        "  print(\"Toplam Sınav Not Ortalamanız: {} - Harf Notunuz: FF \".format(toplam_not))\n",
        "\n",
        "else:\n",
        "  print(\"Toplam Sınav Not Ortalamanız: {} - Harf Notunuz: Belirlenemedi (KALDINIZ!) \".format(toplam_not))\n"
      ],
      "metadata": {
        "colab": {
          "base_uri": "https://localhost:8080/"
        },
        "id": "VhT9ynVf-5S4",
        "outputId": "9d939ad1-9809-4302-eb2c-ac9f65f762d7"
      },
      "execution_count": 53,
      "outputs": [
        {
          "output_type": "stream",
          "name": "stdout",
          "text": [
            "Dönem Sonu Not Hesaplama Robotu \n",
            "\n",
            "İlk Vize Notu: 73.2\n",
            "İkinci Vize Notu: 89.73\n",
            "Final Notu: 65.65\n",
            "Toplam Sınav Not Ortalamanız: 75.13900000000001 - Harf Notunuz: CB \n"
          ]
        }
      ]
    },
    {
      "cell_type": "markdown",
      "source": [
        "Problem 4\n",
        "\n",
        "---\n",
        "    Şimdi de geometrik şekil hesaplama işlemi yapalım. İlk olarak kullanıcıdan üçgenin mi dörtgenin mi tipini bulmak istediğini sorun.\n",
        "    \n",
        "    Eğer kullanıcı \"Dörtgen\" cevabını verirse , 4 tane kenar isteyip bu dörtgenin kare mi , dikdörtgen mi yoksa sıradan bir dörtgen mi olduğunu bulmaya çalışın.\n",
        "\n",
        "    Eğer kullanıcı \"Üçgen\" cevabını verirse , 3 tane kenar isteyip bu üçgenin ikizkenar mı , eşkenar mı yoksa sıradan bir üçgen mi olduğunu bulmaya çalışın.\n"
      ],
      "metadata": {
        "id": "Kr0c6KlXMvsd"
      }
    },
    {
      "cell_type": "code",
      "source": [
        "print(\"Geometrik Şekil Hesaplama İşlemi \\n\"\n",
        "\n",
        "\"\\n  1 => Dörtgen \\n\"\n",
        "\"  2 => Üçgen \\n\")\n",
        "\n",
        "dortgen = 1\n",
        "ucgen = 2\n",
        "\n",
        "\n",
        "soru = int(input(\"\\nBulmak istediğiniz Geometrik Şeklin Numarasını giriniz: \"))\n",
        "\n",
        "if (soru == dortgen):                                                                                   #\n",
        "  print(\"\\nSeçim Başarılı....\\n\")                                                                       #\n",
        "  print(\"\\nSeçilen seçeneğin (Dörtgen) türünü öğrenmek için kenar uzunluklarını giriniz.\\n \")           #\n",
        "  kenar1 = int(input(\"Birinci Kenarı Giriniz: \"))                                                       #\n",
        "  kenar2 = int(input(\"İkinci Kenarı Giriniz: \"))                                                        #             D Ö R T G E N\n",
        "  kenar3 = int(input(\"Üçüncü Kenarı Giriniz: \"))                                                        #\n",
        "  kenar4 = int(input(\"Dördüncü Kenarı Giriniz: \"))                                                      #\n",
        "  if (kenar1 == kenar2) and (kenar2 == kenar3) and (kenar3 == kenar4):                                  #         İ L K  - İ S T A S Y O N\n",
        "    print(\"\\n Karedir.\")                                                                                #\n",
        "  elif (kenar1 == kenar3) and (kenar2 == kenar4):                                                       #\n",
        "    print(\"\\n Dikdörtgendir\")                                                                           #\n",
        "  else:                                                                                                 #\n",
        "    print(\"\\n Sıradan Dörtgendir.\")                                                                     #\n",
        "\n",
        "\n",
        "\n",
        "elif (soru == ucgen):                                                                                   #    * Burada elif komutu kullanmayıp if komutu kullansaydık asağıdaki else ifadesini de beraberinde okuyacaktı\n",
        "  print(\"\\nSeçim Başarılı....\\n\")                                                                       #\n",
        "  print(\"\\nSeçilen seçeneğin (Üçgen) türünü öğrenmek için kenar uzunluklarını giriniz. \\n\")             #\n",
        "  kenar1 = int(input(\"Birinci Kenarı Giriniz: \"))                                                       #\n",
        "  kenar2 = int(input(\"İkinci Kenarı Giriniz: \"))                                                        #             Ü Ç G E N\n",
        "  kenar3 = int(input(\"Üçüncü Kenarı Giriniz: \"))                                                        #\n",
        "  if (kenar1 == kenar2) and (kenar2 == kenar3):                                                         #\n",
        "    print(\"\\n Eşkenar Üçgen\")                                                                           #        İ K İ N C İ - İ S T A S Y O N\n",
        "  elif(kenar1 == kenar2) or (kenar1 == kenar3) or (kenar2 == kenar3):                                   #\n",
        "    print(\"\\n İkizkenar Üçgen\")                                                                         #\n",
        "  else:                                                                                                 #\n",
        "    print(\"\\n Sıradan Üçgen\")\n",
        "\n",
        "else:                                                                                                   #\n",
        "  print(\"\\nSeçilen ifade bir Geometrik şekille eşleşmemektedir! \")                                      #            B İ T İ Ş\n",
        "                                                                                                        #"
      ],
      "metadata": {
        "colab": {
          "base_uri": "https://localhost:8080/"
        },
        "id": "KY8HuC0dZc8O",
        "outputId": "f3435a7a-61d9-4892-ee8f-7914ac147fde"
      },
      "execution_count": 170,
      "outputs": [
        {
          "output_type": "stream",
          "name": "stdout",
          "text": [
            "Geometrik Şekil Hesaplama İşlemi \n",
            "\n",
            "  1 => Dörtgen \n",
            "  2 => Üçgen \n",
            "\n",
            "\n",
            "Bulmak istediğiniz Geometrik Şeklin Numarasını giriniz: 1\n",
            "\n",
            "Seçim Başarılı....\n",
            "\n",
            "\n",
            "Seçilen seçeneğin (Dörtgen) türünü öğrenmek için kenar uzunluklarını giriniz.\n",
            " \n",
            "Birinci Kenarı Giriniz: 14\n",
            "İkinci Kenarı Giriniz: 13\n",
            "Üçüncü Kenarı Giriniz: 14\n",
            "Dördüncü Kenarı Giriniz: 13\n",
            "\n",
            " Dikdörtgendir\n"
          ]
        }
      ]
    },
    {
      "cell_type": "markdown",
      "source": [
        "PROBLEM 4\n",
        "\n",
        "FARKLI OPERATÖRLER KULLANILARAK YAPILAN BİR BAŞKA OPSİYONEL VERSİYONU"
      ],
      "metadata": {
        "id": "HFnPWp2-vLjf"
      }
    },
    {
      "cell_type": "code",
      "source": [
        "şekil =  input(\"Hangi Geometrik şeklin tipini öğrenmek istiyorsunuz?\")\n",
        "\n",
        "if  şekil.lower() == \"dörtgen\":\n",
        "    print(\"Lütfen kenarları sırayla giriniz.\")\n",
        "    a = int(input(\"Kenar-1:\"))\n",
        "    b = int(input(\"Kenar-2:\"))\n",
        "    c = int(input(\"Kenar-3:\"))\n",
        "    d = int(input(\"Kenar-4:\"))\n",
        "\n",
        "    if (a == b and a == c and a == d):\n",
        "        print(\"Kare\")\n",
        "    elif (a == c and b == d):\n",
        "        print(\"Dikdörtgen\")\n",
        "    else:\n",
        "        print(\"Dörtgen\")\n",
        "\n",
        "\n",
        "\n",
        "elif şekil.upper() == \"ÜÇGEN\":\n",
        "    print(\"Lütfen kenarları sırayla giriniz.\")\n",
        "    a = int(input(\"Kenar-1:\"))\n",
        "    b = int(input(\"Kenar-2:\"))\n",
        "    c = int(input(\"Kenar-3:\"))\n",
        "\n",
        "    if ( abs(a+b) > c and abs(a+c) > b and abs(b+c) > a):\n",
        "        if (a == b and a == c ):\n",
        "            print(\"Eşkenar Üçgen.\")\n",
        "        elif ((a == b and a != c) or (a == c and a != b) or (b == c and b != a)):\n",
        "            print(\"İkizkenar Üçgen....\")\n",
        "        else:\n",
        "            print(\"Çeşitkenar Üçgen.\")\n",
        "    else:\n",
        "        print(\"Üçgen belirtmiyor.\")\n",
        "\n",
        "else:\n",
        "    print(\"Geçersiz Şekil...\")"
      ],
      "metadata": {
        "colab": {
          "base_uri": "https://localhost:8080/"
        },
        "id": "UWIbnGSopacx",
        "outputId": "f981a299-de20-483b-c7cf-47c78b4f7f01"
      },
      "execution_count": 184,
      "outputs": [
        {
          "output_type": "stream",
          "name": "stdout",
          "text": [
            "Hangi Geometrik şeklin tipini öğrenmek istiyorsunuz?üçgen\n",
            "Lütfen kenarları sırayla giriniz.\n",
            "Kenar-1:13\n",
            "Kenar-2:12\n",
            "Kenar-3:12\n",
            "İkizkenar Üçgen....\n"
          ]
        }
      ]
    },
    {
      "cell_type": "code",
      "source": [],
      "metadata": {
        "id": "-kJun1aEsmFO"
      },
      "execution_count": null,
      "outputs": []
    }
  ]
}