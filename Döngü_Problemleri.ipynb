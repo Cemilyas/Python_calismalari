{
  "nbformat": 4,
  "nbformat_minor": 0,
  "metadata": {
    "colab": {
      "provenance": []
    },
    "kernelspec": {
      "name": "python3",
      "display_name": "Python 3"
    },
    "language_info": {
      "name": "python"
    }
  },
  "cells": [
    {
      "cell_type": "code",
      "execution_count": null,
      "metadata": {
        "colab": {
          "base_uri": "https://localhost:8080/"
        },
        "id": "Li0vpqTa3eGS",
        "outputId": "e5a735e2-e837-47ab-9435-0cd45987b82c"
      },
      "outputs": [
        {
          "output_type": "stream",
          "name": "stdout",
          "text": [
            "3.10.12 (main, Sep 11 2024, 15:47:36) [GCC 11.4.0]\n"
          ]
        }
      ],
      "source": [
        "import sys\n",
        "print(sys.version)"
      ]
    },
    {
      "cell_type": "code",
      "source": [
        "from google.colab import drive\n",
        "drive.mount('/content/drive')"
      ],
      "metadata": {
        "colab": {
          "base_uri": "https://localhost:8080/"
        },
        "id": "yejt8uUn3hvO",
        "outputId": "cff13282-ee30-4e2a-cc98-849e8b36164e"
      },
      "execution_count": null,
      "outputs": [
        {
          "output_type": "stream",
          "name": "stdout",
          "text": [
            "Mounted at /content/drive\n"
          ]
        }
      ]
    },
    {
      "cell_type": "code",
      "source": [
        "import os\n",
        "os.chdir('/content/drive/My Drive/KURS_CALISMALARIM')\n",
        "!pwd # bize kodun çıktısını dosya yolu olarak veren kod blogudur.')"
      ],
      "metadata": {
        "colab": {
          "base_uri": "https://localhost:8080/"
        },
        "id": "l9kVB_As3m5v",
        "outputId": "20d0ed8e-1557-44bf-d545-16ddbe9852c5"
      },
      "execution_count": null,
      "outputs": [
        {
          "output_type": "stream",
          "name": "stdout",
          "text": [
            "/content/drive/My Drive/KURS_CALISMALARIM\n"
          ]
        }
      ]
    },
    {
      "cell_type": "markdown",
      "source": [
        "* Problem 1\n",
        "\n",
        "Kullanıcıdan aldığınız bir sayının mükemmel olup olmadığını bulmaya çalışın.\n",
        "\n",
        "Bir sayının kendi hariç bölenlerinin toplamı kendine eşitse bu sayıya \"mükemmel sayı\" denir. Örnek olarak, 6 mükemmel bir sayıdır. (1 + 2 + 3 = 6)"
      ],
      "metadata": {
        "id": "WozMXbOF390n"
      }
    },
    {
      "cell_type": "code",
      "source": [
        "sayi = int(input(\"Bir sayı giriniz: \"))\n",
        "toplam = 0\n",
        "\n",
        "for i in range(1, sayi):\n",
        "  if (sayi % i == 0):\n",
        "    toplam += i\n",
        "\n",
        "if (toplam == sayi):\n",
        "      print(sayi, \"mükemmel bir sayıdır.\")\n",
        "else:\n",
        "      print(sayi, \"mükemmel bir sayı değildir.\")\n"
      ],
      "metadata": {
        "colab": {
          "base_uri": "https://localhost:8080/"
        },
        "id": "KRF1A9y73uAQ",
        "outputId": "b93ee9b3-49e3-447b-808b-36c681510115"
      },
      "execution_count": null,
      "outputs": [
        {
          "output_type": "stream",
          "name": "stdout",
          "text": [
            "Bir sayı giriniz: 90\n",
            "90 mükemmel bir sayı değildir.\n"
          ]
        }
      ]
    },
    {
      "cell_type": "markdown",
      "source": [
        "* Problem 2\n",
        "\n",
        "Kullanıcıdan aldığınız bir sayının \"Armstrong\" sayısı olup olmadığını bulmaya çalışın.\n",
        "\n",
        "Örnek olarak, Bir sayı eğer 4 basamaklı ise ve oluşturan rakamlardan herbirinin 4. kuvvetinin toplamı( 3 basamaklı sayılar için 3.kuvveti ) o sayıya eşitse bu sayıya \"Armstrong\" sayısı denir.\n",
        "\n",
        "Örnek olarak : 1634 = 1^4 + 6^4 + 3^4 + 4^4"
      ],
      "metadata": {
        "id": "cIysmlHO6n-3"
      }
    },
    {
      "cell_type": "code",
      "source": [
        "sayi = int(input(\"Bir sayı giriniz: \"))\n",
        "\n",
        "basamak = str(sayi)\n",
        "\n",
        "toplam = 0\n",
        "\n",
        "for i in basamak:\n",
        "  toplam += int(i) ** len(basamak)\n",
        "\n",
        "if (sayi == toplam):\n",
        "  print(sayi, \"bir armstrong sayısıdır.\")\n",
        "else:\n",
        "  print(sayi, \"bir armstrong sayısı değildir.\")"
      ],
      "metadata": {
        "colab": {
          "base_uri": "https://localhost:8080/"
        },
        "id": "6r-cetyW6kgc",
        "outputId": "730d14cb-2f60-4197-a21d-6f0b5cbb39ff"
      },
      "execution_count": null,
      "outputs": [
        {
          "output_type": "stream",
          "name": "stdout",
          "text": [
            "Bir sayı giriniz: 1919\n",
            "1919 bir armstrong sayısı değildir.\n"
          ]
        }
      ]
    },
    {
      "cell_type": "markdown",
      "source": [
        "* Problem 3\n",
        "\n",
        "1'den 10'kadar olan sayılarla ekrana çarpım tablosu bastırmaya çalışın.\n",
        "\n",
        "*İpucu: İç içe 2 tane for döngüsü kullanın. Aynı zamanda sayıları range() fonksiyonunu kullanarak elde edin.*"
      ],
      "metadata": {
        "id": "sfF3pf38xXB4"
      }
    },
    {
      "cell_type": "code",
      "source": [
        "for i in range(1,11):\n",
        "  print(\"*\")\n",
        "  for j in range(1,11):\n",
        "    print(\" {} x {} = {} \".format(i,j,i*j))\n",
        "\n",
        ""
      ],
      "metadata": {
        "colab": {
          "base_uri": "https://localhost:8080/"
        },
        "id": "GKnJ4REtxsXk",
        "outputId": "2b7aa62f-36c0-417d-ecc4-c8c1e1005a2d"
      },
      "execution_count": 36,
      "outputs": [
        {
          "output_type": "stream",
          "name": "stdout",
          "text": [
            "*\n",
            " 1 x 1 = 1 \n",
            " 1 x 2 = 2 \n",
            " 1 x 3 = 3 \n",
            " 1 x 4 = 4 \n",
            " 1 x 5 = 5 \n",
            " 1 x 6 = 6 \n",
            " 1 x 7 = 7 \n",
            " 1 x 8 = 8 \n",
            " 1 x 9 = 9 \n",
            " 1 x 10 = 10 \n",
            "*\n",
            " 2 x 1 = 2 \n",
            " 2 x 2 = 4 \n",
            " 2 x 3 = 6 \n",
            " 2 x 4 = 8 \n",
            " 2 x 5 = 10 \n",
            " 2 x 6 = 12 \n",
            " 2 x 7 = 14 \n",
            " 2 x 8 = 16 \n",
            " 2 x 9 = 18 \n",
            " 2 x 10 = 20 \n",
            "*\n",
            " 3 x 1 = 3 \n",
            " 3 x 2 = 6 \n",
            " 3 x 3 = 9 \n",
            " 3 x 4 = 12 \n",
            " 3 x 5 = 15 \n",
            " 3 x 6 = 18 \n",
            " 3 x 7 = 21 \n",
            " 3 x 8 = 24 \n",
            " 3 x 9 = 27 \n",
            " 3 x 10 = 30 \n",
            "*\n",
            " 4 x 1 = 4 \n",
            " 4 x 2 = 8 \n",
            " 4 x 3 = 12 \n",
            " 4 x 4 = 16 \n",
            " 4 x 5 = 20 \n",
            " 4 x 6 = 24 \n",
            " 4 x 7 = 28 \n",
            " 4 x 8 = 32 \n",
            " 4 x 9 = 36 \n",
            " 4 x 10 = 40 \n",
            "*\n",
            " 5 x 1 = 5 \n",
            " 5 x 2 = 10 \n",
            " 5 x 3 = 15 \n",
            " 5 x 4 = 20 \n",
            " 5 x 5 = 25 \n",
            " 5 x 6 = 30 \n",
            " 5 x 7 = 35 \n",
            " 5 x 8 = 40 \n",
            " 5 x 9 = 45 \n",
            " 5 x 10 = 50 \n",
            "*\n",
            " 6 x 1 = 6 \n",
            " 6 x 2 = 12 \n",
            " 6 x 3 = 18 \n",
            " 6 x 4 = 24 \n",
            " 6 x 5 = 30 \n",
            " 6 x 6 = 36 \n",
            " 6 x 7 = 42 \n",
            " 6 x 8 = 48 \n",
            " 6 x 9 = 54 \n",
            " 6 x 10 = 60 \n",
            "*\n",
            " 7 x 1 = 7 \n",
            " 7 x 2 = 14 \n",
            " 7 x 3 = 21 \n",
            " 7 x 4 = 28 \n",
            " 7 x 5 = 35 \n",
            " 7 x 6 = 42 \n",
            " 7 x 7 = 49 \n",
            " 7 x 8 = 56 \n",
            " 7 x 9 = 63 \n",
            " 7 x 10 = 70 \n",
            "*\n",
            " 8 x 1 = 8 \n",
            " 8 x 2 = 16 \n",
            " 8 x 3 = 24 \n",
            " 8 x 4 = 32 \n",
            " 8 x 5 = 40 \n",
            " 8 x 6 = 48 \n",
            " 8 x 7 = 56 \n",
            " 8 x 8 = 64 \n",
            " 8 x 9 = 72 \n",
            " 8 x 10 = 80 \n",
            "*\n",
            " 9 x 1 = 9 \n",
            " 9 x 2 = 18 \n",
            " 9 x 3 = 27 \n",
            " 9 x 4 = 36 \n",
            " 9 x 5 = 45 \n",
            " 9 x 6 = 54 \n",
            " 9 x 7 = 63 \n",
            " 9 x 8 = 72 \n",
            " 9 x 9 = 81 \n",
            " 9 x 10 = 90 \n",
            "*\n",
            " 10 x 1 = 10 \n",
            " 10 x 2 = 20 \n",
            " 10 x 3 = 30 \n",
            " 10 x 4 = 40 \n",
            " 10 x 5 = 50 \n",
            " 10 x 6 = 60 \n",
            " 10 x 7 = 70 \n",
            " 10 x 8 = 80 \n",
            " 10 x 9 = 90 \n",
            " 10 x 10 = 100 \n"
          ]
        }
      ]
    },
    {
      "cell_type": "markdown",
      "source": [
        "* Problem 4\n",
        "\n",
        "Her bir while döngüsünde kullanıcıdan bir sayı alın ve kullanıcının girdiği sayıları \"toplam\" isimli bir değişkene ekleyin. Kullanıcı \"q\" tuşuna bastığı zaman döngüyü sonlandırın ve ekrana \"toplam değişkenini\" bastırın.\n",
        "\n",
        "*İpucu : while döngüsünü sonsuz koşulla başlatın ve kullanıcı q'ya basarsa döngüyü break ile sonlandırın.*"
      ],
      "metadata": {
        "id": "TO_GaPnL4gHK"
      }
    },
    {
      "cell_type": "code",
      "source": [
        "toplam = 0\n",
        "\n",
        "while True:\n",
        "  sayi = input(\"Bir sayı giriniz: \")   # Döngü başlangıcında kullanıcıdan bir girdi bekliyoruz.\n",
        "  if (sayi == \"q\"):                    # Kullanıcı girdiye \"q\" yazarsa...\n",
        "    print(\"Döngü sonlandırıldı.. - Girilen sayıların toplamı = {}\".format(toplam)) # Döngü sonlandırıldı yazısı çıkacak ve girdiği değerlerin toplamı verilecek.\n",
        "    break                                                                          # break komutu sayesinde de döngü orada direk sonlandırılacak.\n",
        "\n",
        "  sayi = int(sayi)  # Burada girilen ifadeyi int cinsine dönüştürüyoruz.ilk başta girilen ifadeye int değişkeni eklemediğimiz için girilen ifadeler str cinsinden olacaktır.\n",
        "  toplam += sayi    # Her sayi girildiğinde bunu toplam değişkenine atar ve kaydeder.Kullanıcı her sayi girişinde toplam ifadesine bunu ekleyerek orada tutar."
      ],
      "metadata": {
        "colab": {
          "base_uri": "https://localhost:8080/"
        },
        "id": "iNnn4Dr-1XUb",
        "outputId": "fdf0ef43-57c0-4f45-818a-02536f5c31c4"
      },
      "execution_count": 66,
      "outputs": [
        {
          "output_type": "stream",
          "name": "stdout",
          "text": [
            "Bir sayı giriniz: 10\n",
            "Bir sayı giriniz: 11\n",
            "Bir sayı giriniz: q\n",
            "Döngü sonlandırıldı.. - Girilen sayıların toplamı = 21\n"
          ]
        }
      ]
    },
    {
      "cell_type": "markdown",
      "source": [
        "* Problem 4 - 2.0\n",
        "\n",
        "Her while döndügüsünde kullanıcıdan bir değer alın ve girilen sayıları \"toplamlar\" değişkenine ekle\n",
        "\n",
        "Kullanıcı \"e\" tuşuna bastığında döngü sonlansın ve \"toplamlar\" değişkenini bastır\n",
        "\n",
        "Girilen sayılar tek sayı ise onları \"toplamlar\" değişkenine eklemesin\n"
      ],
      "metadata": {
        "id": "mD86bHujJVeB"
      }
    },
    {
      "cell_type": "code",
      "source": [
        "toplamlar = 0\n",
        "\n",
        "while True:\n",
        "  deger = input(\"Girdi :\")  # Kullanıcıdan girdi aldık\n",
        "\n",
        "  if (deger == \"e\"):        # e girilince çıkış yapılacak\n",
        "    print(\"Döngü sonlandırıldı.. - Girdilerin toplamı: {}\".format(toplamlar)) # çıkış yapıldı ve toplamlar girildi\n",
        "    break   # sistem durduruldu\n",
        "\n",
        "  deger = int(deger)  # girilen girdiyi int değere çevirdik\n",
        "  if (deger % 2 != 0):  # girdi tek sayı olursa\n",
        "    print(\"Yasaklı değer girildi! \") # yazdırılıcak\n",
        "    continue   # girdi atlanıcak ve toplamlara eklenmicek\n",
        "\n",
        "  toplamlar += deger # while döngüsünde bu kısmı atlarsak sonsuz döngüye gireriz"
      ],
      "metadata": {
        "colab": {
          "base_uri": "https://localhost:8080/"
        },
        "id": "lOKT2tfzJUW9",
        "outputId": "d3d9ff46-ddca-4ff2-d108-0de7024df8e6"
      },
      "execution_count": 109,
      "outputs": [
        {
          "output_type": "stream",
          "name": "stdout",
          "text": [
            "Girdi :12\n",
            "Girdi :1\n",
            "Yasaklı değer girildi! \n",
            "Girdi :12\n",
            "Girdi :e\n",
            "Döngü sonlandırıldı.. - Girdilerin toplamı: 24\n"
          ]
        }
      ]
    },
    {
      "cell_type": "markdown",
      "source": [
        "* Problem 5\n",
        "\n",
        "1'den 100'e kadar olan sayılardan sadece 3'e bölünen sayıları ekrana bastırın. Bu işlemi *continue* ile yapmaya çalışın."
      ],
      "metadata": {
        "id": "Wtq7lon_B9rr"
      }
    },
    {
      "cell_type": "code",
      "source": [
        "for i in range(1,101): # 1 - 101 (dahil değil) arasındaki sayıları i değişkenine tek tek geçir ve ekrana yazdır\n",
        "  if (i % 3 != 0):     # Dönen değerler 3 e bölünmüyorsa (3 ün katı değilseler)\n",
        "    continue           # bölünmeyen değerleri atla komutu\n",
        "  print(i)             # ve ekrana yazdır"
      ],
      "metadata": {
        "colab": {
          "base_uri": "https://localhost:8080/"
        },
        "id": "kirmpMMTPhYZ",
        "outputId": "d89e86b6-a501-48bc-d6a3-0f1daaa02a1f"
      },
      "execution_count": 117,
      "outputs": [
        {
          "output_type": "stream",
          "name": "stdout",
          "text": [
            "3\n",
            "6\n",
            "9\n",
            "12\n",
            "15\n",
            "18\n",
            "21\n",
            "24\n",
            "27\n",
            "30\n",
            "33\n",
            "36\n",
            "39\n",
            "42\n",
            "45\n",
            "48\n",
            "51\n",
            "54\n",
            "57\n",
            "60\n",
            "63\n",
            "66\n",
            "69\n",
            "72\n",
            "75\n",
            "78\n",
            "81\n",
            "84\n",
            "87\n",
            "90\n",
            "93\n",
            "96\n",
            "99\n"
          ]
        }
      ]
    },
    {
      "cell_type": "markdown",
      "source": [
        "* Problem 6\n",
        "\n",
        "Buradaki problemin çözümünü derslerimizde özellikle öğrenmedik. Burada mantık yürüterek ve list comprehension kullanarak 1'den 100'e kadar olan sayılardan sadece çift sayıları bir listeye atmayı yapmayı çalışın.\n",
        "\n",
        "Not: Programlamada her detayı öğrenemeyiz. Bunun için bazı yerlerde deneme yanılma yoluyla da öğrendiğimiz şeyler olur. Bu problemde deneme yanılma yoluyla list comprehension'ın koşullu durumlarla kullanımını öğreneceksiniz."
      ],
      "metadata": {
        "id": "179_QAzBRqug"
      }
    },
    {
      "cell_type": "code",
      "source": [
        "# List comprehension komutu ile yapımı\n",
        "\n",
        "liste1 = list()\n",
        "\n",
        "liste1 = [i for i in range(1,101) if (i % 2 == 0)]  # range(1,101) ifadesindeki değerler i' ye atılıyor ve koşul olarak da sadece çift olanları liste1'e at diye söyleniyor.\n",
        "print(liste1)"
      ],
      "metadata": {
        "colab": {
          "base_uri": "https://localhost:8080/"
        },
        "id": "F1yo_g5UQkk4",
        "outputId": "63b3fcaf-5132-447f-fcf8-613bd5ef097d"
      },
      "execution_count": 149,
      "outputs": [
        {
          "output_type": "stream",
          "name": "stdout",
          "text": [
            "[2, 4, 6, 8, 10, 12, 14, 16, 18, 20, 22, 24, 26, 28, 30, 32, 34, 36, 38, 40, 42, 44, 46, 48, 50, 52, 54, 56, 58, 60, 62, 64, 66, 68, 70, 72, 74, 76, 78, 80, 82, 84, 86, 88, 90, 92, 94, 96, 98, 100]\n"
          ]
        }
      ]
    },
    {
      "cell_type": "code",
      "source": [
        "liste1 = list()\n",
        "\n",
        "for i in range(1,101):\n",
        "  if i % 2 == 0:\n",
        "    liste1.append(i)\n",
        "print(liste1)"
      ],
      "metadata": {
        "colab": {
          "base_uri": "https://localhost:8080/"
        },
        "id": "0S_9r2HBWyU_",
        "outputId": "fc42eb2a-aa91-486c-d858-818fb472b5ca"
      },
      "execution_count": 150,
      "outputs": [
        {
          "output_type": "stream",
          "name": "stdout",
          "text": [
            "[2, 4, 6, 8, 10, 12, 14, 16, 18, 20, 22, 24, 26, 28, 30, 32, 34, 36, 38, 40, 42, 44, 46, 48, 50, 52, 54, 56, 58, 60, 62, 64, 66, 68, 70, 72, 74, 76, 78, 80, 82, 84, 86, 88, 90, 92, 94, 96, 98, 100]\n"
          ]
        }
      ]
    }
  ]
}