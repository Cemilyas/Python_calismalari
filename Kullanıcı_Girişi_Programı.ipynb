{
  "nbformat": 4,
  "nbformat_minor": 0,
  "metadata": {
    "colab": {
      "provenance": []
    },
    "kernelspec": {
      "name": "python3",
      "display_name": "Python 3"
    },
    "language_info": {
      "name": "python"
    }
  },
  "cells": [
    {
      "cell_type": "code",
      "execution_count": 1,
      "metadata": {
        "colab": {
          "base_uri": "https://localhost:8080/"
        },
        "id": "tXj6xwMF0KgG",
        "outputId": "296694bf-186e-4d8c-83dd-93a61578e9ae"
      },
      "outputs": [
        {
          "output_type": "stream",
          "name": "stdout",
          "text": [
            "3.10.12 (main, Sep 11 2024, 15:47:36) [GCC 11.4.0]\n"
          ]
        }
      ],
      "source": [
        "import sys\n",
        "print(sys.version)"
      ]
    },
    {
      "cell_type": "code",
      "source": [
        "from google.colab import drive\n",
        "drive.mount('/content/drive')"
      ],
      "metadata": {
        "colab": {
          "base_uri": "https://localhost:8080/"
        },
        "id": "DWAQu0WU0PE3",
        "outputId": "e5be96ff-6e18-42de-b930-e7e9d9ccd018"
      },
      "execution_count": 2,
      "outputs": [
        {
          "output_type": "stream",
          "name": "stdout",
          "text": [
            "Mounted at /content/drive\n"
          ]
        }
      ]
    },
    {
      "cell_type": "code",
      "source": [
        "import os\n",
        "os.chdir('/content/drive/My Drive/KURS_CALISMALARIM')\n",
        "!pwd # bize kodun çıktısını dosya yolu olarak veren kod blogudur.')\n",
        ""
      ],
      "metadata": {
        "colab": {
          "base_uri": "https://localhost:8080/"
        },
        "id": "qkjR8aF70Wi7",
        "outputId": "a4aad658-3114-45e4-eb57-dba5d5374084"
      },
      "execution_count": 3,
      "outputs": [
        {
          "output_type": "stream",
          "name": "stdout",
          "text": [
            "/content/drive/My Drive/KURS_CALISMALARIM\n"
          ]
        }
      ]
    },
    {
      "cell_type": "code",
      "source": [
        "print(\"----------------\"\n",
        "\" Kullanıcı Girişi \"\n",
        "\"---------------------\\n\")\n",
        "\n",
        "kullanıcı = \"cemil\"\n",
        "sifre = \"cemil123\"\n",
        "\n",
        "girilen_kullanıcı = input(\"Kullanıcı İsmi: \")\n",
        "girilen_sifre = input(\"Kullanıcı Şifresi: \")\n",
        "print(\"\\n\")\n",
        "\n",
        "if (kullanıcı == girilen_kullanıcı) and (sifre != girilen_sifre):\n",
        "  print(\"Hatalı Şifre Girişi!\")\n",
        "\n",
        "elif (kullanıcı != girilen_kullanıcı) and (sifre == girilen_sifre):\n",
        "  print(\"Hatalı Kullanıcı Girişi!\")\n",
        "\n",
        "elif (kullanıcı != girilen_kullanıcı) and (sifre != girilen_sifre):\n",
        "  print(\"Hatalı Kullanıcı Girişi ve Hatalı Şifre Girişi!\")\n",
        "\n",
        "else:\n",
        "  print(\"Giriş Başarıyla Sağlanmıştır...\")"
      ],
      "metadata": {
        "colab": {
          "base_uri": "https://localhost:8080/"
        },
        "id": "iUQ4SQL80bvk",
        "outputId": "4067e9c1-2a30-4b51-dae5-910e2f9bf17b"
      },
      "execution_count": 11,
      "outputs": [
        {
          "output_type": "stream",
          "name": "stdout",
          "text": [
            "---------------- Kullanıcı Girişi ---------------------\n",
            "\n",
            "Kullanıcı İsmi: cemiL\n",
            "Kullanıcı Şifresi: cemil123\n",
            "\n",
            "\n",
            "Hatalı Kullanıcı Girişi!\n"
          ]
        }
      ]
    }
  ]
}