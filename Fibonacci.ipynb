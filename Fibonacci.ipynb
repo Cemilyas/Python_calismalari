{
  "nbformat": 4,
  "nbformat_minor": 0,
  "metadata": {
    "colab": {
      "provenance": []
    },
    "kernelspec": {
      "name": "python3",
      "display_name": "Python 3"
    },
    "language_info": {
      "name": "python"
    }
  },
  "cells": [
    {
      "cell_type": "code",
      "execution_count": 1,
      "metadata": {
        "colab": {
          "base_uri": "https://localhost:8080/"
        },
        "id": "wIiIx8TDw-HU",
        "outputId": "d7d2c005-42f0-48eb-cbef-3cf518d5f985"
      },
      "outputs": [
        {
          "output_type": "stream",
          "name": "stdout",
          "text": [
            "3.10.12 (main, Sep 11 2024, 15:47:36) [GCC 11.4.0]\n"
          ]
        }
      ],
      "source": [
        "import sys\n",
        "print(sys.version)"
      ]
    },
    {
      "cell_type": "code",
      "source": [
        "from google.colab import drive\n",
        "drive.mount('/content/drive')"
      ],
      "metadata": {
        "colab": {
          "base_uri": "https://localhost:8080/"
        },
        "id": "UrfKkYiMxEyp",
        "outputId": "819cbfcf-47e6-4f3d-fd71-393739fc36b2"
      },
      "execution_count": 2,
      "outputs": [
        {
          "output_type": "stream",
          "name": "stdout",
          "text": [
            "Mounted at /content/drive\n"
          ]
        }
      ]
    },
    {
      "cell_type": "code",
      "source": [
        "import os\n",
        "os.chdir('/content/drive/My Drive/KURS_CALISMALARIM')\n",
        "!pwd # bize kodun çıktısını dosya yolu olarak veren kod blogudur.')"
      ],
      "metadata": {
        "colab": {
          "base_uri": "https://localhost:8080/"
        },
        "id": "fMxJDZtlxFWG",
        "outputId": "ed0296e5-0ddc-48f4-db56-921180c7b737"
      },
      "execution_count": 3,
      "outputs": [
        {
          "output_type": "stream",
          "name": "stdout",
          "text": [
            "/content/drive/My Drive/KURS_CALISMALARIM\n"
          ]
        }
      ]
    },
    {
      "cell_type": "markdown",
      "source": [
        "1,20 Arasındaki sayıları yazdır\n",
        "\n",
        "İki sayı belirledik ve 1 e eşitledik\n",
        "\n",
        "fibonacci listesi açtık ve 1 e eşitlediğimiz rakamları yazdık\n",
        "\n",
        "for döngüsü açtık\n",
        "\n",
        "a,b = b,a metoduna benzer bi metod kullanıcaz\n",
        "\n",
        "c = i oldu ve i = c + i oldu böylece (1,1+1) sağlandı\n",
        "\n",
        "fibonacci listesine i değeri arttırılarak atıldı"
      ],
      "metadata": {
        "id": "EiDTlJ5Yx_v2"
      }
    },
    {
      "cell_type": "code",
      "source": [
        "c = 1\n",
        "i = 1\n",
        "\n",
        "fibonacci = [c,i]\n",
        "\n",
        "for j in range(1,21):\n",
        "\n",
        "  c,i = i,c+i\n",
        "  print(\"c: {} , i: {}\\n \".format(c,i))  # Daha iyi anlamak için detaylı gösterim\n",
        "\n",
        "  fibonacci.append(i)\n",
        "print(fibonacci)\n",
        ""
      ],
      "metadata": {
        "colab": {
          "base_uri": "https://localhost:8080/"
        },
        "id": "6y19_PAgxJsL",
        "outputId": "a149a3ea-34f6-4aff-cf76-26f898ddd2a9"
      },
      "execution_count": 10,
      "outputs": [
        {
          "output_type": "stream",
          "name": "stdout",
          "text": [
            "c: 1 , i: 2\n",
            " \n",
            "c: 2 , i: 3\n",
            " \n",
            "c: 3 , i: 5\n",
            " \n",
            "c: 5 , i: 8\n",
            " \n",
            "c: 8 , i: 13\n",
            " \n",
            "c: 13 , i: 21\n",
            " \n",
            "c: 21 , i: 34\n",
            " \n",
            "c: 34 , i: 55\n",
            " \n",
            "c: 55 , i: 89\n",
            " \n",
            "c: 89 , i: 144\n",
            " \n",
            "c: 144 , i: 233\n",
            " \n",
            "c: 233 , i: 377\n",
            " \n",
            "c: 377 , i: 610\n",
            " \n",
            "c: 610 , i: 987\n",
            " \n",
            "c: 987 , i: 1597\n",
            " \n",
            "c: 1597 , i: 2584\n",
            " \n",
            "c: 2584 , i: 4181\n",
            " \n",
            "c: 4181 , i: 6765\n",
            " \n",
            "c: 6765 , i: 10946\n",
            " \n",
            "c: 10946 , i: 17711\n",
            " \n",
            "[1, 1, 2, 3, 5, 8, 13, 21, 34, 55, 89, 144, 233, 377, 610, 987, 1597, 2584, 4181, 6765, 10946, 17711]\n"
          ]
        }
      ]
    },
    {
      "cell_type": "code",
      "source": [],
      "metadata": {
        "id": "NBCLe1C6zMuf"
      },
      "execution_count": null,
      "outputs": []
    }
  ]
}