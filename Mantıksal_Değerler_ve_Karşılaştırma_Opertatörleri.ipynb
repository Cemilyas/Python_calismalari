{
  "nbformat": 4,
  "nbformat_minor": 0,
  "metadata": {
    "colab": {
      "provenance": []
    },
    "kernelspec": {
      "name": "python3",
      "display_name": "Python 3"
    },
    "language_info": {
      "name": "python"
    }
  },
  "cells": [
    {
      "cell_type": "code",
      "execution_count": 1,
      "metadata": {
        "colab": {
          "base_uri": "https://localhost:8080/"
        },
        "id": "NtlanePLB-Ri",
        "outputId": "1ea66b2b-4b21-4d37-b637-82a0722ec797"
      },
      "outputs": [
        {
          "output_type": "stream",
          "name": "stdout",
          "text": [
            "3.10.12 (main, Sep 11 2024, 15:47:36) [GCC 11.4.0]\n"
          ]
        }
      ],
      "source": [
        "import sys\n",
        "print(sys.version)"
      ]
    },
    {
      "cell_type": "code",
      "source": [
        "from google.colab import drive\n",
        "drive.mount('/content/drive')"
      ],
      "metadata": {
        "colab": {
          "base_uri": "https://localhost:8080/"
        },
        "id": "M0y8PmVQCVDw",
        "outputId": "7d19dd01-1fda-4b1f-9ee6-b3303f08b494"
      },
      "execution_count": 2,
      "outputs": [
        {
          "output_type": "stream",
          "name": "stdout",
          "text": [
            "Mounted at /content/drive\n"
          ]
        }
      ]
    },
    {
      "cell_type": "code",
      "source": [
        "import os\n",
        "os.chdir('/content/drive/My Drive/KURS_CALISMALARIM')\n",
        "!pwd # bize kodun çıktısını dosya yolu olarak veren kod blogudur.')"
      ],
      "metadata": {
        "colab": {
          "base_uri": "https://localhost:8080/"
        },
        "id": "N42uSz04Cv8c",
        "outputId": "f59edceb-e2fd-4a78-b384-b6f17919ee37"
      },
      "execution_count": 4,
      "outputs": [
        {
          "output_type": "stream",
          "name": "stdout",
          "text": [
            "/content/drive/My Drive/KURS_CALISMALARIM\n"
          ]
        }
      ]
    },
    {
      "cell_type": "markdown",
      "source": [
        "MANTIKSAL DEĞERLER İFADELERİ\n"
      ],
      "metadata": {
        "id": "IyC5iIEIHES8"
      }
    },
    {
      "cell_type": "code",
      "source": [
        "a = True\n",
        "print(type(a))"
      ],
      "metadata": {
        "colab": {
          "base_uri": "https://localhost:8080/"
        },
        "id": "WAg9GJ33HLUN",
        "outputId": "fec523c4-594f-464a-a089-b712c6ff9cdf"
      },
      "execution_count": 9,
      "outputs": [
        {
          "output_type": "stream",
          "name": "stdout",
          "text": [
            "<class 'bool'>\n"
          ]
        }
      ]
    },
    {
      "cell_type": "code",
      "source": [
        "b = True\n",
        "print(type(b))"
      ],
      "metadata": {
        "colab": {
          "base_uri": "https://localhost:8080/"
        },
        "id": "nAp9GVcIHTvl",
        "outputId": "3295061a-5c2d-4c94-b6ed-17c573fe45db"
      },
      "execution_count": 11,
      "outputs": [
        {
          "output_type": "stream",
          "name": "stdout",
          "text": [
            "<class 'bool'>\n"
          ]
        }
      ]
    },
    {
      "cell_type": "code",
      "source": [
        "# boolean ifadesi kullanımı\n",
        "bool(12)"
      ],
      "metadata": {
        "colab": {
          "base_uri": "https://localhost:8080/"
        },
        "id": "nibpUyuVHn4l",
        "outputId": "a43c695a-0d01-42a9-95fe-573c13861198"
      },
      "execution_count": 12,
      "outputs": [
        {
          "output_type": "execute_result",
          "data": {
            "text/plain": [
              "True"
            ]
          },
          "metadata": {},
          "execution_count": 12
        }
      ]
    },
    {
      "cell_type": "code",
      "source": [
        "# boolean ifadesinin içindeki değer sadece 0 olursa false olur\n",
        "bool(0)"
      ],
      "metadata": {
        "colab": {
          "base_uri": "https://localhost:8080/"
        },
        "id": "IXYXl-ryHuRX",
        "outputId": "327d319b-5826-480f-99cc-2597dafcb1cf"
      },
      "execution_count": 13,
      "outputs": [
        {
          "output_type": "execute_result",
          "data": {
            "text/plain": [
              "False"
            ]
          },
          "metadata": {},
          "execution_count": 13
        }
      ]
    },
    {
      "cell_type": "code",
      "source": [
        "# tam sayı olmayan ifadeler de true olarak çıkar\n",
        "bool(12.4)"
      ],
      "metadata": {
        "colab": {
          "base_uri": "https://localhost:8080/"
        },
        "id": "8MIZATgBH1KV",
        "outputId": "16a62cbe-963f-4a75-ac33-492e3ab3f6fe"
      },
      "execution_count": 14,
      "outputs": [
        {
          "output_type": "execute_result",
          "data": {
            "text/plain": [
              "True"
            ]
          },
          "metadata": {},
          "execution_count": 14
        }
      ]
    },
    {
      "cell_type": "code",
      "source": [
        "# eksili ifadeler de true olarak çıkar\n",
        "bool(-1)"
      ],
      "metadata": {
        "colab": {
          "base_uri": "https://localhost:8080/"
        },
        "id": "VoqBiElFH5Gz",
        "outputId": "0d502193-c739-45ea-e2bf-2e99d250d729"
      },
      "execution_count": 15,
      "outputs": [
        {
          "output_type": "execute_result",
          "data": {
            "text/plain": [
              "True"
            ]
          },
          "metadata": {},
          "execution_count": 15
        }
      ]
    },
    {
      "cell_type": "code",
      "source": [
        "# None ifadesi eğer bir değişkenin ifadesini sonradann belirlemek istersek None komutunu kullanabiliriz\n",
        "a = None\n",
        "print(a)"
      ],
      "metadata": {
        "colab": {
          "base_uri": "https://localhost:8080/"
        },
        "id": "iiWmMqPFKfvA",
        "outputId": "28a7ba98-04c3-499f-8780-f1cf6357066b"
      },
      "execution_count": 32,
      "outputs": [
        {
          "output_type": "stream",
          "name": "stdout",
          "text": [
            "None\n"
          ]
        }
      ]
    },
    {
      "cell_type": "markdown",
      "source": [
        "Mantıksal değerlere giriş örnekleri\n"
      ],
      "metadata": {
        "id": "_vGtQ4gQIQTo"
      }
    },
    {
      "cell_type": "code",
      "source": [
        "# eşit eşit değeri\n",
        "\n",
        "1 == 1"
      ],
      "metadata": {
        "colab": {
          "base_uri": "https://localhost:8080/"
        },
        "id": "WDG_vbtFIHcz",
        "outputId": "e6c50325-bb7a-4ac0-e423-05b7d30a4865"
      },
      "execution_count": 29,
      "outputs": [
        {
          "output_type": "execute_result",
          "data": {
            "text/plain": [
              "True"
            ]
          },
          "metadata": {},
          "execution_count": 29
        }
      ]
    },
    {
      "cell_type": "code",
      "source": [
        "# String ifadelerde de eşit komutu sonuç verir\n",
        "\n",
        "\"Cemil\" == \"Cemil\""
      ],
      "metadata": {
        "colab": {
          "base_uri": "https://localhost:8080/"
        },
        "id": "XCjhATeaIUSY",
        "outputId": "e58284c9-35ea-4300-9b01-ae4557ab5390"
      },
      "execution_count": 17,
      "outputs": [
        {
          "output_type": "execute_result",
          "data": {
            "text/plain": [
              "True"
            ]
          },
          "metadata": {},
          "execution_count": 17
        }
      ]
    },
    {
      "cell_type": "code",
      "source": [
        "# listelerde de kullanılır\n",
        "\n",
        "[1,2,3] == [1,2,3]"
      ],
      "metadata": {
        "colab": {
          "base_uri": "https://localhost:8080/"
        },
        "id": "DPu9VSLzJb0l",
        "outputId": "1f7d7710-9cbc-4af5-c477-7fdc018fb9ea"
      },
      "execution_count": 23,
      "outputs": [
        {
          "output_type": "execute_result",
          "data": {
            "text/plain": [
              "True"
            ]
          },
          "metadata": {},
          "execution_count": 23
        }
      ]
    },
    {
      "cell_type": "code",
      "source": [
        "# listede parantez çeşiti değişirse de false yanıtını alırız\n",
        "\n",
        "[2,4,6] == (2,4,6)"
      ],
      "metadata": {
        "colab": {
          "base_uri": "https://localhost:8080/"
        },
        "id": "X-OCDSkmJxgm",
        "outputId": "7c3d3c51-dd3c-4d52-df77-832c03d55ca5"
      },
      "execution_count": 25,
      "outputs": [
        {
          "output_type": "execute_result",
          "data": {
            "text/plain": [
              "False"
            ]
          },
          "metadata": {},
          "execution_count": 25
        }
      ]
    },
    {
      "cell_type": "code",
      "source": [
        "# eşit değil değeri\n",
        "\n",
        "1 != 3"
      ],
      "metadata": {
        "colab": {
          "base_uri": "https://localhost:8080/"
        },
        "id": "NAWMo_GqIYKp",
        "outputId": "b631bb51-2cc3-4a97-c79d-55ae4701f998"
      },
      "execution_count": 18,
      "outputs": [
        {
          "output_type": "execute_result",
          "data": {
            "text/plain": [
              "True"
            ]
          },
          "metadata": {},
          "execution_count": 18
        }
      ]
    },
    {
      "cell_type": "code",
      "source": [
        "# bu ifade birbirine eşit olduğu halde false yanıtı aldı çünkü eşit değil komutu kullanıldı\n",
        "\n",
        "1 != 1"
      ],
      "metadata": {
        "colab": {
          "base_uri": "https://localhost:8080/"
        },
        "id": "L3XFUx-dIqjz",
        "outputId": "371f68c9-24b8-44dd-b40f-f031e406a855"
      },
      "execution_count": 19,
      "outputs": [
        {
          "output_type": "execute_result",
          "data": {
            "text/plain": [
              "False"
            ]
          },
          "metadata": {},
          "execution_count": 19
        }
      ]
    },
    {
      "cell_type": "code",
      "source": [
        "# String ifadelerde eşit değil kullanımı\n",
        "\n",
        "\"İlyas\" != \"Cemil\""
      ],
      "metadata": {
        "colab": {
          "base_uri": "https://localhost:8080/"
        },
        "id": "zlaHN_BzIuXL",
        "outputId": "96e8ce91-df06-4a86-e97c-22aec34840e8"
      },
      "execution_count": 20,
      "outputs": [
        {
          "output_type": "execute_result",
          "data": {
            "text/plain": [
              "True"
            ]
          },
          "metadata": {},
          "execution_count": 20
        }
      ]
    },
    {
      "cell_type": "code",
      "source": [
        "# küçük eşit komutu - büyük eşit komutu\n",
        "\n",
        "1 <= 4"
      ],
      "metadata": {
        "colab": {
          "base_uri": "https://localhost:8080/"
        },
        "id": "zv4EsSpmJVwa",
        "outputId": "1bf4a4f3-4912-44dc-9ef5-161526ffd432"
      },
      "execution_count": 26,
      "outputs": [
        {
          "output_type": "execute_result",
          "data": {
            "text/plain": [
              "True"
            ]
          },
          "metadata": {},
          "execution_count": 26
        }
      ]
    },
    {
      "cell_type": "code",
      "source": [
        "# string ifadelerde küçük eşit veya büyük eşit komutu kullanıldığında alfabetik sıra baz alınır\n",
        "# a harfi z harfinden önce başladığı için pythonda a < z ifadesi true olarak çalışıyor\n",
        "\n",
        "\"Ali\" <= \"Zehra\""
      ],
      "metadata": {
        "colab": {
          "base_uri": "https://localhost:8080/"
        },
        "id": "jFWaWeBLKCPp",
        "outputId": "58844bf3-881b-4358-b2ff-154d5aa55788"
      },
      "execution_count": 31,
      "outputs": [
        {
          "output_type": "execute_result",
          "data": {
            "text/plain": [
              "True"
            ]
          },
          "metadata": {},
          "execution_count": 31
        }
      ]
    },
    {
      "cell_type": "markdown",
      "source": [
        "MANTIKSAL BAĞLAÇLAR"
      ],
      "metadata": {
        "id": "i3Xo9jgXMdcD"
      }
    },
    {
      "cell_type": "code",
      "source": [
        "# and operatörü\n",
        "# karşılaştırılan iki operatörün sonucu birbirine eşit olmalı\n",
        "\n",
        "1 == 1 and \"Cemil\" == 'Cemil'"
      ],
      "metadata": {
        "colab": {
          "base_uri": "https://localhost:8080/"
        },
        "id": "Tp5BjQqAKO4E",
        "outputId": "fc2469b8-c9dc-4d64-bad7-c43a4a2f5194"
      },
      "execution_count": 34,
      "outputs": [
        {
          "output_type": "execute_result",
          "data": {
            "text/plain": [
              "True"
            ]
          },
          "metadata": {},
          "execution_count": 34
        }
      ]
    },
    {
      "cell_type": "code",
      "source": [
        "# or operatörü\n",
        "# karşılaştırılan iki operatörün sonucundan en az birisinin True olması yeterli (genel sonuç true çıkar)\n",
        "\n",
        "2 != 2 or \"İlyas\" == \"İlyas\""
      ],
      "metadata": {
        "colab": {
          "base_uri": "https://localhost:8080/"
        },
        "id": "3YKYSeGdPGdE",
        "outputId": "991e24a4-a883-45c4-c5bd-683bd72f6f85"
      },
      "execution_count": 35,
      "outputs": [
        {
          "output_type": "execute_result",
          "data": {
            "text/plain": [
              "True"
            ]
          },
          "metadata": {},
          "execution_count": 35
        }
      ]
    },
    {
      "cell_type": "code",
      "source": [
        "1 != 1 or \"İlyas\" == \"Cemil\" or 1 < 4"
      ],
      "metadata": {
        "colab": {
          "base_uri": "https://localhost:8080/"
        },
        "id": "xB5Tw45nPdcJ",
        "outputId": "498459bf-ab40-4ae2-ce67-237427574852"
      },
      "execution_count": 36,
      "outputs": [
        {
          "output_type": "execute_result",
          "data": {
            "text/plain": [
              "True"
            ]
          },
          "metadata": {},
          "execution_count": 36
        }
      ]
    },
    {
      "cell_type": "code",
      "source": [
        "# not operatörü\n",
        "# çıkan sonucun tersini verir (True ise = False)\n",
        "\n",
        "not 1 == 1"
      ],
      "metadata": {
        "colab": {
          "base_uri": "https://localhost:8080/"
        },
        "id": "PLcyDdfCPncy",
        "outputId": "9fc322c2-fd42-4003-dbef-f54ec1126a8b"
      },
      "execution_count": 37,
      "outputs": [
        {
          "output_type": "execute_result",
          "data": {
            "text/plain": [
              "False"
            ]
          },
          "metadata": {},
          "execution_count": 37
        }
      ]
    },
    {
      "cell_type": "code",
      "source": [
        "# Örnek\n",
        "\n",
        "#         FALSE               FALSE\n",
        "not (2.14 > 3.49 or ( 2 != 2 and \"Murat\" == \"Murat\"))\n",
        "#        false         false             true"
      ],
      "metadata": {
        "colab": {
          "base_uri": "https://localhost:8080/"
        },
        "id": "M5xLThMsPy6w",
        "outputId": "8f55414f-9221-4496-fa9b-e592c96b3270"
      },
      "execution_count": 38,
      "outputs": [
        {
          "output_type": "execute_result",
          "data": {
            "text/plain": [
              "True"
            ]
          },
          "metadata": {},
          "execution_count": 38
        }
      ]
    }
  ]
}