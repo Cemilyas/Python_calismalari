{
  "nbformat": 4,
  "nbformat_minor": 0,
  "metadata": {
    "colab": {
      "provenance": []
    },
    "kernelspec": {
      "name": "python3",
      "display_name": "Python 3"
    },
    "language_info": {
      "name": "python"
    }
  },
  "cells": [
    {
      "cell_type": "code",
      "execution_count": 1,
      "metadata": {
        "colab": {
          "base_uri": "https://localhost:8080/"
        },
        "id": "dlSWPWFHlSIU",
        "outputId": "ecd4e507-3cfc-4326-87dd-1003bacf8e6d"
      },
      "outputs": [
        {
          "output_type": "stream",
          "name": "stdout",
          "text": [
            "3.10.12 (main, Sep 11 2024, 15:47:36) [GCC 11.4.0]\n"
          ]
        }
      ],
      "source": [
        "import sys\n",
        "print(sys.version)"
      ]
    },
    {
      "cell_type": "code",
      "source": [
        "from google.colab import drive\n",
        "drive.mount('/content/drive')"
      ],
      "metadata": {
        "colab": {
          "base_uri": "https://localhost:8080/"
        },
        "id": "fgM6-vbrlxQq",
        "outputId": "f8680688-ae76-4400-a10b-d5779d873e0d"
      },
      "execution_count": 2,
      "outputs": [
        {
          "output_type": "stream",
          "name": "stdout",
          "text": [
            "Mounted at /content/drive\n"
          ]
        }
      ]
    },
    {
      "cell_type": "code",
      "source": [
        "import os\n",
        "os.chdir('/content/drive/My Drive/KURS_CALISMALARIM')\n",
        "!pwd # bize kodun çıktısını dosya yolu olarak veren kod blogudur.')"
      ],
      "metadata": {
        "colab": {
          "base_uri": "https://localhost:8080/"
        },
        "id": "Zd-hoJ5ql2L5",
        "outputId": "07c6aba9-b6bc-4d56-9bec-369f55354780"
      },
      "execution_count": 3,
      "outputs": [
        {
          "output_type": "stream",
          "name": "stdout",
          "text": [
            "/content/drive/My Drive/KURS_CALISMALARIM\n"
          ]
        }
      ]
    },
    {
      "cell_type": "markdown",
      "source": [
        "Listelerin kolay yoldan ifadeleri"
      ],
      "metadata": {
        "id": "Xvtt4nBooU-h"
      }
    },
    {
      "cell_type": "code",
      "source": [
        "liste = [1,2,3,4]\n",
        "liste1 = list()\n",
        "\n",
        "liste1.append(liste)\n",
        "print(liste1)"
      ],
      "metadata": {
        "colab": {
          "base_uri": "https://localhost:8080/"
        },
        "id": "1-Q0QyGtl8-K",
        "outputId": "09232f09-2c25-42ca-cdd9-45981e1c7160"
      },
      "execution_count": 6,
      "outputs": [
        {
          "output_type": "stream",
          "name": "stdout",
          "text": [
            "[[1, 2, 3, 4]]\n"
          ]
        }
      ]
    },
    {
      "cell_type": "code",
      "source": [
        "# Burada liste1'deki verileri m' de saydırdık ve daha sonra m de okuttuk\n",
        "\n",
        "liste1 = [1,2,3,4,5]\n",
        "liste4 = list()\n",
        "\n",
        "liste4 = [m for m in liste1]\n",
        "print(liste4)"
      ],
      "metadata": {
        "colab": {
          "base_uri": "https://localhost:8080/"
        },
        "id": "temOjifeoT-e",
        "outputId": "e716e8fc-0c8d-48d9-ba10-bdbae23e1f81"
      },
      "execution_count": 23,
      "outputs": [
        {
          "output_type": "stream",
          "name": "stdout",
          "text": [
            "[1, 2, 3, 4, 5]\n"
          ]
        }
      ]
    },
    {
      "cell_type": "code",
      "source": [
        "# Liste içindeki listeleri arka arkaya saydırma metodu\n",
        "\n",
        "liste = [[1,2,3,4],[5,6,7],[8,9]]\n",
        "liste1 = list()\n",
        "\n",
        "for i in liste:\n",
        "   for liste1 in i:\n",
        "        print(liste1)"
      ],
      "metadata": {
        "colab": {
          "base_uri": "https://localhost:8080/"
        },
        "id": "PMe6DRdcmE43",
        "outputId": "4c0d1ca4-804d-41ce-dc59-a7c0db05f103"
      },
      "execution_count": 24,
      "outputs": [
        {
          "output_type": "stream",
          "name": "stdout",
          "text": [
            "1\n",
            "2\n",
            "3\n",
            "4\n",
            "5\n",
            "6\n",
            "7\n",
            "8\n",
            "9\n"
          ]
        }
      ]
    },
    {
      "cell_type": "code",
      "source": [
        "liste = [1,2,3,4,5,6]\n",
        "liste2 = list()\n",
        "\n",
        "liste2 = [2 * j for j in liste] # listedeki verileri j'ye attık daha sonra j'ye giden verileri 2 ile çarptık.\n",
        "print(liste2)                   # liste2 de j'ye eşit olduğundan liste2 de okuttuk"
      ],
      "metadata": {
        "colab": {
          "base_uri": "https://localhost:8080/"
        },
        "id": "8MbzIL7fmyqK",
        "outputId": "7fa69aa2-53a1-42ae-fe12-58a04612d192"
      },
      "execution_count": 25,
      "outputs": [
        {
          "output_type": "stream",
          "name": "stdout",
          "text": [
            "[2, 4, 6, 8, 10, 12]\n"
          ]
        }
      ]
    },
    {
      "cell_type": "code",
      "source": [
        "# liste içindeki demetlerde ayırarak kullanma\n",
        "\n",
        "liste2 = [(2,4),(8,10),(14,18)]\n",
        "liste1 = list()\n",
        "\n",
        "liste1 = [x*y for x,y in liste2]\n",
        "print(liste1)"
      ],
      "metadata": {
        "colab": {
          "base_uri": "https://localhost:8080/"
        },
        "id": "JK0w0LYLpajy",
        "outputId": "b1007e4c-9892-403e-d4b7-84ca54141ce7"
      },
      "execution_count": 30,
      "outputs": [
        {
          "output_type": "stream",
          "name": "stdout",
          "text": [
            "[8, 80, 252]\n"
          ]
        }
      ]
    },
    {
      "cell_type": "code",
      "source": [
        "# string ifadelerde kullanım\n",
        "\n",
        "a = \"Cemil\"\n",
        "\n",
        "liste11 = [3 * c for c in a]\n",
        "print(liste11)"
      ],
      "metadata": {
        "colab": {
          "base_uri": "https://localhost:8080/"
        },
        "id": "vnJw45DAqMeU",
        "outputId": "f5fae080-fec2-4fac-8f0b-865aa3349190"
      },
      "execution_count": 32,
      "outputs": [
        {
          "output_type": "stream",
          "name": "stdout",
          "text": [
            "['CCC', 'eee', 'mmm', 'iii', 'lll']\n"
          ]
        }
      ]
    },
    {
      "cell_type": "markdown",
      "source": [
        "Önemli metod!"
      ],
      "metadata": {
        "id": "fucsl7cgrGNl"
      }
    },
    {
      "cell_type": "code",
      "source": [
        "liste = [[1,2,3],[4,5,6,7,8,9],[7,8,10,11,12,13,14]]\n",
        "\n",
        "for i in liste:\n",
        "  print(i)\n"
      ],
      "metadata": {
        "colab": {
          "base_uri": "https://localhost:8080/"
        },
        "id": "oT1qwPCHq321",
        "outputId": "5f3a8a09-5d98-4b7f-9174-6b2dba2e51a3"
      },
      "execution_count": 34,
      "outputs": [
        {
          "output_type": "stream",
          "name": "stdout",
          "text": [
            "[1, 2, 3]\n",
            "[4, 5, 6, 7, 8, 9]\n",
            "[7, 8, 10, 11, 12, 13, 14]\n"
          ]
        }
      ]
    },
    {
      "cell_type": "code",
      "source": [
        "liste = [[1,2,3],[4,5,6,7,8,9],[7,8,10,11,12,13,14]]\n",
        "\n",
        "for i in liste:\n",
        "  for c in i:\n",
        "      print(c)\n",
        ""
      ],
      "metadata": {
        "colab": {
          "base_uri": "https://localhost:8080/"
        },
        "id": "nlumU8KArh76",
        "outputId": "87327f78-b34e-4518-e033-4ad4d7eb793c"
      },
      "execution_count": 36,
      "outputs": [
        {
          "output_type": "stream",
          "name": "stdout",
          "text": [
            "1\n",
            "2\n",
            "3\n",
            "4\n",
            "5\n",
            "6\n",
            "7\n",
            "8\n",
            "9\n",
            "7\n",
            "8\n",
            "10\n",
            "11\n",
            "12\n",
            "13\n",
            "14\n"
          ]
        }
      ]
    },
    {
      "cell_type": "code",
      "source": [
        "# grup halindeki listeyi grupdan ayırma\n",
        "\n",
        "liste = [[1,2,3],[4,5,6,7,8,9],[7,8,10,11,12,13,14]]\n",
        "liste1 = list()\n",
        "\n",
        "for i in liste:\n",
        "  for c in i:\n",
        "    liste1.append(c)\n",
        "print(liste1)"
      ],
      "metadata": {
        "colab": {
          "base_uri": "https://localhost:8080/"
        },
        "id": "8UCLXuD1r_3L",
        "outputId": "1b290206-021c-4558-d909-0b568d9d4c7e"
      },
      "execution_count": 38,
      "outputs": [
        {
          "output_type": "stream",
          "name": "stdout",
          "text": [
            "[1, 2, 3, 4, 5, 6, 7, 8, 9, 7, 8, 10, 11, 12, 13, 14]\n"
          ]
        }
      ]
    },
    {
      "cell_type": "markdown",
      "source": [
        "ÖNEMLİ"
      ],
      "metadata": {
        "id": "BL4gQ11LtAKM"
      }
    },
    {
      "cell_type": "code",
      "source": [
        "# yukarıdaki kod için kısaltılmış hali\n",
        "\n",
        "liste = [[1,2,3],[4,5,6,7,8,9],[7,8,10,11,12,13,14]]\n",
        "liste1 = list()\n",
        "\n",
        "liste1 = [c for i in liste for c in i]\n",
        "print(liste1)"
      ],
      "metadata": {
        "colab": {
          "base_uri": "https://localhost:8080/"
        },
        "id": "GQe6YUN-sjFi",
        "outputId": "7f83df67-9258-496d-f819-c50d6cc4802b"
      },
      "execution_count": 42,
      "outputs": [
        {
          "output_type": "stream",
          "name": "stdout",
          "text": [
            "[1, 2, 3, 4, 5, 6, 7, 8, 9, 7, 8, 10, 11, 12, 13, 14]\n"
          ]
        }
      ]
    },
    {
      "cell_type": "code",
      "source": [
        "# listede döngü\n",
        "\n",
        "liste = [[1,2,3],[4,5,6,7,8,9],[7,8,10,11,12,13,14]]\n",
        "liste1 = list()\n",
        "\n",
        "for i in liste:\n",
        "  for c in i:\n",
        "    liste1.append(c)\n",
        "    print(liste1)"
      ],
      "metadata": {
        "colab": {
          "base_uri": "https://localhost:8080/"
        },
        "id": "xt2MkRGirwIi",
        "outputId": "551ddc0c-20c1-4b60-c40f-3c63f1aa27c0"
      },
      "execution_count": 37,
      "outputs": [
        {
          "output_type": "stream",
          "name": "stdout",
          "text": [
            "[1]\n",
            "[1, 2]\n",
            "[1, 2, 3]\n",
            "[1, 2, 3, 4]\n",
            "[1, 2, 3, 4, 5]\n",
            "[1, 2, 3, 4, 5, 6]\n",
            "[1, 2, 3, 4, 5, 6, 7]\n",
            "[1, 2, 3, 4, 5, 6, 7, 8]\n",
            "[1, 2, 3, 4, 5, 6, 7, 8, 9]\n",
            "[1, 2, 3, 4, 5, 6, 7, 8, 9, 7]\n",
            "[1, 2, 3, 4, 5, 6, 7, 8, 9, 7, 8]\n",
            "[1, 2, 3, 4, 5, 6, 7, 8, 9, 7, 8, 10]\n",
            "[1, 2, 3, 4, 5, 6, 7, 8, 9, 7, 8, 10, 11]\n",
            "[1, 2, 3, 4, 5, 6, 7, 8, 9, 7, 8, 10, 11, 12]\n",
            "[1, 2, 3, 4, 5, 6, 7, 8, 9, 7, 8, 10, 11, 12, 13]\n",
            "[1, 2, 3, 4, 5, 6, 7, 8, 9, 7, 8, 10, 11, 12, 13, 14]\n"
          ]
        }
      ]
    },
    {
      "cell_type": "code",
      "source": [],
      "metadata": {
        "id": "72NayO6AsNiP"
      },
      "execution_count": null,
      "outputs": []
    }
  ]
}