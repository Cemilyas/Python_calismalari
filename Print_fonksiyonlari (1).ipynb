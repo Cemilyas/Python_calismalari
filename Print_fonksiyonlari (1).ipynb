{
  "nbformat": 4,
  "nbformat_minor": 0,
  "metadata": {
    "colab": {
      "provenance": []
    },
    "kernelspec": {
      "name": "python3",
      "display_name": "Python 3"
    },
    "language_info": {
      "name": "python"
    }
  },
  "cells": [
    {
      "cell_type": "code",
      "source": [
        "import sys\n",
        "print(sys.version)"
      ],
      "metadata": {
        "colab": {
          "base_uri": "https://localhost:8080/"
        },
        "id": "O5kzMvfeDMos",
        "outputId": "9047537a-5df9-407d-f04f-8405f0550cd8"
      },
      "execution_count": null,
      "outputs": [
        {
          "output_type": "stream",
          "name": "stdout",
          "text": [
            "3.10.12 (main, Sep 11 2024, 15:47:36) [GCC 11.4.0]\n"
          ]
        }
      ]
    },
    {
      "cell_type": "code",
      "source": [
        "from google.colab import drive\n",
        "drive.mount('/content/drive')"
      ],
      "metadata": {
        "colab": {
          "base_uri": "https://localhost:8080/"
        },
        "id": "nCpUY8WWDjQC",
        "outputId": "f3d1f23e-0223-4e01-a24f-aeffeffa2817"
      },
      "execution_count": null,
      "outputs": [
        {
          "output_type": "stream",
          "name": "stdout",
          "text": [
            "Mounted at /content/drive\n"
          ]
        }
      ]
    },
    {
      "cell_type": "code",
      "source": [
        "import os\n",
        "os.chdir('/content/drive/My Drive/KURS_CALISMALARIM')\n",
        "\n",
        "!pwd # bize kodun çıktısını dosya yolu olarak veren kod blogudur."
      ],
      "metadata": {
        "colab": {
          "base_uri": "https://localhost:8080/"
        },
        "id": "FoCQ8CTVEBTU",
        "outputId": "669a69e9-41be-4796-a9d0-2d6f33375fcd"
      },
      "execution_count": null,
      "outputs": [
        {
          "output_type": "stream",
          "name": "stdout",
          "text": [
            "/content/drive/My Drive/KURS_CALISMALARIM\n"
          ]
        }
      ]
    },
    {
      "cell_type": "code",
      "source": [
        "# Print komutu çıktıyı göstermeye yarayan komuttur.\n",
        "\n",
        "print(\"Cemil\")"
      ],
      "metadata": {
        "colab": {
          "base_uri": "https://localhost:8080/"
        },
        "id": "YjuDZ-HuEkNk",
        "outputId": "50eb4394-6580-40c9-d008-57bc2ca531cc"
      },
      "execution_count": null,
      "outputs": [
        {
          "output_type": "stream",
          "name": "stdout",
          "text": [
            "Cemil\n"
          ]
        }
      ]
    },
    {
      "cell_type": "code",
      "source": [
        "# \\n fonksiyonu c++ 'daki ln komutu gibi sonraki yazılan komutu aşağı satıra yazar.\n",
        "\n",
        "print(\"Cemil\\nİlyas\\nGelişim\\nÜniversitesi\\nöğrencisidir\")"
      ],
      "metadata": {
        "colab": {
          "base_uri": "https://localhost:8080/"
        },
        "id": "Cz1h-QBzQOQj",
        "outputId": "76e6b1a8-b5fc-4c9b-9737-81e11f70b344"
      },
      "execution_count": null,
      "outputs": [
        {
          "output_type": "stream",
          "name": "stdout",
          "text": [
            "Cemil\n",
            "İlyas\n",
            "Gelişim\n",
            "Üniversitesi\n",
            "öğrencisidir\n"
          ]
        }
      ]
    },
    {
      "cell_type": "code",
      "source": [
        "# \\t komutu ise yazılan ifadeler arası boşluk bıraktıran komuttur (4 adet boşluk)\n",
        "\n",
        "print(\"Cemil\\tİlyas\\tGelişim\\tÜniversitesi\\tÖğrencisidir\")"
      ],
      "metadata": {
        "colab": {
          "base_uri": "https://localhost:8080/"
        },
        "id": "HfFz44UEQwpm",
        "outputId": "6132f10b-9d9a-4777-f1cd-79643e9bd3bb"
      },
      "execution_count": null,
      "outputs": [
        {
          "output_type": "stream",
          "name": "stdout",
          "text": [
            "Cemil\tİlyas\tGelişim\tÜniversitesi\tÖğrencisidir\n"
          ]
        }
      ]
    },
    {
      "cell_type": "code",
      "source": [
        "# sep komutu (boşluk olan kısımlara gelicek ifadenin seçimini boşluk olan kısıma yerleştirir)\n",
        "\n",
        "print(\"Cemil\",\"İlyas\",\"İstanbulda\",\"yaşamaktadır\", sep = \"\\n\")"
      ],
      "metadata": {
        "colab": {
          "base_uri": "https://localhost:8080/"
        },
        "id": "jcRSRc9iZG-3",
        "outputId": "7fd05541-2bb5-48c9-fac4-023a1965fd44"
      },
      "execution_count": null,
      "outputs": [
        {
          "output_type": "stream",
          "name": "stdout",
          "text": [
            "Cemil\n",
            "İlyas\n",
            "İstanbulda\n",
            "yaşamaktadır\n"
          ]
        }
      ]
    },
    {
      "cell_type": "code",
      "source": [
        "#  * komutu (boşluk koymaya yarar)\n",
        "\n",
        "print(*\"3579\")"
      ],
      "metadata": {
        "colab": {
          "base_uri": "https://localhost:8080/"
        },
        "id": "4xmynRqVZbOa",
        "outputId": "1c42d206-8599-4a9b-96af-348164ed5b9d"
      },
      "execution_count": null,
      "outputs": [
        {
          "output_type": "stream",
          "name": "stdout",
          "text": [
            "3 5 7 9\n"
          ]
        }
      ]
    },
    {
      "cell_type": "code",
      "source": [
        "#  (sep) ve  (*) komutu kullanımı\n",
        "\n",
        "print(*\"TBMM\", sep = \".\")"
      ],
      "metadata": {
        "colab": {
          "base_uri": "https://localhost:8080/"
        },
        "id": "sTrivqPWYoWm",
        "outputId": "15073d8a-2401-4ff1-8834-bb2abcf10b66"
      },
      "execution_count": null,
      "outputs": [
        {
          "output_type": "stream",
          "name": "stdout",
          "text": [
            "T.B.M.M\n"
          ]
        }
      ]
    },
    {
      "cell_type": "code",
      "source": [
        "print(*\"PolisDoktorMühendis\", sep = \",\")"
      ],
      "metadata": {
        "colab": {
          "base_uri": "https://localhost:8080/"
        },
        "id": "zZicZOunZ7vb",
        "outputId": "c537ac69-7d58-4e82-e39c-9fef799e191a"
      },
      "execution_count": null,
      "outputs": [
        {
          "output_type": "stream",
          "name": "stdout",
          "text": [
            "P,o,l,i,s,D,o,k,t,o,r,M,ü,h,e,n,d,i,s\n"
          ]
        }
      ]
    },
    {
      "cell_type": "code",
      "source": [
        "print(*\"Polis\",\"Doktor\",\"Mühendis\", sep = \",\")"
      ],
      "metadata": {
        "colab": {
          "base_uri": "https://localhost:8080/"
        },
        "id": "zGQX1Pb5aZly",
        "outputId": "b63b7e0c-19d9-40c0-f448-37d4ec54df9e"
      },
      "execution_count": null,
      "outputs": [
        {
          "output_type": "stream",
          "name": "stdout",
          "text": [
            "P,o,l,i,s,Doktor,Mühendis\n"
          ]
        }
      ]
    },
    {
      "cell_type": "code",
      "source": [
        "# .format komutu ise string ifadenin içine (int,float vb.) gibi komutları atayabilen komuttur.\n",
        "\n",
        "print(\"{} {} {}\" .format(\"Cemil\",\"İlyas\",240118233))"
      ],
      "metadata": {
        "colab": {
          "base_uri": "https://localhost:8080/"
        },
        "id": "9XGfbSA6RBm9",
        "outputId": "099b3a3a-eaa8-48df-a983-68c2a0ca4d7e"
      },
      "execution_count": null,
      "outputs": [
        {
          "output_type": "stream",
          "name": "stdout",
          "text": [
            "Cemil İlyas 240118233\n"
          ]
        }
      ]
    },
    {
      "cell_type": "code",
      "source": [
        "# Aynı komutun içinde parantezler içine başlangıc sırası verilerek eşleştirme yapabiliriz.\n",
        "\n",
        "print(\"{2} {0} {1}\".format(\"İlyas\",240118233,\"Cemil\"))"
      ],
      "metadata": {
        "colab": {
          "base_uri": "https://localhost:8080/"
        },
        "id": "bazl8WmZR-WN",
        "outputId": "35d21efd-5d96-458a-b868-579446e27097"
      },
      "execution_count": null,
      "outputs": [
        {
          "output_type": "stream",
          "name": "stdout",
          "text": [
            "Cemil İlyas 240118233\n"
          ]
        }
      ]
    },
    {
      "cell_type": "code",
      "source": [
        "# Print Komutu ile bir değişkene atılan verinin okunması\n",
        "import pandas as pd\n",
        "\n",
        "data = {\"Çalışanlar\": [\"Cemil\",\"Furkan\",\"Halil\"], \"Mevki\": [\"Müdür\",\"Yardımcı\",\"Çalışan\"], \"Maaş\":[24.000,20.000,15.000]}\n",
        "data = pd.DataFrame(data)\n",
        "print(data)"
      ],
      "metadata": {
        "colab": {
          "base_uri": "https://localhost:8080/"
        },
        "id": "V9Ld9Ma6S8mg",
        "outputId": "edf24cf2-6116-46d7-9a81-8e07d7b7208e"
      },
      "execution_count": null,
      "outputs": [
        {
          "output_type": "stream",
          "name": "stdout",
          "text": [
            "  Çalışanlar     Mevki  Maaş\n",
            "0      Cemil     Müdür  24.0\n",
            "1     Furkan  Yardımcı  20.0\n",
            "2      Halil   Çalışan  15.0\n"
          ]
        }
      ]
    },
    {
      "cell_type": "code",
      "source": [
        "data = data.set_index(\"Çalışanlar\")\n",
        "print(data)"
      ],
      "metadata": {
        "colab": {
          "base_uri": "https://localhost:8080/"
        },
        "id": "XC3GB_GPVBsG",
        "outputId": "f632748d-f6ab-44ab-f37f-5fedc92126bc"
      },
      "execution_count": null,
      "outputs": [
        {
          "output_type": "stream",
          "name": "stdout",
          "text": [
            "               Mevki  Maaş\n",
            "Çalışanlar                \n",
            "Cemil          Müdür  24.0\n",
            "Furkan      Yardımcı  20.0\n",
            "Halil        Çalışan  15.0\n"
          ]
        }
      ]
    },
    {
      "cell_type": "code",
      "source": [
        "data.head(1)"
      ],
      "metadata": {
        "colab": {
          "base_uri": "https://localhost:8080/",
          "height": 112
        },
        "id": "QLQOcjhiVIt7",
        "outputId": "f7468b8e-b380-4a5c-f81e-8803225b79cb"
      },
      "execution_count": null,
      "outputs": [
        {
          "output_type": "execute_result",
          "data": {
            "text/plain": [
              "            Mevki  Maaş\n",
              "Çalışanlar             \n",
              "Cemil       Müdür  24.0"
            ],
            "text/html": [
              "\n",
              "  <div id=\"df-4404ef15-ba72-48c2-9dac-3b6aefef6df1\" class=\"colab-df-container\">\n",
              "    <div>\n",
              "<style scoped>\n",
              "    .dataframe tbody tr th:only-of-type {\n",
              "        vertical-align: middle;\n",
              "    }\n",
              "\n",
              "    .dataframe tbody tr th {\n",
              "        vertical-align: top;\n",
              "    }\n",
              "\n",
              "    .dataframe thead th {\n",
              "        text-align: right;\n",
              "    }\n",
              "</style>\n",
              "<table border=\"1\" class=\"dataframe\">\n",
              "  <thead>\n",
              "    <tr style=\"text-align: right;\">\n",
              "      <th></th>\n",
              "      <th>Mevki</th>\n",
              "      <th>Maaş</th>\n",
              "    </tr>\n",
              "    <tr>\n",
              "      <th>Çalışanlar</th>\n",
              "      <th></th>\n",
              "      <th></th>\n",
              "    </tr>\n",
              "  </thead>\n",
              "  <tbody>\n",
              "    <tr>\n",
              "      <th>Cemil</th>\n",
              "      <td>Müdür</td>\n",
              "      <td>24.0</td>\n",
              "    </tr>\n",
              "  </tbody>\n",
              "</table>\n",
              "</div>\n",
              "    <div class=\"colab-df-buttons\">\n",
              "\n",
              "  <div class=\"colab-df-container\">\n",
              "    <button class=\"colab-df-convert\" onclick=\"convertToInteractive('df-4404ef15-ba72-48c2-9dac-3b6aefef6df1')\"\n",
              "            title=\"Convert this dataframe to an interactive table.\"\n",
              "            style=\"display:none;\">\n",
              "\n",
              "  <svg xmlns=\"http://www.w3.org/2000/svg\" height=\"24px\" viewBox=\"0 -960 960 960\">\n",
              "    <path d=\"M120-120v-720h720v720H120Zm60-500h600v-160H180v160Zm220 220h160v-160H400v160Zm0 220h160v-160H400v160ZM180-400h160v-160H180v160Zm440 0h160v-160H620v160ZM180-180h160v-160H180v160Zm440 0h160v-160H620v160Z\"/>\n",
              "  </svg>\n",
              "    </button>\n",
              "\n",
              "  <style>\n",
              "    .colab-df-container {\n",
              "      display:flex;\n",
              "      gap: 12px;\n",
              "    }\n",
              "\n",
              "    .colab-df-convert {\n",
              "      background-color: #E8F0FE;\n",
              "      border: none;\n",
              "      border-radius: 50%;\n",
              "      cursor: pointer;\n",
              "      display: none;\n",
              "      fill: #1967D2;\n",
              "      height: 32px;\n",
              "      padding: 0 0 0 0;\n",
              "      width: 32px;\n",
              "    }\n",
              "\n",
              "    .colab-df-convert:hover {\n",
              "      background-color: #E2EBFA;\n",
              "      box-shadow: 0px 1px 2px rgba(60, 64, 67, 0.3), 0px 1px 3px 1px rgba(60, 64, 67, 0.15);\n",
              "      fill: #174EA6;\n",
              "    }\n",
              "\n",
              "    .colab-df-buttons div {\n",
              "      margin-bottom: 4px;\n",
              "    }\n",
              "\n",
              "    [theme=dark] .colab-df-convert {\n",
              "      background-color: #3B4455;\n",
              "      fill: #D2E3FC;\n",
              "    }\n",
              "\n",
              "    [theme=dark] .colab-df-convert:hover {\n",
              "      background-color: #434B5C;\n",
              "      box-shadow: 0px 1px 3px 1px rgba(0, 0, 0, 0.15);\n",
              "      filter: drop-shadow(0px 1px 2px rgba(0, 0, 0, 0.3));\n",
              "      fill: #FFFFFF;\n",
              "    }\n",
              "  </style>\n",
              "\n",
              "    <script>\n",
              "      const buttonEl =\n",
              "        document.querySelector('#df-4404ef15-ba72-48c2-9dac-3b6aefef6df1 button.colab-df-convert');\n",
              "      buttonEl.style.display =\n",
              "        google.colab.kernel.accessAllowed ? 'block' : 'none';\n",
              "\n",
              "      async function convertToInteractive(key) {\n",
              "        const element = document.querySelector('#df-4404ef15-ba72-48c2-9dac-3b6aefef6df1');\n",
              "        const dataTable =\n",
              "          await google.colab.kernel.invokeFunction('convertToInteractive',\n",
              "                                                    [key], {});\n",
              "        if (!dataTable) return;\n",
              "\n",
              "        const docLinkHtml = 'Like what you see? Visit the ' +\n",
              "          '<a target=\"_blank\" href=https://colab.research.google.com/notebooks/data_table.ipynb>data table notebook</a>'\n",
              "          + ' to learn more about interactive tables.';\n",
              "        element.innerHTML = '';\n",
              "        dataTable['output_type'] = 'display_data';\n",
              "        await google.colab.output.renderOutput(dataTable, element);\n",
              "        const docLink = document.createElement('div');\n",
              "        docLink.innerHTML = docLinkHtml;\n",
              "        element.appendChild(docLink);\n",
              "      }\n",
              "    </script>\n",
              "  </div>\n",
              "\n",
              "\n",
              "    </div>\n",
              "  </div>\n"
            ],
            "application/vnd.google.colaboratory.intrinsic+json": {
              "type": "dataframe",
              "variable_name": "data",
              "summary": "{\n  \"name\": \"data\",\n  \"rows\": 3,\n  \"fields\": [\n    {\n      \"column\": \"\\u00c7al\\u0131\\u015fanlar\",\n      \"properties\": {\n        \"dtype\": \"string\",\n        \"num_unique_values\": 3,\n        \"samples\": [\n          \"Cemil\",\n          \"Furkan\",\n          \"Halil\"\n        ],\n        \"semantic_type\": \"\",\n        \"description\": \"\"\n      }\n    },\n    {\n      \"column\": \"Mevki\",\n      \"properties\": {\n        \"dtype\": \"string\",\n        \"num_unique_values\": 3,\n        \"samples\": [\n          \"M\\u00fcd\\u00fcr\",\n          \"Yard\\u0131mc\\u0131\",\n          \"\\u00c7al\\u0131\\u015fan\"\n        ],\n        \"semantic_type\": \"\",\n        \"description\": \"\"\n      }\n    },\n    {\n      \"column\": \"Maa\\u015f\",\n      \"properties\": {\n        \"dtype\": \"number\",\n        \"std\": 4.509249752822894,\n        \"min\": 15.0,\n        \"max\": 24.0,\n        \"num_unique_values\": 3,\n        \"samples\": [\n          24.0,\n          20.0,\n          15.0\n        ],\n        \"semantic_type\": \"\",\n        \"description\": \"\"\n      }\n    }\n  ]\n}"
            }
          },
          "metadata": {},
          "execution_count": 22
        }
      ]
    },
    {
      "cell_type": "code",
      "source": [],
      "metadata": {
        "id": "c4Hk_WQ2VWX1"
      },
      "execution_count": null,
      "outputs": []
    }
  ]
}