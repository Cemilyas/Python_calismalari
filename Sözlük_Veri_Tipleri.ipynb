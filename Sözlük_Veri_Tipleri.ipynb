{
  "nbformat": 4,
  "nbformat_minor": 0,
  "metadata": {
    "colab": {
      "provenance": []
    },
    "kernelspec": {
      "name": "python3",
      "display_name": "Python 3"
    },
    "language_info": {
      "name": "python"
    }
  },
  "cells": [
    {
      "cell_type": "code",
      "execution_count": 1,
      "metadata": {
        "colab": {
          "base_uri": "https://localhost:8080/"
        },
        "id": "iiAnwIacmtKZ",
        "outputId": "ade54427-e8ba-4151-c4da-85e7cff7e6c7"
      },
      "outputs": [
        {
          "output_type": "stream",
          "name": "stdout",
          "text": [
            "3.10.12 (main, Sep 11 2024, 15:47:36) [GCC 11.4.0]\n"
          ]
        }
      ],
      "source": [
        "import sys\n",
        "print(sys.version)\n"
      ]
    },
    {
      "cell_type": "code",
      "source": [
        "from google.colab import drive\n",
        "drive.mount ('/content/drive')"
      ],
      "metadata": {
        "colab": {
          "base_uri": "https://localhost:8080/"
        },
        "id": "9juL5PjonEfE",
        "outputId": "d716d5d4-0d23-49a8-a10b-b6bb4c81248e"
      },
      "execution_count": 2,
      "outputs": [
        {
          "output_type": "stream",
          "name": "stdout",
          "text": [
            "Mounted at /content/drive\n"
          ]
        }
      ]
    },
    {
      "cell_type": "code",
      "source": [
        "import os\n",
        "os.chdir('/content/drive/My Drive/KURS_CALISMALARIM')\n",
        "\n",
        "!pwd # bize kodun çıktısını dosya yolu olarak veren kod blogudur."
      ],
      "metadata": {
        "colab": {
          "base_uri": "https://localhost:8080/"
        },
        "id": "aL6G6AbqnTmV",
        "outputId": "b98f423a-f938-4958-deca-27baefed1d12"
      },
      "execution_count": 3,
      "outputs": [
        {
          "output_type": "stream",
          "name": "stdout",
          "text": [
            "/content/drive/My Drive/KURS_CALISMALARIM\n"
          ]
        }
      ]
    },
    {
      "cell_type": "code",
      "source": [
        "sözlük = { \"üç\":3, \"dört\":4, \"beş\":5}\n",
        "print(sözlük)\n"
      ],
      "metadata": {
        "colab": {
          "base_uri": "https://localhost:8080/"
        },
        "id": "MZSTUMAUncQg",
        "outputId": "579343b0-7bd0-45c8-deaa-eb032aadf5a4"
      },
      "execution_count": 4,
      "outputs": [
        {
          "output_type": "stream",
          "name": "stdout",
          "text": [
            "{'üç': 3, 'dört': 4, 'beş': 5}\n"
          ]
        }
      ]
    },
    {
      "cell_type": "code",
      "source": [
        "# Yaptığımız sözlüğün şeklini bulma\n",
        "\n",
        "type(sözlük)"
      ],
      "metadata": {
        "colab": {
          "base_uri": "https://localhost:8080/"
        },
        "id": "7GaCpu0poWs4",
        "outputId": "870a429e-9a10-4313-9a79-779e0d849c72"
      },
      "execution_count": 9,
      "outputs": [
        {
          "output_type": "execute_result",
          "data": {
            "text/plain": [
              "dict"
            ]
          },
          "metadata": {},
          "execution_count": 9
        }
      ]
    },
    {
      "cell_type": "code",
      "source": [
        "#  \"dict()\" komutu sözlüğü boş hale getirmeye yarıyor\n",
        "\n",
        "sözlük = dict()"
      ],
      "metadata": {
        "id": "E8VygwULovFQ"
      },
      "execution_count": 11,
      "outputs": []
    },
    {
      "cell_type": "code",
      "source": [
        "# İlk başta içine birtakım sayılar tanımladığımız sözlük \"dict()\" komutu ile boş hale geldi\n",
        "\n",
        "print(sözlük)"
      ],
      "metadata": {
        "colab": {
          "base_uri": "https://localhost:8080/"
        },
        "id": "YTlF9Hcqolxj",
        "outputId": "1ac66b44-5bd7-49ef-f0a8-549240903227"
      },
      "execution_count": 14,
      "outputs": [
        {
          "output_type": "stream",
          "name": "stdout",
          "text": [
            "{}\n"
          ]
        }
      ]
    },
    {
      "cell_type": "code",
      "source": [
        "# Boş sözlük oluşturma\n",
        "\n",
        "sözlük1 = {}\n",
        "sözlük1"
      ],
      "metadata": {
        "colab": {
          "base_uri": "https://localhost:8080/"
        },
        "id": "cW_ODqlfn85X",
        "outputId": "1355b75a-b804-4959-b5bc-43ccf08e0c6d"
      },
      "execution_count": 5,
      "outputs": [
        {
          "output_type": "execute_result",
          "data": {
            "text/plain": [
              "{}"
            ]
          },
          "metadata": {},
          "execution_count": 5
        }
      ]
    },
    {
      "cell_type": "code",
      "source": [
        "# Sözlük içindeki anahtar kelime kullanarak karşılığında tanımlanan sonucu bulma\n",
        "\n",
        "sözlük3 = {\"otuz\": 30, \"kırk\": 40, \"elli\": 50}\n",
        "sözlük3[\"otuz\"]\n"
      ],
      "metadata": {
        "colab": {
          "base_uri": "https://localhost:8080/"
        },
        "id": "WdpWeROkpimp",
        "outputId": "96a6b135-e859-4558-b9d1-acb2fe206108"
      },
      "execution_count": 16,
      "outputs": [
        {
          "output_type": "execute_result",
          "data": {
            "text/plain": [
              "30"
            ]
          },
          "metadata": {},
          "execution_count": 16
        }
      ]
    },
    {
      "cell_type": "code",
      "source": [
        "# Sözlük içinde listeli halde bulunan anahtar kelimeleri bulma ve o listelerin de içindeki karşılıklarını bulma\n",
        "\n",
        "sözlük4 = {\"araba\": [\"bmw\",\"mercedes\",\"tesla\"], \"fiyatları\": [\"2 milyon\",\"1.5 milyon\",\"5 milyon\"]}\n",
        "sözlük4[\"araba\"]\n",
        ""
      ],
      "metadata": {
        "colab": {
          "base_uri": "https://localhost:8080/"
        },
        "id": "e4Fo-bDqqPI2",
        "outputId": "1fc9e97b-d967-4b26-8b5b-84c2985932ce"
      },
      "execution_count": 23,
      "outputs": [
        {
          "output_type": "execute_result",
          "data": {
            "text/plain": [
              "['bmw', 'mercedes', 'tesla']"
            ]
          },
          "metadata": {},
          "execution_count": 23
        }
      ]
    },
    {
      "cell_type": "code",
      "source": [
        "sözlük4[\"araba\"][2]"
      ],
      "metadata": {
        "colab": {
          "base_uri": "https://localhost:8080/",
          "height": 35
        },
        "id": "f7he1Mm1suzj",
        "outputId": "75096100-63d5-403f-eeb1-d34645033923"
      },
      "execution_count": 25,
      "outputs": [
        {
          "output_type": "execute_result",
          "data": {
            "text/plain": [
              "'tesla'"
            ],
            "application/vnd.google.colaboratory.intrinsic+json": {
              "type": "string"
            }
          },
          "metadata": {},
          "execution_count": 25
        }
      ]
    },
    {
      "cell_type": "code",
      "source": [
        "sözlük4[\"fiyatları\"][2]"
      ],
      "metadata": {
        "colab": {
          "base_uri": "https://localhost:8080/",
          "height": 35
        },
        "id": "oY-RsBqmuspm",
        "outputId": "cc091937-3df0-45cc-de68-3c31bbd1112c"
      },
      "execution_count": 26,
      "outputs": [
        {
          "output_type": "execute_result",
          "data": {
            "text/plain": [
              "'5 milyon'"
            ],
            "application/vnd.google.colaboratory.intrinsic+json": {
              "type": "string"
            }
          },
          "metadata": {},
          "execution_count": 26
        }
      ]
    },
    {
      "cell_type": "code",
      "source": [
        "# Örnek alıştırma\n",
        "\n",
        "sözlük5 = { \"liste1\": [1,2,3,4], \"liste2\": [[2,4],[6,8],[10,12]], \"liste3\": {} }\n",
        "sözlük5"
      ],
      "metadata": {
        "colab": {
          "base_uri": "https://localhost:8080/"
        },
        "id": "Pom0EcbWuz6c",
        "outputId": "7e12b864-3027-4fd7-d24d-9005cc9385b5"
      },
      "execution_count": 27,
      "outputs": [
        {
          "output_type": "execute_result",
          "data": {
            "text/plain": [
              "{'liste1': [1, 2, 3, 4], 'liste2': [[2, 4], [6, 8], [10, 12]], 'liste3': {}}"
            ]
          },
          "metadata": {},
          "execution_count": 27
        }
      ]
    },
    {
      "cell_type": "code",
      "source": [
        "sözlük5[\"liste2\"]\n"
      ],
      "metadata": {
        "colab": {
          "base_uri": "https://localhost:8080/"
        },
        "id": "NpKxZgkrvhhQ",
        "outputId": "2f3f9e45-b370-4d87-c75c-098883c771e0"
      },
      "execution_count": 29,
      "outputs": [
        {
          "output_type": "execute_result",
          "data": {
            "text/plain": [
              "[[2, 4], [6, 8], [10, 12]]"
            ]
          },
          "metadata": {},
          "execution_count": 29
        }
      ]
    },
    {
      "cell_type": "code",
      "source": [
        "sözlük5[\"liste2\"][2]"
      ],
      "metadata": {
        "colab": {
          "base_uri": "https://localhost:8080/"
        },
        "id": "rrjgometvlbk",
        "outputId": "c725d675-a133-40e0-8fac-5a740aac16f4"
      },
      "execution_count": 30,
      "outputs": [
        {
          "output_type": "execute_result",
          "data": {
            "text/plain": [
              "[10, 12]"
            ]
          },
          "metadata": {},
          "execution_count": 30
        }
      ]
    },
    {
      "cell_type": "code",
      "source": [
        "sözlük5[\"liste2\"][2][1]"
      ],
      "metadata": {
        "colab": {
          "base_uri": "https://localhost:8080/"
        },
        "id": "QmhEtXktvobZ",
        "outputId": "28c8680f-3e60-49ae-ede6-c88f458c109a"
      },
      "execution_count": 31,
      "outputs": [
        {
          "output_type": "execute_result",
          "data": {
            "text/plain": [
              "12"
            ]
          },
          "metadata": {},
          "execution_count": 31
        }
      ]
    },
    {
      "cell_type": "code",
      "source": [
        "sözlük5[\"liste3\"]"
      ],
      "metadata": {
        "colab": {
          "base_uri": "https://localhost:8080/"
        },
        "id": "l7SCNTrzvtTw",
        "outputId": "e4cff62e-b493-4638-a8e4-c75d65121175"
      },
      "execution_count": 32,
      "outputs": [
        {
          "output_type": "execute_result",
          "data": {
            "text/plain": [
              "{}"
            ]
          },
          "metadata": {},
          "execution_count": 32
        }
      ]
    },
    {
      "cell_type": "code",
      "source": [
        "# Örnek alıştırma 2\n",
        "\n",
        "sözlük6 = {\"telefon1\": {\"iphone14\": 40.000, \"iphone15\": 50.000, \"iphone16\": 78.000}, \"telefon2\": {\"samsung classic\": [30.000,35.000], \"samsung galaxy\": 40.000, \"samsung galaxy2.0\": 65.000}   }\n",
        "sözlük6"
      ],
      "metadata": {
        "colab": {
          "base_uri": "https://localhost:8080/"
        },
        "id": "RnLtegBd0pGk",
        "outputId": "4e527a0e-6c05-4bc1-b383-f78bc2d732ff"
      },
      "execution_count": 58,
      "outputs": [
        {
          "output_type": "execute_result",
          "data": {
            "text/plain": [
              "{'telefon1': {'iphone14': 40.0, 'iphone15': 50.0, 'iphone16': 78.0},\n",
              " 'telefon2': {'samsung classic': [30.0, 35.0],\n",
              "  'samsung galaxy': 40.0,\n",
              "  'samsung galaxy2.0': 65.0}}"
            ]
          },
          "metadata": {},
          "execution_count": 58
        }
      ]
    },
    {
      "cell_type": "code",
      "source": [
        "sözlük6[\"telefon1\"]"
      ],
      "metadata": {
        "colab": {
          "base_uri": "https://localhost:8080/"
        },
        "id": "b1tCTiOs0w5T",
        "outputId": "a10b5d99-f4dc-4227-abb9-df0adf9fb7a5"
      },
      "execution_count": 59,
      "outputs": [
        {
          "output_type": "execute_result",
          "data": {
            "text/plain": [
              "{'iphone14': 40.0, 'iphone15': 50.0, 'iphone16': 78.0}"
            ]
          },
          "metadata": {},
          "execution_count": 59
        }
      ]
    },
    {
      "cell_type": "code",
      "source": [
        "sözlük6[\"telefon1\"][\"iphone14\"]"
      ],
      "metadata": {
        "colab": {
          "base_uri": "https://localhost:8080/"
        },
        "id": "LeUkd8D90xA8",
        "outputId": "6f800ccd-9108-47e9-b2c9-09d84d5bdb6a"
      },
      "execution_count": 60,
      "outputs": [
        {
          "output_type": "execute_result",
          "data": {
            "text/plain": [
              "40.0"
            ]
          },
          "metadata": {},
          "execution_count": 60
        }
      ]
    },
    {
      "cell_type": "code",
      "source": [
        "sözlük6[\"telefon2\"][\"samsung classic\"]"
      ],
      "metadata": {
        "colab": {
          "base_uri": "https://localhost:8080/"
        },
        "id": "ameZySkN2Jzl",
        "outputId": "ed7802e1-104c-48e4-841d-d4335b089329"
      },
      "execution_count": 61,
      "outputs": [
        {
          "output_type": "execute_result",
          "data": {
            "text/plain": [
              "[30.0, 35.0]"
            ]
          },
          "metadata": {},
          "execution_count": 61
        }
      ]
    },
    {
      "cell_type": "code",
      "source": [
        "sözlük6[\"telefon2\"][\"samsung classic\"][1]"
      ],
      "metadata": {
        "colab": {
          "base_uri": "https://localhost:8080/"
        },
        "id": "kKAg25fM2J9L",
        "outputId": "a67ed79e-59ea-4740-e5ef-8df6bb5e0e0e"
      },
      "execution_count": 62,
      "outputs": [
        {
          "output_type": "execute_result",
          "data": {
            "text/plain": [
              "35.0"
            ]
          },
          "metadata": {},
          "execution_count": 62
        }
      ]
    },
    {
      "cell_type": "code",
      "source": [
        "# Değer atama işlemi\n",
        "# Tanımlanan değer 1 iken kendimiz bunu 100 olarak değiştirdik\n",
        "\n",
        "sözlük7 = {  \"bir\":1,   \"iki\":2,    \"üç\":3 }\n",
        "sözlük7[\"bir\"] = 100\n",
        "print(sözlük7)"
      ],
      "metadata": {
        "colab": {
          "base_uri": "https://localhost:8080/"
        },
        "id": "4Usgaqv9vzFL",
        "outputId": "c2575141-fa30-4dae-93e7-4443b5e99e22"
      },
      "execution_count": 45,
      "outputs": [
        {
          "output_type": "stream",
          "name": "stdout",
          "text": [
            "{'bir': 100, 'iki': 2, 'üç': 3}\n"
          ]
        }
      ]
    },
    {
      "cell_type": "code",
      "source": [
        "#  \"keys()\" ifadesi sözlük içindeki tanımlanan anahtar kelimeleri bulur\n",
        "\n",
        "sözlük7.keys()"
      ],
      "metadata": {
        "colab": {
          "base_uri": "https://localhost:8080/"
        },
        "id": "CafsWmKuv74R",
        "outputId": "79ecc186-b6fe-4438-baa2-410485509d8b"
      },
      "execution_count": 46,
      "outputs": [
        {
          "output_type": "execute_result",
          "data": {
            "text/plain": [
              "dict_keys(['bir', 'iki', 'üç'])"
            ]
          },
          "metadata": {},
          "execution_count": 46
        }
      ]
    },
    {
      "cell_type": "code",
      "source": [
        "#  \"values()\" ifadesi sözlük içindeki atanan değerleri bulur\n",
        "\n",
        "sözlük7.values()"
      ],
      "metadata": {
        "colab": {
          "base_uri": "https://localhost:8080/"
        },
        "id": "GIa3MY2UxOj_",
        "outputId": "c4243709-aa33-4f0b-fbf3-13eb99ef2555"
      },
      "execution_count": 47,
      "outputs": [
        {
          "output_type": "execute_result",
          "data": {
            "text/plain": [
              "dict_values([100, 2, 3])"
            ]
          },
          "metadata": {},
          "execution_count": 47
        }
      ]
    },
    {
      "cell_type": "code",
      "source": [
        "#  \"items()\" ifadesi sözlük içindeki tanımlanan anahtar kelime ve değerleri demet halinde gösterir\n",
        "\n",
        "sözlük7.items()"
      ],
      "metadata": {
        "colab": {
          "base_uri": "https://localhost:8080/"
        },
        "id": "qQK-5aiLxeHX",
        "outputId": "dacb13bc-25f7-4f0a-a249-b16410870243"
      },
      "execution_count": 63,
      "outputs": [
        {
          "output_type": "execute_result",
          "data": {
            "text/plain": [
              "dict_items([('bir', 100), ('iki', 2), ('üç', 3)])"
            ]
          },
          "metadata": {},
          "execution_count": 63
        }
      ]
    },
    {
      "cell_type": "code",
      "source": [],
      "metadata": {
        "id": "WZt00AxSxlKJ"
      },
      "execution_count": null,
      "outputs": []
    }
  ]
}